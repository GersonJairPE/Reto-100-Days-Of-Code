{
 "cells": [
  {
   "cell_type": "markdown",
   "id": "16dcf616-d2b7-4ae0-86d2-3572069ae6b8",
   "metadata": {},
   "source": [
    "# Día 4 (#100DaysOfCode)"
   ]
  },
  {
   "cell_type": "markdown",
   "id": "cf68de8a-d2fa-4d20-9fc5-8b5a76815dbc",
   "metadata": {},
   "source": [
    "## 1. Creando un String"
   ]
  },
  {
   "cell_type": "code",
   "execution_count": 12,
   "id": "40984814-ed51-463c-b196-35a482e3dbae",
   "metadata": {},
   "outputs": [
    {
     "name": "stdout",
     "output_type": "stream",
     "text": [
      "esto es un string\n",
      "<class 'str'>\n",
      "cadena con comillas dobles\n",
      "<class 'str'>\n",
      "cadena con \n",
      "comillas triples\n",
      "y satos de linea\n",
      "<class 'str'>\n",
      "cadena con \n",
      "comillas triples\n",
      "comillas dobles y saltos de linea\n",
      "<class 'str'>\n",
      "17 26 45 62\n"
     ]
    }
   ],
   "source": [
    "string1 = 'esto es un string'\n",
    "print(string1)\n",
    "print(type(string1))\n",
    "\n",
    "string2 = \"cadena con comillas dobles\"\n",
    "print(string2)\n",
    "print(type(string2))\n",
    "\n",
    "string3 = \"\"\"cadena con \n",
    "comillas triples\n",
    "y satos de linea\"\"\"\n",
    "print(string3)\n",
    "print(type(string3))\n",
    "\n",
    "string4 = '''cadena con \n",
    "comillas triples\n",
    "comillas dobles y saltos de linea'''\n",
    "print(string4)\n",
    "print(type(string4))\n",
    "\n",
    "print(len(string1), len(string2), len(string3), len(string4))"
   ]
  },
  {
   "cell_type": "markdown",
   "id": "3faed9aa-10c2-4c3f-a808-2b2f8bad7e9b",
   "metadata": {},
   "source": [
    "## 2. Concatenación de cadenas"
   ]
  },
  {
   "cell_type": "code",
   "execution_count": 19,
   "id": "67e6bb1a-6411-49d0-8bba-8c8cd60b9cce",
   "metadata": {},
   "outputs": [
    {
     "name": "stdout",
     "output_type": "stream",
     "text": [
      "Gerson Pereyra 27\n",
      "6\n",
      "7\n",
      "2\n",
      "False\n"
     ]
    }
   ],
   "source": [
    "mi_nombre = \"Gerson\"\n",
    "Mi_apellidos = \"Pereyra\"\n",
    "Mi_edad = \"27\"\n",
    "\n",
    "# Para concatenar utilizamos '+'\n",
    "\n",
    "datos = mi_nombre+ ' ' + Mi_apellidos + ' ' + Mi_edad\n",
    "print(datos)\n",
    "\n",
    "print(len(mi_nombre))\n",
    "print(len(Mi_apellidos))\n",
    "print(len(Mi_edad))\n",
    "\n",
    "print(len(Mi_apellidos) < len(Mi_edad))"
   ]
  },
  {
   "cell_type": "markdown",
   "id": "8ad66be0-fd92-45cd-91d1-f32e6a3bc255",
   "metadata": {},
   "source": [
    "## 3. Caracteres Comodines"
   ]
  },
  {
   "cell_type": "code",
   "execution_count": 33,
   "id": "4a0c65b4-eb01-46d1-b483-9860f04dc7c0",
   "metadata": {},
   "outputs": [
    {
     "name": "stdout",
     "output_type": "stream",
     "text": [
      "Esto es un salto de linea \\n\n",
      "En la segunda linea hay un tabulador\t\\t\n",
      "Ahora es una barra invertida \\ \n",
      "Ahora viene una comillas simples'\n"
     ]
    }
   ],
   "source": [
    "# Salto de linea \\n\n",
    "# Tabulacion \\t\n",
    "# Barra invertida \\\\\n",
    "# Comillas \\'\n",
    "# Comillas dobles \\\"\n",
    "\n",
    "print(\"Esto es un salto de linea \\\\n\\nEn la segunda linea hay un tabulador\\t\\\\t\\nAhora es una barra invertida \\\\ \\nAhora viene una comillas simples\\'\")"
   ]
  },
  {
   "cell_type": "markdown",
   "id": "a6e839c7-39fa-47fb-bf1f-2212afd7bcc0",
   "metadata": {},
   "source": [
    "## 4. Formatos de Cadena"
   ]
  },
  {
   "cell_type": "code",
   "execution_count": 44,
   "id": "900aa188-c104-4104-9347-0a1ec1804217",
   "metadata": {},
   "outputs": [
    {
     "name": "stdout",
     "output_type": "stream",
     "text": [
      "Esto es el texto 1 y esto es el texto texto 2\n",
      "Aqui esta el numero 2 acompañado del numero 3.2\n",
      "Esto es una lista [1, 2, 3, 4]\n"
     ]
    }
   ],
   "source": [
    "# Metodo antiguo\n",
    "\n",
    "var = \"texto 1\"\n",
    "var2 = \"texto 2\"\n",
    "\n",
    "res = \"Esto es el %s y esto es el texto %s\" %(var, var2)\n",
    "print(res)\n",
    "\n",
    "num =2\n",
    "num2 = 3.2\n",
    "\n",
    "res2 = \"Aqui esta el numero %d acompañado del numero %.1f\" %(num, num2)\n",
    "print(res2)\n",
    "\n",
    "lista = [1,2,3,4]\n",
    "resultado = \"Esto es una lista %s\" %(lista)\n",
    "print(resultado)"
   ]
  },
  {
   "cell_type": "code",
   "execution_count": 49,
   "id": "22295a93-2f84-4520-a607-a7eeac44cb49",
   "metadata": {},
   "outputs": [
    {
     "name": "stdout",
     "output_type": "stream",
     "text": [
      "Esto es un texto 1 y esto es un texto 2\n",
      "Aqui esta el numero 2 acompañado del numero 3.20\n"
     ]
    }
   ],
   "source": [
    "# metodo str.format version 3 de python\n",
    "\n",
    "var = \"texto 1\"\n",
    "var2 = \"texto 2\"\n",
    "\n",
    "formato = \"Esto es un {} y esto es un {}\".format(var, var2)\n",
    "print(formato)\n",
    "\n",
    "\n",
    "num =2\n",
    "num2 = 3.2\n",
    "\n",
    "res2 = \"Aqui esta el numero {} acompañado del numero {:.2f}\".format(num, num2)\n",
    "print(res2)"
   ]
  },
  {
   "cell_type": "code",
   "execution_count": 53,
   "id": "519c1314-60e3-4b3e-9d72-5c7c0d98fef1",
   "metadata": {},
   "outputs": [
    {
     "name": "stdout",
     "output_type": "stream",
     "text": [
      "Esto es el texto 1 y el texto 2\n",
      "Aqui esta el numero 2 acompañado del numero 3.2000\n"
     ]
    }
   ],
   "source": [
    "# interpolacion de cadenas / cadenas f \n",
    "\n",
    "var = \"texto 1\"\n",
    "var2 = \"texto 2\"\n",
    "\n",
    "print(f'Esto es el {var} y el {var2}')\n",
    "\n",
    "num =2\n",
    "num2 = 3.2\n",
    "\n",
    "print(f\"Aqui esta el numero {num} acompañado del numero {num2:.4f}\")"
   ]
  },
  {
   "cell_type": "markdown",
   "id": "921fc101-1a0e-488a-bd55-d7ba9fb47a8f",
   "metadata": {},
   "source": [
    "## 5. Cadena de caracteres como secuencia"
   ]
  },
  {
   "cell_type": "code",
   "execution_count": 65,
   "id": "6c039e19-0483-40a2-867e-fe104f6701d9",
   "metadata": {},
   "outputs": [
    {
     "name": "stdout",
     "output_type": "stream",
     "text": [
      "<class 'str'>\n",
      "G\n",
      "<class 'str'>\n",
      "r\n",
      "n\n"
     ]
    }
   ],
   "source": [
    "name = \"Gerson\"\n",
    "a,b,c,d,e,f = name\n",
    "\n",
    "# accesos a caracteres por variables asignadas\n",
    "print(type(a))\n",
    "print(a)\n",
    "\n",
    "# accesos por indice\n",
    "print(type(name[0]))\n",
    "print(name[2])\n",
    "\n",
    "print(name[-1]) # ultimo caracter"
   ]
  },
  {
   "cell_type": "markdown",
   "id": "9abc1fd6-a6f6-4411-88b4-9f158426abed",
   "metadata": {},
   "source": [
    "## 6. Corte de cadenas"
   ]
  },
  {
   "cell_type": "code",
   "execution_count": 69,
   "id": "d36abdcc-9a74-44c5-8678-16b458607424",
   "metadata": {},
   "outputs": [
    {
     "name": "stdout",
     "output_type": "stream",
     "text": [
      "con\n",
      "cia\n",
      "cons\n"
     ]
    }
   ],
   "source": [
    "palabra = \"consecuancia\"\n",
    "\n",
    "# Primeras 3\n",
    "print(palabra[0:3])\n",
    "\n",
    "# ultimas 3\n",
    "print(palabra[-3:])\n",
    "\n",
    "print(palabra[:4])"
   ]
  },
  {
   "cell_type": "markdown",
   "id": "5378840a-41f1-4353-82f0-6e20a5942e7a",
   "metadata": {},
   "source": [
    "## 7. Invertir cadenas"
   ]
  },
  {
   "cell_type": "code",
   "execution_count": 70,
   "id": "af268ec7-e4c0-49ad-8019-7248a89262d6",
   "metadata": {},
   "outputs": [
    {
     "name": "stdout",
     "output_type": "stream",
     "text": [
      "ogidoc ed said 001 oteR\n"
     ]
    }
   ],
   "source": [
    "invertir = \"Reto 100 dias de codigo\"\n",
    "print(invertir[::-1])"
   ]
  },
  {
   "cell_type": "markdown",
   "id": "972517c0-895d-49b2-b50e-6fe8239eb519",
   "metadata": {},
   "source": [
    "## 8. Salto de caracteres con corte"
   ]
  },
  {
   "cell_type": "code",
   "execution_count": 72,
   "id": "17d1c289-92da-4a7b-ae1e-a84141bedfe7",
   "metadata": {},
   "outputs": [
    {
     "name": "stdout",
     "output_type": "stream",
     "text": [
      "hito\n"
     ]
    }
   ],
   "source": [
    "palabra = \"habilitado\"\n",
    "tre = palabra[0:len(palabra):3]\n",
    "print(tre)"
   ]
  },
  {
   "cell_type": "markdown",
   "id": "bda9e3b1-6e9e-4f40-a094-a61042fdd806",
   "metadata": {
    "tags": []
   },
   "source": [
    "## 9. Metodo de cadena ```variable.metodo()```"
   ]
  },
  {
   "cell_type": "code",
   "execution_count": 91,
   "id": "d771e447-e26c-408f-a1c2-e1122ae8c1f6",
   "metadata": {
    "tags": []
   },
   "outputs": [
    {
     "name": "stdout",
     "output_type": "stream",
     "text": [
      "Mi\tsueño\tes ser un data scientist\n",
      "3\n",
      "1\n",
      "True\n",
      "mi                  sueño               es ser un data scientist\n",
      "1\n",
      "3\n"
     ]
    }
   ],
   "source": [
    "palabra = \"mi\\tsueño\\tes ser un data scientist\"\n",
    "\n",
    "print(palabra.capitalize())\n",
    "print(palabra.count('i')) # Hay tres veces 'i'\n",
    "print(palabra.count('i', 0, 5))\n",
    "print(palabra.endswith('st')) # Indica si termina en los caracteres ingresados\n",
    "print(palabra.expandtabs(20))\n",
    "print(palabra.find('i')) # Nos indica el indice en el primero que encuentre\n",
    "print(palabra.find('sueño')) #primera posicion de la frase"
   ]
  },
  {
   "cell_type": "code",
   "execution_count": null,
   "id": "9ba8f2e7-78b8-45e0-8cb3-9b96cd9e029a",
   "metadata": {},
   "outputs": [],
   "source": []
  }
 ],
 "metadata": {
  "kernelspec": {
   "display_name": "Python 3 (ipykernel)",
   "language": "python",
   "name": "python3"
  },
  "language_info": {
   "codemirror_mode": {
    "name": "ipython",
    "version": 3
   },
   "file_extension": ".py",
   "mimetype": "text/x-python",
   "name": "python",
   "nbconvert_exporter": "python",
   "pygments_lexer": "ipython3",
   "version": "3.9.12"
  }
 },
 "nbformat": 4,
 "nbformat_minor": 5
}
