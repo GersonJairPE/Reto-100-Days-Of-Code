{
 "cells": [
  {
   "cell_type": "markdown",
   "id": "e2e64aa5-2e17-4d3d-a5fa-909836fe12e4",
   "metadata": {},
   "source": [
    "# Día 11 (#100DaysOfCode)"
   ]
  },
  {
   "cell_type": "code",
   "execution_count": 1,
   "id": "1b93548d-0cde-4a7c-8abc-542e73945e59",
   "metadata": {},
   "outputs": [],
   "source": [
    "# continuando con la parte de diccionarios"
   ]
  },
  {
   "cell_type": "markdown",
   "id": "4482216d-c7a6-4f59-b382-30645de63f49",
   "metadata": {},
   "source": [
    "## 1. Modificacion de elementos"
   ]
  },
  {
   "cell_type": "code",
   "execution_count": 2,
   "id": "9b3777dc-4c28-4032-bc85-e07df00a3f76",
   "metadata": {},
   "outputs": [
    {
     "name": "stdout",
     "output_type": "stream",
     "text": [
      "{'key1': 'value1', 'key2': 'value2'}\n",
      "{'key1': 'valueeeeee', 'key2': 'value2'}\n"
     ]
    }
   ],
   "source": [
    "diccionario = {'key1':'value1', 'key2':'value2'}\n",
    "print(diccionario)\n",
    "diccionario['key1'] = 'valueeeeee'\n",
    "print(diccionario)"
   ]
  },
  {
   "cell_type": "markdown",
   "id": "c7a8254c-b546-4aba-9cb7-0448dc631532",
   "metadata": {},
   "source": [
    "## 2. comprobación de key ```in```"
   ]
  },
  {
   "cell_type": "code",
   "execution_count": 7,
   "id": "f16039d1-4484-4574-a488-f74d497b08c0",
   "metadata": {},
   "outputs": [
    {
     "data": {
      "text/plain": [
       "True"
      ]
     },
     "execution_count": 7,
     "metadata": {},
     "output_type": "execute_result"
    }
   ],
   "source": [
    "dicc = {'k1':'v1', 'k2':'v2', 'k3':'v3'}\n",
    "'k1' in dicc"
   ]
  },
  {
   "cell_type": "markdown",
   "id": "efc3aaa1-bfb3-4ba3-b3f1-aa7935ec1c3a",
   "metadata": {},
   "source": [
    "## 3. Eliminación de elementos\n",
    "- ```.pop(clave)``` elemento cuya clave se envia\n",
    "- ```.popitem()``` ultimo elemento\n",
    "- ```del``` elemento con clave dada"
   ]
  },
  {
   "cell_type": "code",
   "execution_count": 12,
   "id": "95179d74-c49f-4dda-b22a-3a4ae895394c",
   "metadata": {},
   "outputs": [
    {
     "name": "stdout",
     "output_type": "stream",
     "text": [
      "{'k2': 'v2', 'k3': 'v3', 'k4': 'v4'}\n",
      "{'k2': 'v2', 'k3': 'v3'}\n",
      "{'k3': 'v3'}\n"
     ]
    }
   ],
   "source": [
    "dicc = {'k1':'v1', 'k2':'v2', 'k3':'v3', 'k4':'v4'}\n",
    "dicc.pop('k1')\n",
    "print(dicc)\n",
    "dicc.popitem()\n",
    "print(dicc)\n",
    "del dicc['k2']\n",
    "print(dicc)"
   ]
  },
  {
   "cell_type": "markdown",
   "id": "8a0ee8f7-90d8-48f7-9433-09f4094eefc1",
   "metadata": {},
   "source": [
    "## 4. Limpieza diccionario ```.clear()```"
   ]
  },
  {
   "cell_type": "code",
   "execution_count": 13,
   "id": "375ba164-e704-425b-b7cf-e9e7bbe413d4",
   "metadata": {},
   "outputs": [
    {
     "data": {
      "text/plain": [
       "{}"
      ]
     },
     "execution_count": 13,
     "metadata": {},
     "output_type": "execute_result"
    }
   ],
   "source": [
    "dicc = {'k1':'v1', 'k2':'v2', 'k3':'v3', 'k4':'v4'}\n",
    "dicc.clear()\n",
    "dicc"
   ]
  },
  {
   "cell_type": "markdown",
   "id": "901bb482-c65b-4795-a34f-b4265cbe5466",
   "metadata": {},
   "source": [
    "## 5. eliminacion total del diccionario"
   ]
  },
  {
   "cell_type": "code",
   "execution_count": 14,
   "id": "096497d2-b735-4e46-9741-1cac080d516e",
   "metadata": {},
   "outputs": [
    {
     "ename": "NameError",
     "evalue": "name 'dicc' is not defined",
     "output_type": "error",
     "traceback": [
      "\u001b[1;31m---------------------------------------------------------------------------\u001b[0m",
      "\u001b[1;31mNameError\u001b[0m                                 Traceback (most recent call last)",
      "Input \u001b[1;32mIn [14]\u001b[0m, in \u001b[0;36m<cell line: 3>\u001b[1;34m()\u001b[0m\n\u001b[0;32m      1\u001b[0m dicc \u001b[38;5;241m=\u001b[39m {\u001b[38;5;124m'\u001b[39m\u001b[38;5;124mk1\u001b[39m\u001b[38;5;124m'\u001b[39m:\u001b[38;5;124m'\u001b[39m\u001b[38;5;124mv1\u001b[39m\u001b[38;5;124m'\u001b[39m, \u001b[38;5;124m'\u001b[39m\u001b[38;5;124mk2\u001b[39m\u001b[38;5;124m'\u001b[39m:\u001b[38;5;124m'\u001b[39m\u001b[38;5;124mv2\u001b[39m\u001b[38;5;124m'\u001b[39m, \u001b[38;5;124m'\u001b[39m\u001b[38;5;124mk3\u001b[39m\u001b[38;5;124m'\u001b[39m:\u001b[38;5;124m'\u001b[39m\u001b[38;5;124mv3\u001b[39m\u001b[38;5;124m'\u001b[39m, \u001b[38;5;124m'\u001b[39m\u001b[38;5;124mk4\u001b[39m\u001b[38;5;124m'\u001b[39m:\u001b[38;5;124m'\u001b[39m\u001b[38;5;124mv4\u001b[39m\u001b[38;5;124m'\u001b[39m}\n\u001b[0;32m      2\u001b[0m \u001b[38;5;28;01mdel\u001b[39;00m dicc\n\u001b[1;32m----> 3\u001b[0m \u001b[43mdicc\u001b[49m\n",
      "\u001b[1;31mNameError\u001b[0m: name 'dicc' is not defined"
     ]
    }
   ],
   "source": [
    "dicc = {'k1':'v1', 'k2':'v2', 'k3':'v3', 'k4':'v4'}\n",
    "del dicc\n",
    "dicc"
   ]
  },
  {
   "cell_type": "markdown",
   "id": "e985868d-531f-4fa7-b93d-e3ef1a60b5a0",
   "metadata": {},
   "source": [
    "## 6. copia de un diccionario"
   ]
  },
  {
   "cell_type": "code",
   "execution_count": 15,
   "id": "d99ed0d6-2031-41d8-b1f4-42a55734ef11",
   "metadata": {},
   "outputs": [
    {
     "data": {
      "text/plain": [
       "{'k1': 'v1', 'k2': 'v2', 'k3': 'v3', 'k4': 'v4'}"
      ]
     },
     "execution_count": 15,
     "metadata": {},
     "output_type": "execute_result"
    }
   ],
   "source": [
    "dicc = {'k1':'v1', 'k2':'v2', 'k3':'v3', 'k4':'v4'}\n",
    "dicc2 = dicc.copy()\n",
    "dicc2"
   ]
  },
  {
   "cell_type": "markdown",
   "id": "2ec5ac2c-58d3-45f3-ad30-4b57bcabc03e",
   "metadata": {},
   "source": [
    "## 7. Obtencion de keys / values como lista ```.keys()``` / ```.values()```"
   ]
  },
  {
   "cell_type": "code",
   "execution_count": 22,
   "id": "f5fcb8dc-c399-4a7c-838a-8532dacd3071",
   "metadata": {},
   "outputs": [
    {
     "data": {
      "text/plain": [
       "['k1', 'k2', 'k3', 'k4']"
      ]
     },
     "execution_count": 22,
     "metadata": {},
     "output_type": "execute_result"
    }
   ],
   "source": [
    "# claves\n",
    "dicc = {'k1':'v1', 'k2':'v2', 'k3':'v3', 'k4':'v4'}\n",
    "keys = list(dicc.keys())\n",
    "keys"
   ]
  },
  {
   "cell_type": "code",
   "execution_count": 24,
   "id": "1f329d9b-371e-4783-9b18-6d1391050b82",
   "metadata": {},
   "outputs": [
    {
     "data": {
      "text/plain": [
       "['v1', 'v2', 'v3', 'v4']"
      ]
     },
     "execution_count": 24,
     "metadata": {},
     "output_type": "execute_result"
    }
   ],
   "source": [
    "# values\n",
    "dicc = {'k1':'v1', 'k2':'v2', 'k3':'v3', 'k4':'v4'}\n",
    "values = list(dicc.values())\n",
    "values"
   ]
  },
  {
   "cell_type": "markdown",
   "id": "1855baa5-d9f5-4d48-a2ba-cadcb434eea9",
   "metadata": {},
   "source": [
    "## Ejercicios"
   ]
  },
  {
   "cell_type": "code",
   "execution_count": 26,
   "id": "382ad209-4efe-4225-a554-b2e03912234a",
   "metadata": {},
   "outputs": [
    {
     "data": {
      "text/plain": [
       "{}"
      ]
     },
     "execution_count": 26,
     "metadata": {},
     "output_type": "execute_result"
    }
   ],
   "source": [
    "#1\n",
    "\n",
    "perro = dict()\n",
    "perro"
   ]
  },
  {
   "cell_type": "code",
   "execution_count": 27,
   "id": "60c620a0-4739-40ac-a00a-5ad70823b91c",
   "metadata": {},
   "outputs": [
    {
     "data": {
      "text/plain": [
       "{'nombre': 'moscu', 'color': 'negro', 'raza': 'cruzado', 'patas': 4, 'edad': 4}"
      ]
     },
     "execution_count": 27,
     "metadata": {},
     "output_type": "execute_result"
    }
   ],
   "source": [
    "perro = {\"nombre\":\"moscu\", \n",
    "         \"color\":\"negro\", \n",
    "         \"raza\": \"cruzado\", \n",
    "         \"patas\": 4, \n",
    "         \"edad\": 4}\n",
    "perro"
   ]
  },
  {
   "cell_type": "code",
   "execution_count": 31,
   "id": "2e7a17b1-7fc8-4a19-a7f7-6af92e0a8e64",
   "metadata": {},
   "outputs": [
    {
     "data": {
      "text/plain": [
       "{'nombre': 'Gerson',\n",
       " 'apellido': 'Pereyra',\n",
       " 'sexo': 'masculino',\n",
       " 'edad': 27,\n",
       " 'estado civil': 'soltero',\n",
       " 'habilidades': ['organizado', 'puntual', 'consejero'],\n",
       " 'país': 'Perú',\n",
       " 'ciudad': 'Lima',\n",
       " 'dirección': 'Urb. Los JAzmines - Independencia'}"
      ]
     },
     "execution_count": 31,
     "metadata": {},
     "output_type": "execute_result"
    }
   ],
   "source": [
    "estudiante = {\"nombre\":\"Gerson\", \n",
    "              \"apellido\":\"Pereyra\", \n",
    "              \"sexo\":\"masculino\", \n",
    "              \"edad\":27, \n",
    "              \"estado civil\":\"soltero\", \n",
    "              \"habilidades\":['organizado', 'puntual', 'consejero'], \n",
    "              \"país\":\"Perú\", \n",
    "              \"ciudad\": \"Lima\", \n",
    "              \"dirección\":\"Urb. Los JAzmines - Independencia\"}\n",
    "estudiante"
   ]
  },
  {
   "cell_type": "code",
   "execution_count": 30,
   "id": "db04f493-1db7-41ab-9cc7-6427593203a6",
   "metadata": {},
   "outputs": [
    {
     "data": {
      "text/plain": [
       "9"
      ]
     },
     "execution_count": 30,
     "metadata": {},
     "output_type": "execute_result"
    }
   ],
   "source": [
    "len(estudiante)"
   ]
  },
  {
   "cell_type": "code",
   "execution_count": 35,
   "id": "dee2a397-d200-4cf4-9e67-25edf738f272",
   "metadata": {},
   "outputs": [
    {
     "data": {
      "text/plain": [
       "(['organizado', 'puntual', 'consejero'], list)"
      ]
     },
     "execution_count": 35,
     "metadata": {},
     "output_type": "execute_result"
    }
   ],
   "source": [
    "estudiante['habilidades'], type(estudiante['habilidades'])"
   ]
  },
  {
   "cell_type": "code",
   "execution_count": 39,
   "id": "eef8a84f-1fa4-45ce-9a4f-7385d4e0c5bb",
   "metadata": {},
   "outputs": [],
   "source": [
    "estudiante['habilidades'].append('exigente')\n"
   ]
  },
  {
   "cell_type": "code",
   "execution_count": 41,
   "id": "ce97f33c-3f6d-49fd-9b6c-c28c715a8f1a",
   "metadata": {},
   "outputs": [
    {
     "data": {
      "text/plain": [
       "['organizado', 'puntual', 'consejero', 'exigente']"
      ]
     },
     "execution_count": 41,
     "metadata": {},
     "output_type": "execute_result"
    }
   ],
   "source": [
    "estudiante['habilidades']"
   ]
  },
  {
   "cell_type": "code",
   "execution_count": 42,
   "id": "07b826e5-9a56-4f7b-a554-2d6ab0ade7c2",
   "metadata": {},
   "outputs": [
    {
     "name": "stdout",
     "output_type": "stream",
     "text": [
      "dict_keys(['nombre', 'apellido', 'sexo', 'edad', 'estado civil', 'habilidades', 'país', 'ciudad', 'dirección'])\n",
      "dict_values(['Gerson', 'Pereyra', 'masculino', 27, 'soltero', ['organizado', 'puntual', 'consejero', 'exigente'], 'Perú', 'Lima', 'Urb. Los JAzmines - Independencia'])\n"
     ]
    }
   ],
   "source": [
    "print(estudiante.keys())\n",
    "print(estudiante.values())"
   ]
  },
  {
   "cell_type": "code",
   "execution_count": 45,
   "id": "d804d677-82a6-479c-9199-f2bf8b7a80a4",
   "metadata": {},
   "outputs": [
    {
     "data": {
      "text/plain": [
       "dict_items([('nombre', 'Gerson'), ('apellido', 'Pereyra'), ('sexo', 'masculino'), ('edad', 27), ('estado civil', 'soltero'), ('habilidades', ['organizado', 'puntual', 'consejero', 'exigente']), ('país', 'Perú'), ('ciudad', 'Lima'), ('dirección', 'Urb. Los JAzmines - Independencia')])"
      ]
     },
     "execution_count": 45,
     "metadata": {},
     "output_type": "execute_result"
    }
   ],
   "source": [
    "f = estudiante.items()\n",
    "f"
   ]
  },
  {
   "cell_type": "code",
   "execution_count": 46,
   "id": "2bb2c972-8f38-4c56-9c71-4321ad359753",
   "metadata": {},
   "outputs": [
    {
     "data": {
      "text/plain": [
       "{'nombre': 'Gerson',\n",
       " 'apellido': 'Pereyra',\n",
       " 'sexo': 'masculino',\n",
       " 'edad': 27,\n",
       " 'estado civil': 'soltero',\n",
       " 'habilidades': ['organizado', 'puntual', 'consejero', 'exigente'],\n",
       " 'país': 'Perú',\n",
       " 'ciudad': 'Lima'}"
      ]
     },
     "execution_count": 46,
     "metadata": {},
     "output_type": "execute_result"
    }
   ],
   "source": [
    "estudiante.popitem()\n",
    "estudiante"
   ]
  },
  {
   "cell_type": "code",
   "execution_count": 47,
   "id": "e5d68ad5-9d62-4064-b350-6fea1f34ffaf",
   "metadata": {},
   "outputs": [],
   "source": [
    "del estudiante"
   ]
  },
  {
   "cell_type": "code",
   "execution_count": 48,
   "id": "00ee6ab3-cbc9-486e-8eb8-650416ea0165",
   "metadata": {},
   "outputs": [
    {
     "ename": "NameError",
     "evalue": "name 'estudiante' is not defined",
     "output_type": "error",
     "traceback": [
      "\u001b[1;31m---------------------------------------------------------------------------\u001b[0m",
      "\u001b[1;31mNameError\u001b[0m                                 Traceback (most recent call last)",
      "Input \u001b[1;32mIn [48]\u001b[0m, in \u001b[0;36m<cell line: 1>\u001b[1;34m()\u001b[0m\n\u001b[1;32m----> 1\u001b[0m \u001b[43mestudiante\u001b[49m\n",
      "\u001b[1;31mNameError\u001b[0m: name 'estudiante' is not defined"
     ]
    }
   ],
   "source": [
    "estudiante"
   ]
  },
  {
   "cell_type": "markdown",
   "id": "280399c1-00c6-43ba-9f8f-27c37946dd7d",
   "metadata": {},
   "source": [
    "# CONDICIONALES"
   ]
  },
  {
   "cell_type": "markdown",
   "id": "1b83f8a5-cfa1-4c93-99fd-5adb7889cfbe",
   "metadata": {},
   "source": [
    "## 1. if"
   ]
  },
  {
   "cell_type": "code",
   "execution_count": 52,
   "id": "466b7381-0d49-4295-bbd7-554384657a92",
   "metadata": {},
   "outputs": [],
   "source": [
    "a = 4\n",
    "b = 13\n",
    "\n",
    "if a>b:\n",
    "    print(f\"{a} es mayor que {b}\")"
   ]
  },
  {
   "cell_type": "markdown",
   "id": "88fdf044-0411-45e6-b3e7-43569a80b7ce",
   "metadata": {},
   "source": [
    "## 2. if - else"
   ]
  },
  {
   "cell_type": "code",
   "execution_count": 53,
   "id": "41cc09f2-d380-43aa-93d4-4a5f287b374e",
   "metadata": {},
   "outputs": [
    {
     "name": "stdout",
     "output_type": "stream",
     "text": [
      "13 es mayor o igual que 4\n"
     ]
    }
   ],
   "source": [
    "a = 4\n",
    "b = 13\n",
    "\n",
    "if a>b:\n",
    "    print(f\"{a} es mayor que {b}\")\n",
    "else:\n",
    "    print(f\"{b} es mayor o igual que {a}\")"
   ]
  },
  {
   "cell_type": "markdown",
   "id": "5eca8be1-9ba2-4a51-afc9-2dde215ed76d",
   "metadata": {},
   "source": [
    "## 3. elif"
   ]
  },
  {
   "cell_type": "code",
   "execution_count": 56,
   "id": "ac143495-62dc-455c-a472-79e15b92f994",
   "metadata": {},
   "outputs": [
    {
     "name": "stdout",
     "output_type": "stream",
     "text": [
      "13 es igual a 13\n"
     ]
    }
   ],
   "source": [
    "a = 13\n",
    "b = 13\n",
    "\n",
    "if a>b:\n",
    "    print(f\"{a} es mayor que {b}\")\n",
    "elif a==b:\n",
    "    print(f\"{a} es igual a {b}\")\n",
    "else:\n",
    "    print(f\"{b} es mayor que {a}\")"
   ]
  },
  {
   "cell_type": "markdown",
   "id": "b773d50b-c123-4814-8826-50ccfd977735",
   "metadata": {},
   "source": [
    "## 4. Simplificando"
   ]
  },
  {
   "cell_type": "code",
   "execution_count": 57,
   "id": "1a2fbb1c-a201-46ac-9aef-07556b5fa9db",
   "metadata": {},
   "outputs": [
    {
     "name": "stdout",
     "output_type": "stream",
     "text": [
      "13 es mayor o igual que 13\n"
     ]
    }
   ],
   "source": [
    "a = 13\n",
    "b = 13\n",
    "\n",
    "print(f\"{a} es mayor que {b}\") if a>b else print(f\"{b} es mayor o igual que {a}\")"
   ]
  },
  {
   "cell_type": "markdown",
   "id": "013cc46a-866c-436c-bc3b-1f8b8181de88",
   "metadata": {},
   "source": [
    "## 5. Condiciones anidadas"
   ]
  },
  {
   "cell_type": "code",
   "execution_count": 60,
   "id": "f89b8a2b-6330-443e-90ee-ad2aa0f5cf11",
   "metadata": {},
   "outputs": [
    {
     "name": "stdout",
     "output_type": "stream",
     "text": [
      "21 es mayor que 13\n",
      "21 es impar\n"
     ]
    }
   ],
   "source": [
    "a = 21\n",
    "b = 13\n",
    "\n",
    "if a>b:\n",
    "    print(f\"{a} es mayor que {b}\")\n",
    "    if a%2 == 0:\n",
    "        print(f\"{a} es multiplo de 2\")\n",
    "    else:\n",
    "        print(f\"{a} es impar\")\n",
    "else:\n",
    "    print(f\"{b} es mayor o igual que {a}\")"
   ]
  },
  {
   "cell_type": "markdown",
   "id": "f77eca49-1cef-435f-8bb2-defb8a688cf9",
   "metadata": {},
   "source": [
    "## 6. Condicionales con operadores logicos"
   ]
  },
  {
   "cell_type": "code",
   "execution_count": 69,
   "id": "de3fde9b-f41f-43fc-8a40-7c2153a5cd71",
   "metadata": {},
   "outputs": [
    {
     "name": "stdout",
     "output_type": "stream",
     "text": [
      "0 no es positivo ni negativo\n"
     ]
    }
   ],
   "source": [
    "a = 0\n",
    "b = 2\n",
    "\n",
    "if a>0 and a>b:\n",
    "    print(f\"{a} es mayor que {b} y {a} es positivo\")\n",
    "elif a < 0 and a<b:\n",
    "    print(f\"{a} es negativo y menor que {b}\")\n",
    "else:\n",
    "    print(f\"{a} no es positivo ni negativo\")"
   ]
  },
  {
   "cell_type": "code",
   "execution_count": 73,
   "id": "36d86132-d500-4745-9153-ea362fc61390",
   "metadata": {},
   "outputs": [
    {
     "name": "stdout",
     "output_type": "stream",
     "text": [
      "2 es positivo o multiplo de 2\n"
     ]
    }
   ],
   "source": [
    "a = 2\n",
    "\n",
    "if a>0 or a%2 == 0:\n",
    "    print(f\"{a} es positivo o multiplo de 2\")\n",
    "else:\n",
    "    print(f\"{a} es negativo o impar\")"
   ]
  },
  {
   "cell_type": "code",
   "execution_count": null,
   "id": "cfd69ed1-79c5-4ef6-8777-bbe9e759d7de",
   "metadata": {},
   "outputs": [],
   "source": []
  }
 ],
 "metadata": {
  "kernelspec": {
   "display_name": "Python 3 (ipykernel)",
   "language": "python",
   "name": "python3"
  },
  "language_info": {
   "codemirror_mode": {
    "name": "ipython",
    "version": 3
   },
   "file_extension": ".py",
   "mimetype": "text/x-python",
   "name": "python",
   "nbconvert_exporter": "python",
   "pygments_lexer": "ipython3",
   "version": "3.9.12"
  }
 },
 "nbformat": 4,
 "nbformat_minor": 5
}
