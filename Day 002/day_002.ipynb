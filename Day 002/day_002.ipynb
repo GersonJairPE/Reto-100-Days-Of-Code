{
 "cells": [
  {
   "cell_type": "markdown",
   "id": "ab4ee52a-361a-4cc6-b734-33128d479025",
   "metadata": {},
   "source": [
    "# Día 2 (#100DaysOfCode)"
   ]
  },
  {
   "cell_type": "markdown",
   "id": "b4db325f-ccf3-4b3d-9442-a8e2fba193c0",
   "metadata": {},
   "source": [
    "## 1. Función ```input```"
   ]
  },
  {
   "cell_type": "code",
   "execution_count": 1,
   "id": "7b838d13-c893-48fa-9430-5b655488b90b",
   "metadata": {
    "ExecuteTime": {
     "end_time": "2023-07-23T17:57:36.041295100Z",
     "start_time": "2023-07-23T17:57:20.632896200Z"
    }
   },
   "outputs": [
    {
     "name": "stdout",
     "output_type": "stream",
     "text": [
      "Hola, tu eres Gerson y tu edad es 28\n"
     ]
    }
   ],
   "source": [
    "nombre = input(\"ingresa tu nombre: \")\n",
    "edad = input(\"ingresa tu edad: \")\n",
    "print(\"Hola, tu eres \" + nombre + \" y tu edad es \" + edad)"
   ]
  },
  {
   "cell_type": "markdown",
   "id": "9c2fa8f0-5317-4a0b-9b6c-afee32c6db1e",
   "metadata": {},
   "source": [
    "## 2. Listas"
   ]
  },
  {
   "cell_type": "code",
   "execution_count": 2,
   "id": "c8f8d967-35f5-4da2-b0fb-46bf3cd6f8a5",
   "metadata": {
    "ExecuteTime": {
     "end_time": "2023-07-23T17:58:39.813625500Z",
     "start_time": "2023-07-23T17:58:39.797584400Z"
    }
   },
   "outputs": [
    {
     "name": "stdout",
     "output_type": "stream",
     "text": [
      "[1, 2, 3, 4]\n",
      "<class 'list'>\n",
      "['cadena', 1, 1.2, True]\n",
      "<class 'list'>\n"
     ]
    }
   ],
   "source": [
    "# Ordenados\n",
    "# Igual o diferentes valores\n",
    "\n",
    "lista1 = [1, 2 ,3 ,4]\n",
    "lista2 = [\"cadena\", 1, 1.2, True]\n",
    "\n",
    "print(lista1)\n",
    "print(type(lista1))\n",
    "\n",
    "print(lista2)\n",
    "print(type(lista2))"
   ]
  },
  {
   "cell_type": "markdown",
   "id": "01bc8cc2-7a89-403f-9bec-1c80190a50f6",
   "metadata": {
    "tags": []
   },
   "source": [
    "## 3. Diccionarios"
   ]
  },
  {
   "cell_type": "code",
   "execution_count": 10,
   "id": "84eade72-9651-464b-8356-fe422a3709db",
   "metadata": {},
   "outputs": [
    {
     "name": "stdout",
     "output_type": "stream",
     "text": [
      "{'key1': 'valor1', 'key2': 123, 'key3': True, 'key4': 4.5, 'key5': [1, True, 'tres']}\n",
      "<class 'dict'>\n"
     ]
    }
   ],
   "source": [
    "# Desordenados\n",
    "# Llave - valor\n",
    "# Igual o diferentes valores\n",
    "\n",
    "diccionario = {'key1': \"valor1\", \n",
    "               'key2': 123,\n",
    "               'key3': True,\n",
    "               'key4': 4.5,\n",
    "               'key5': [1, True, \"tres\"]}\n",
    "\n",
    "print(diccionario)\n",
    "print(type(diccionario))\n"
   ]
  },
  {
   "cell_type": "markdown",
   "id": "0b58b524-ef43-4d6b-aa29-09092d0e32ce",
   "metadata": {},
   "source": [
    "## 4. Tuplas"
   ]
  },
  {
   "cell_type": "code",
   "execution_count": 25,
   "id": "31e3eefa-e34f-4dc4-a35a-174b921a08a3",
   "metadata": {},
   "outputs": [
    {
     "name": "stdout",
     "output_type": "stream",
     "text": [
      "(10, True, 'cadena', 3.4, 20)\n",
      "<class 'tuple'>\n"
     ]
    }
   ],
   "source": [
    "# Ordenados\n",
    "# Inmutables (No se pueden modificar después de ser creadas)\n",
    "\n",
    "tupla = (10, True, \"cadena\", 3.4, 20)\n",
    "print(tupla)\n",
    "print(type(tupla))"
   ]
  },
  {
   "cell_type": "markdown",
   "id": "4bd04d80-9fd1-4011-be35-7891c2b2aa3f",
   "metadata": {},
   "source": [
    "## 5. Conjuntos"
   ]
  },
  {
   "cell_type": "code",
   "execution_count": 21,
   "id": "4f7b6605-2c7e-4042-a0fc-d685e5eaa7d0",
   "metadata": {},
   "outputs": [
    {
     "name": "stdout",
     "output_type": "stream",
     "text": [
      "{True, 3}\n",
      "<class 'set'>\n"
     ]
    }
   ],
   "source": [
    "# Desordenado\n",
    "# Valores unicos\n",
    "# Igual o diferentes valores\n",
    "\n",
    "conjunto = {3, True, 3, 3}\n",
    "print(conjunto)\n",
    "print(type(conjunto))"
   ]
  }
 ],
 "metadata": {
  "kernelspec": {
   "display_name": "Python 3 (ipykernel)",
   "language": "python",
   "name": "python3"
  },
  "language_info": {
   "codemirror_mode": {
    "name": "ipython",
    "version": 3
   },
   "file_extension": ".py",
   "mimetype": "text/x-python",
   "name": "python",
   "nbconvert_exporter": "python",
   "pygments_lexer": "ipython3",
   "version": "3.9.12"
  }
 },
 "nbformat": 4,
 "nbformat_minor": 5
}
