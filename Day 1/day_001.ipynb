{
 "cells": [
  {
   "cell_type": "markdown",
   "id": "c625af79-d10c-4189-9c7e-7085289b7dd3",
   "metadata": {
    "tags": []
   },
   "source": [
    "# Día 1 (#100DaysOfCode)"
   ]
  },
  {
   "cell_type": "markdown",
   "id": "4a9ffc3d-73ba-46b1-82ae-731359a20466",
   "metadata": {},
   "source": [
    "## 1. Comentarios"
   ]
  },
  {
   "cell_type": "code",
   "execution_count": 42,
   "id": "85cf4e5c-0278-427f-97ef-b77e54bb5312",
   "metadata": {},
   "outputs": [
    {
     "name": "stdout",
     "output_type": "stream",
     "text": [
      "hola mundo, soy gerson\n"
     ]
    }
   ],
   "source": [
    "# Este es un primer paso para programar en python\n",
    "\"\"\"\n",
    "Primero comentamos \n",
    "varias lineas con las dobles comillas tres veces\n",
    "\"\"\"\n",
    "# Ahora hacemos un print\n",
    "print(\"hola mundo, soy gerson\")"
   ]
  },
  {
   "cell_type": "markdown",
   "id": "80260110-0ee4-4bdb-9b63-28aa244ac593",
   "metadata": {},
   "source": [
    "## 2. Tipos de datos"
   ]
  },
  {
   "cell_type": "code",
   "execution_count": 45,
   "id": "a6d27632-13de-4a89-96b2-289bc5908be6",
   "metadata": {},
   "outputs": [
    {
     "name": "stdout",
     "output_type": "stream",
     "text": [
      "<class 'str'>\n",
      "<class 'int'>\n",
      "<class 'float'>\n",
      "<class 'bool'>\n",
      "<class 'complex'>\n"
     ]
    }
   ],
   "source": [
    "cadena = \"Hola soy gerson\"\n",
    "print(type(cadena))\n",
    "\n",
    "entero = 1\n",
    "print(type(entero))\n",
    "\n",
    "decimal = 1.1\n",
    "print(type(decimal))\n",
    "\n",
    "buleano = True\n",
    "print(type(buleano))\n",
    "\n",
    "complejo = 2+4j\n",
    "print(type(complejo))"
   ]
  },
  {
   "cell_type": "markdown",
   "id": "ed291869-8b9e-4026-bb03-272befa41ff1",
   "metadata": {},
   "source": [
    "## 3. Variables (nomenclatura)"
   ]
  },
  {
   "cell_type": "code",
   "execution_count": 15,
   "id": "45cc1915-89d5-423d-803f-d45ad0a2256d",
   "metadata": {},
   "outputs": [
    {
     "name": "stdout",
     "output_type": "stream",
     "text": [
      "variable en formato camelCase\n",
      "variable en formato snake_case\n",
      "64\n",
      "True\n"
     ]
    }
   ],
   "source": [
    "# Ejemplos de buenas practicar para nombrar variables\n",
    "\n",
    "# camelCase (No es de buenas practicas)\n",
    "\n",
    "miVariable = \"variable en formato camelCase\" \n",
    "print(miVariable)\n",
    "\n",
    "# snake_case (Es de buena practica)\n",
    "\n",
    "mi_variable = \"variable en formato snake_case\"\n",
    "print(mi_variable)\n",
    "\n",
    "segunda_variable2 = 64\n",
    "print(otra_variable1)\n",
    "\n",
    "tercera_variable3 = True\n",
    "print(tercera_variable)"
   ]
  },
  {
   "cell_type": "markdown",
   "id": "c740b51f-18c8-4146-b1bc-0b51fad16460",
   "metadata": {},
   "source": [
    "## 4. Más sobre la función ```print```"
   ]
  },
  {
   "cell_type": "code",
   "execution_count": 26,
   "id": "efc2e8d0-2be7-40a9-8137-ae7e40ba3093",
   "metadata": {},
   "outputs": [
    {
     "name": "stdout",
     "output_type": "stream",
     "text": [
      "variable en formato snake_case 64\n",
      "Concatenando el valor de:  64\n"
     ]
    }
   ],
   "source": [
    "# Concatena las variables separadas por comas en una sola cadena de texto concatenada\n",
    "print(mi_variable, segunda_variable2)\n",
    "print(\"Concatenando el valor de: \", segunda_variable2)"
   ]
  },
  {
   "cell_type": "markdown",
   "id": "f4c33fb0-1525-4228-8208-d2ed114d8bf8",
   "metadata": {},
   "source": [
    "## 5.  Transformaciones de datos"
   ]
  },
  {
   "cell_type": "code",
   "execution_count": 31,
   "id": "1159cca3-db07-4c21-b830-17d9428291d4",
   "metadata": {},
   "outputs": [
    {
     "name": "stdout",
     "output_type": "stream",
     "text": [
      "<class 'str'>\n",
      "<class 'int'>\n",
      "<class 'float'>\n"
     ]
    }
   ],
   "source": [
    "# Entero a caracter\n",
    "var_entero = 54\n",
    "var_caracter = str(var_entero)\n",
    "print(type(var_caracter))\n",
    "\n",
    "# Caracter a entero\n",
    "var_cadena = '10'\n",
    "var_entero = int(var_cadena)\n",
    "print(type(var_entero))\n",
    "\n",
    "# caracter a decimal\n",
    "var_cadena = \"10\"\n",
    "var_decimal = float(var_cadena)\n",
    "print(type(var_decimal))"
   ]
  },
  {
   "cell_type": "markdown",
   "id": "29d9847d-aa12-46e4-98b0-ff0c20bb2571",
   "metadata": {},
   "source": [
    "## 6. Operaciones"
   ]
  },
  {
   "cell_type": "code",
   "execution_count": 40,
   "id": "be89af8a-d173-4d32-aa8c-42469afae0ea",
   "metadata": {},
   "outputs": [
    {
     "name": "stdout",
     "output_type": "stream",
     "text": [
      "8\n",
      "2\n",
      "15\n",
      "1.6666666666666667\n",
      "125\n",
      "1\n",
      "2\n"
     ]
    }
   ],
   "source": [
    "\n",
    "a = 5\n",
    "b = 3\n",
    "\n",
    "print(a + b)\n",
    "print(a - b)\n",
    "print(a * b)\n",
    "print(a / b)\n",
    "print(a ** b)\n",
    "print(a // b)\n",
    "print(a % b)\n"
   ]
  },
  {
   "cell_type": "markdown",
   "id": "7db2ed64-e7f7-4f55-a810-ad77911d30e8",
   "metadata": {},
   "source": [
    "## 7. Tamaño de una cadena"
   ]
  },
  {
   "cell_type": "code",
   "execution_count": 25,
   "id": "8f19b420-26d3-47d2-889a-3a4001b37d18",
   "metadata": {},
   "outputs": [
    {
     "name": "stdout",
     "output_type": "stream",
     "text": [
      "8\n"
     ]
    }
   ],
   "source": [
    "print(len(\"un valor\"))"
   ]
  },
  {
   "cell_type": "markdown",
   "id": "5c2f532b-89d6-482c-81b7-8888afd2d812",
   "metadata": {},
   "source": [
    "## 8. Variables en una línea"
   ]
  },
  {
   "cell_type": "code",
   "execution_count": 30,
   "id": "a6e7f13a-a123-4644-98f1-e10d927f7052",
   "metadata": {},
   "outputs": [
    {
     "name": "stdout",
     "output_type": "stream",
     "text": [
      "dato1 dato2 dato3 23 True\n"
     ]
    }
   ],
   "source": [
    "var1, var2, var3, var4, var5 = \"dato1\", \"dato2\", \"dato3\", 23, True\n",
    "print(var1, var2, var3, var4, var5)"
   ]
  }
 ],
 "metadata": {
  "kernelspec": {
   "display_name": "Python 3 (ipykernel)",
   "language": "python",
   "name": "python3"
  },
  "language_info": {
   "codemirror_mode": {
    "name": "ipython",
    "version": 3
   },
   "file_extension": ".py",
   "mimetype": "text/x-python",
   "name": "python",
   "nbconvert_exporter": "python",
   "pygments_lexer": "ipython3",
   "version": "3.9.12"
  }
 },
 "nbformat": 4,
 "nbformat_minor": 5
}
