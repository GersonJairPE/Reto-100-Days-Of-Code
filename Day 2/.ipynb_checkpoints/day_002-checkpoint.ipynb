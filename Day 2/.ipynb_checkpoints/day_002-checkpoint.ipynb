{
 "cells": [
  {
   "cell_type": "markdown",
   "id": "ab4ee52a-361a-4cc6-b734-33128d479025",
   "metadata": {},
   "source": [
    "# Día 2 (#100DaysOfCode)"
   ]
  },
  {
   "cell_type": "markdown",
   "id": "b4db325f-ccf3-4b3d-9442-a8e2fba193c0",
   "metadata": {},
   "source": [
    "## 1. Función ```input```"
   ]
  },
  {
   "cell_type": "code",
   "execution_count": 5,
   "id": "7b838d13-c893-48fa-9430-5b655488b90b",
   "metadata": {},
   "outputs": [
    {
     "name": "stdin",
     "output_type": "stream",
     "text": [
      "ingresa tu nombre:  Gerson\n",
      "ingresa tu edad:  27\n"
     ]
    },
    {
     "name": "stdout",
     "output_type": "stream",
     "text": [
      "Hola, tu eres Gerson y tu edad es 27\n"
     ]
    }
   ],
   "source": [
    "nombre = input(\"ingresa tu nombre: \")\n",
    "edad = input(\"ingresa tu edad: \")\n",
    "print(\"Hola, tu eres \" + nombre + \" y tu edad es \" + edad)"
   ]
  },
  {
   "cell_type": "code",
   "execution_count": null,
   "id": "d70de69d-28c8-4250-9919-ca60b0696ec9",
   "metadata": {},
   "outputs": [],
   "source": []
  }
 ],
 "metadata": {
  "kernelspec": {
   "display_name": "Python 3 (ipykernel)",
   "language": "python",
   "name": "python3"
  },
  "language_info": {
   "codemirror_mode": {
    "name": "ipython",
    "version": 3
   },
   "file_extension": ".py",
   "mimetype": "text/x-python",
   "name": "python",
   "nbconvert_exporter": "python",
   "pygments_lexer": "ipython3",
   "version": "3.9.12"
  }
 },
 "nbformat": 4,
 "nbformat_minor": 5
}
