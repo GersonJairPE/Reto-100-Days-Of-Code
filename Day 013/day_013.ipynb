{
 "cells": [
  {
   "cell_type": "markdown",
   "id": "e2e64aa5-2e17-4d3d-a5fa-909836fe12e4",
   "metadata": {},
   "source": [
    "# Día 13 (#100DaysOfCode)"
   ]
  },
  {
   "cell_type": "code",
   "execution_count": 1,
   "id": "0295c844-708e-4d9c-aac1-67163f407194",
   "metadata": {},
   "outputs": [],
   "source": [
    "# continuando con los bucles"
   ]
  },
  {
   "cell_type": "code",
   "execution_count": 13,
   "id": "69e37c37-2941-4a63-af1f-7c44c0b0b595",
   "metadata": {},
   "outputs": [
    {
     "data": {
      "text/plain": [
       "{2, 5, 8, 11, 14, 17}"
      ]
     },
     "execution_count": 13,
     "metadata": {},
     "output_type": "execute_result"
    }
   ],
   "source": [
    "lista  = list(range(20))\n",
    "lista = list(range(2,20))\n",
    "lista = set(range(2,20,3))\n",
    "lista"
   ]
  },
  {
   "cell_type": "code",
   "execution_count": 40,
   "id": "2666153f-dc7f-4a5c-b4f0-e0469eebf0f2",
   "metadata": {},
   "outputs": [
    {
     "name": "stdout",
     "output_type": "stream",
     "text": [
      "3\n",
      "6\n",
      "9\n"
     ]
    }
   ],
   "source": [
    "for i in range(3,12,3):\n",
    "    print(i)"
   ]
  },
  {
   "cell_type": "markdown",
   "id": "be38f9af-683f-496a-a113-cfaf22437e34",
   "metadata": {},
   "source": [
    "## 1. Bucle anidado"
   ]
  },
  {
   "cell_type": "code",
   "execution_count": 38,
   "id": "7c6779b0-9c02-4cdf-8f6c-d71003d3b812",
   "metadata": {},
   "outputs": [
    {
     "name": "stdout",
     "output_type": "stream",
     "text": [
      "11\n",
      "12\n",
      "21\n",
      "22\n",
      "31\n",
      "32\n",
      "33\n"
     ]
    }
   ],
   "source": [
    "\n",
    "lista = [[11,12],[21,22],[31,32,33]]\n",
    "for i in lista:\n",
    "    for x in i:\n",
    "        print(x)"
   ]
  },
  {
   "cell_type": "code",
   "execution_count": 27,
   "id": "2ab66322-27eb-4c2f-b49f-6b612e6af124",
   "metadata": {},
   "outputs": [],
   "source": [
    "person = {\n",
    "    'first_name': 'Asabeneh',\n",
    "    'last_name': 'Yetayeh',\n",
    "    'age': 250,\n",
    "    'country': 'Finland',\n",
    "    'is_marred': True,\n",
    "    'skills': ['JavaScript', 'React', 'Node', 'MongoDB', 'Python'],\n",
    "    'address': {\n",
    "        'street': 'Space street',\n",
    "        'zipcode': '02210'\n",
    "    }\n",
    "}"
   ]
  },
  {
   "cell_type": "code",
   "execution_count": 30,
   "id": "1e096ed7-6176-4a12-90c0-6e64727335e3",
   "metadata": {},
   "outputs": [
    {
     "name": "stdout",
     "output_type": "stream",
     "text": [
      "JavaScript\n",
      "React\n",
      "Node\n",
      "MongoDB\n",
      "Python\n"
     ]
    }
   ],
   "source": [
    "for i in person:\n",
    "    #print(i)\n",
    "    if i == 'skills':\n",
    "        for s in person[i]:\n",
    "            print(s)"
   ]
  },
  {
   "cell_type": "markdown",
   "id": "ef32ca5d-565f-42e9-8448-0996a8c16574",
   "metadata": {},
   "source": [
    "## 2. For - else"
   ]
  },
  {
   "cell_type": "code",
   "execution_count": 37,
   "id": "cb6bb4e7-a855-48d0-a7e5-d97d49cbde7f",
   "metadata": {},
   "outputs": [
    {
     "name": "stdout",
     "output_type": "stream",
     "text": [
      "0\n",
      "1\n",
      "2\n",
      "3\n",
      "4\n",
      "fin del bucle\n"
     ]
    }
   ],
   "source": [
    "for i in range(5):\n",
    "    print(i)\n",
    "else:\n",
    "    print('fin del bucle')"
   ]
  },
  {
   "cell_type": "markdown",
   "id": "b1d94c9d-ea91-4f17-a932-4056798d23d8",
   "metadata": {},
   "source": [
    "## 3. Pass"
   ]
  },
  {
   "cell_type": "code",
   "execution_count": 43,
   "id": "f41355a6-03fa-4634-aebc-dabcd44e8454",
   "metadata": {},
   "outputs": [
    {
     "name": "stdout",
     "output_type": "stream",
     "text": [
      "se ejecuto el pass\n"
     ]
    }
   ],
   "source": [
    "for i in range(5):\n",
    "    pass\n",
    "else:\n",
    "    print('se ejecuto el pass')"
   ]
  },
  {
   "cell_type": "markdown",
   "id": "a2e91f70-a616-4e97-a6e4-4aac8fd3f35f",
   "metadata": {},
   "source": [
    "## 4. Ejercicios"
   ]
  },
  {
   "cell_type": "code",
   "execution_count": 46,
   "id": "4c386b27-f177-4d42-938b-dc099fb5e9e9",
   "metadata": {},
   "outputs": [
    {
     "name": "stdout",
     "output_type": "stream",
     "text": [
      "0\n",
      "1\n",
      "2\n",
      "3\n",
      "4\n",
      "5\n",
      "6\n",
      "7\n",
      "8\n",
      "9\n",
      "10\n"
     ]
    }
   ],
   "source": [
    "# 1\n",
    "\n",
    "for i in range(11):\n",
    "    print(i)\n"
   ]
  },
  {
   "cell_type": "code",
   "execution_count": 50,
   "id": "21390809-221b-4db4-b682-4bf2a48e67f3",
   "metadata": {},
   "outputs": [
    {
     "name": "stdout",
     "output_type": "stream",
     "text": [
      "0\n",
      "1\n",
      "2\n",
      "3\n",
      "4\n",
      "5\n",
      "6\n",
      "7\n",
      "8\n",
      "9\n",
      "10\n"
     ]
    }
   ],
   "source": [
    "count=0\n",
    "while count<11:\n",
    "    print(count)\n",
    "    count+=1"
   ]
  },
  {
   "cell_type": "code",
   "execution_count": 53,
   "id": "bc2f32d2-4122-4cab-93c8-326c8c9a834a",
   "metadata": {},
   "outputs": [
    {
     "name": "stdout",
     "output_type": "stream",
     "text": [
      "10\n",
      "9\n",
      "8\n",
      "7\n",
      "6\n",
      "5\n",
      "4\n",
      "3\n",
      "2\n",
      "1\n",
      "0\n"
     ]
    }
   ],
   "source": [
    "for i in range(10,-1,-1):\n",
    "    print(i)"
   ]
  },
  {
   "cell_type": "code",
   "execution_count": 54,
   "id": "86426055-bd85-401f-9a27-8a92436fce9c",
   "metadata": {},
   "outputs": [
    {
     "name": "stdout",
     "output_type": "stream",
     "text": [
      "10\n",
      "9\n",
      "8\n",
      "7\n",
      "6\n",
      "5\n",
      "4\n",
      "3\n",
      "2\n",
      "1\n",
      "0\n"
     ]
    }
   ],
   "source": [
    "count=10\n",
    "while count>=0:\n",
    "    print(count)\n",
    "    count-=1"
   ]
  },
  {
   "cell_type": "code",
   "execution_count": 62,
   "id": "72d08be9-446e-48bf-bc0d-daaa675c08e1",
   "metadata": {},
   "outputs": [
    {
     "name": "stdout",
     "output_type": "stream",
     "text": [
      "#\n",
      "##\n",
      "###\n",
      "####\n",
      "#####\n",
      "######\n",
      "#######\n"
     ]
    }
   ],
   "source": [
    "for i in range(7):\n",
    "    print('#'*(i+1))"
   ]
  },
  {
   "cell_type": "code",
   "execution_count": 4,
   "id": "cc6a5f8d-3360-4ce1-8207-95c7925d8264",
   "metadata": {},
   "outputs": [
    {
     "name": "stdout",
     "output_type": "stream",
     "text": [
      "$ $ $ $ $ $ $ $ $ $ $ $ $ $ $ $ $ $ $ $ $ $ $ $ $ $ $ $ $ $ \n",
      "$ $ $ $ $ $ $ $ $ $ $ $ $ $ $ $ $ $ $ $ $ $ $ $ $ $ $ $ $ $ \n",
      "$ $ $ $ $ $ $ $ $ $ $ $ $ $ $ $ $ $ $ $ $ $ $ $ $ $ $ $ $ $ \n",
      "$ $ $ $ $ $ $ $ $ $ $ $ $ $ $ $ $ $ $ $ $ $ $ $ $ $ $ $ $ $ \n",
      "$ $ $ $ $ $ $ $ $ $ $ $ $ $ $ $ $ $ $ $ $ $ $ $ $ $ $ $ $ $ \n",
      "$ $ $ $ $ $ $ $ $ $ $ $ $ $ $ $ $ $ $ $ $ $ $ $ $ $ $ $ $ $ \n",
      "$ $ $ $ $ $ $ $ $ $ $ $ $ $ $ $ $ $ $ $ $ $ $ $ $ $ $ $ $ $ \n",
      "$ $ $ $ $ $ $ $ $ $ $ $ $ $ $ $ $ $ $ $ $ $ $ $ $ $ $ $ $ $ \n",
      "$ $ $ $ $ $ $ $ $ $ $ $ $ $ $ $ $ $ $ $ $ $ $ $ $ $ $ $ $ $ \n",
      "$ $ $ $ $ $ $ $ $ $ $ $ $ $ $ $ $ $ $ $ $ $ $ $ $ $ $ $ $ $ \n",
      "$ $ $ $ $ $ $ $ $ $ $ $ $ $ $ $ $ $ $ $ $ $ $ $ $ $ $ $ $ $ \n",
      "$ $ $ $ $ $ $ $ $ $ $ $ $ $ $ $ $ $ $ $ $ $ $ $ $ $ $ $ $ $ \n",
      "$ $ $ $ $ $ $ $ $ $ $ $ $ $ $ $ $ $ $ $ $ $ $ $ $ $ $ $ $ $ \n",
      "$ $ $ $ $ $ $ $ $ $ $ $ $ $ $ $ $ $ $ $ $ $ $ $ $ $ $ $ $ $ \n",
      "$ $ $ $ $ $ $ $ $ $ $ $ $ $ $ $ $ $ $ $ $ $ $ $ $ $ $ $ $ $ \n",
      "$ $ $ $ $ $ $ $ $ $ $ $ $ $ $ $ $ $ $ $ $ $ $ $ $ $ $ $ $ $ \n",
      "$ $ $ $ $ $ $ $ $ $ $ $ $ $ $ $ $ $ $ $ $ $ $ $ $ $ $ $ $ $ \n",
      "$ $ $ $ $ $ $ $ $ $ $ $ $ $ $ $ $ $ $ $ $ $ $ $ $ $ $ $ $ $ \n",
      "$ $ $ $ $ $ $ $ $ $ $ $ $ $ $ $ $ $ $ $ $ $ $ $ $ $ $ $ $ $ \n",
      "$ $ $ $ $ $ $ $ $ $ $ $ $ $ $ $ $ $ $ $ $ $ $ $ $ $ $ $ $ $ \n",
      "$ $ $ $ $ $ $ $ $ $ $ $ $ $ $ $ $ $ $ $ $ $ $ $ $ $ $ $ $ $ \n",
      "$ $ $ $ $ $ $ $ $ $ $ $ $ $ $ $ $ $ $ $ $ $ $ $ $ $ $ $ $ $ \n",
      "$ $ $ $ $ $ $ $ $ $ $ $ $ $ $ $ $ $ $ $ $ $ $ $ $ $ $ $ $ $ \n",
      "$ $ $ $ $ $ $ $ $ $ $ $ $ $ $ $ $ $ $ $ $ $ $ $ $ $ $ $ $ $ \n",
      "$ $ $ $ $ $ $ $ $ $ $ $ $ $ $ $ $ $ $ $ $ $ $ $ $ $ $ $ $ $ \n",
      "$ $ $ $ $ $ $ $ $ $ $ $ $ $ $ $ $ $ $ $ $ $ $ $ $ $ $ $ $ $ \n",
      "$ $ $ $ $ $ $ $ $ $ $ $ $ $ $ $ $ $ $ $ $ $ $ $ $ $ $ $ $ $ \n",
      "$ $ $ $ $ $ $ $ $ $ $ $ $ $ $ $ $ $ $ $ $ $ $ $ $ $ $ $ $ $ \n",
      "$ $ $ $ $ $ $ $ $ $ $ $ $ $ $ $ $ $ $ $ $ $ $ $ $ $ $ $ $ $ \n",
      "$ $ $ $ $ $ $ $ $ $ $ $ $ $ $ $ $ $ $ $ $ $ $ $ $ $ $ $ $ $ \n"
     ]
    }
   ],
   "source": [
    "lado_cuadrado = 30\n",
    "\n",
    "for i in range(lado_cuadrado):\n",
    "    print(\"$ \"*lado_cuadrado)"
   ]
  },
  {
   "cell_type": "code",
   "execution_count": 76,
   "id": "1fc3793b-3d8b-43e1-9a9b-469129df5b9a",
   "metadata": {},
   "outputs": [
    {
     "name": "stdout",
     "output_type": "stream",
     "text": [
      "0 x 0 = 0\n",
      "1 x 1 = 1\n",
      "2 x 2 = 4\n",
      "3 x 3 = 9\n",
      "4 x 4 = 16\n",
      "5 x 5 = 25\n",
      "6 x 6 = 36\n",
      "7 x 7 = 49\n",
      "8 x 8 = 64\n",
      "9 x 9 = 81\n",
      "10 x 10 = 100\n"
     ]
    }
   ],
   "source": [
    "for i in range(11):\n",
    "    print(f'{i} x {i} = {i*i}')"
   ]
  },
  {
   "cell_type": "code",
   "execution_count": 77,
   "id": "f9706784-c971-4a70-ad3a-eebeecd73ee8",
   "metadata": {},
   "outputs": [],
   "source": [
    "countries = [\n",
    "  'Afghanistan',\n",
    "  'Albania',\n",
    "  'Algeria',\n",
    "  'Andorra',\n",
    "  'Angola',\n",
    "  'Antigua and Barbuda',\n",
    "  'Argentina',\n",
    "  'Armenia',\n",
    "  'Australia',\n",
    "  'Austria',\n",
    "  'Azerbaijan',\n",
    "  'Bahamas',\n",
    "  'Bahrain',\n",
    "  'Bangladesh',\n",
    "  'Barbados',\n",
    "  'Belarus',\n",
    "  'Belgium',\n",
    "  'Belize',\n",
    "  'Benin',\n",
    "  'Bhutan',\n",
    "  'Bolivia',\n",
    "  'Bosnia and Herzegovina',\n",
    "  'Botswana',\n",
    "  'Brazil',\n",
    "  'Brunei',\n",
    "  'Bulgaria',\n",
    "  'Burkina Faso',\n",
    "  'Burundi',\n",
    "  'Cambodia',\n",
    "  'Cameroon',\n",
    "  'Canada',\n",
    "  'Cape Verde',\n",
    "  'Central African Republic',\n",
    "  'Chad',\n",
    "  'Chile',\n",
    "  'China',\n",
    "  'Colombi',\n",
    "  'Comoros',\n",
    "  'Congo (Brazzaville)',\n",
    "  'Congo',\n",
    "  'Costa Rica',\n",
    "  \"Cote d'Ivoire\",\n",
    "  'Croatia',\n",
    "  'Cuba',\n",
    "  'Cyprus',\n",
    "  'Czech Republic',\n",
    "  'Denmark',\n",
    "  'Djibouti',\n",
    "  'Dominica',\n",
    "  'Dominican Republic',\n",
    "  'East Timor (Timor Timur)',\n",
    "  'Ecuador',\n",
    "  'Egypt',\n",
    "  'El Salvador',\n",
    "  'Equatorial Guinea',\n",
    "  'Eritrea',\n",
    "  'Estonia',\n",
    "  'Ethiopia',\n",
    "  'Fiji',\n",
    "  'Finland',\n",
    "  'France',\n",
    "  'Gabon',\n",
    "  'Gambia, The',\n",
    "  'Georgia',\n",
    "  'Germany',\n",
    "  'Ghana',\n",
    "  'Greece',\n",
    "  'Grenada',\n",
    "  'Guatemala',\n",
    "  'Guinea',\n",
    "  'Guinea-Bissau',\n",
    "  'Guyana',\n",
    "  'Haiti',\n",
    "  'Honduras',\n",
    "  'Hungary',\n",
    "  'Iceland',\n",
    "  'India',\n",
    "  'Indonesia',\n",
    "  'Iran',\n",
    "  'Iraq',\n",
    "  'Ireland',\n",
    "  'Israel',\n",
    "  'Italy',\n",
    "  'Jamaica',\n",
    "  'Japan',\n",
    "  'Jordan',\n",
    "  'Kazakhstan',\n",
    "  'Kenya',\n",
    "  'Kiribati',\n",
    "  'Korea, North',\n",
    "  'Korea, South',\n",
    "  'Kuwait',\n",
    "  'Kyrgyzstan',\n",
    "  'Laos',\n",
    "  'Latvia',\n",
    "  'Lebanon',\n",
    "  'Lesotho',\n",
    "  'Liberia',\n",
    "  'Libya',\n",
    "  'Liechtenstein',\n",
    "  'Lithuania',\n",
    "  'Luxembourg',\n",
    "  'Macedonia',\n",
    "  'Madagascar',\n",
    "  'Malawi',\n",
    "  'Malaysia',\n",
    "  'Maldives',\n",
    "  'Mali',\n",
    "  'Malta',\n",
    "  'Marshall Islands',\n",
    "  'Mauritania',\n",
    "  'Mauritius',\n",
    "  'Mexico',\n",
    "  'Micronesia',\n",
    "  'Moldova',\n",
    "  'Monaco',\n",
    "  'Mongolia',\n",
    "  'Morocco',\n",
    "  'Mozambique',\n",
    "  'Myanmar',\n",
    "  'Namibia',\n",
    "  'Nauru',\n",
    "  'Nepal',\n",
    "  'Netherlands',\n",
    "  'New Zealand',\n",
    "  'Nicaragua',\n",
    "  'Niger',\n",
    "  'Nigeria',\n",
    "  'Norway',\n",
    "  'Oman',\n",
    "  'Pakistan',\n",
    "  'Palau',\n",
    "  'Panama',\n",
    "  'Papua New Guinea',\n",
    "  'Paraguay',\n",
    "  'Peru',\n",
    "  'Philippines',\n",
    "  'Poland',\n",
    "  'Portugal',\n",
    "  'Qatar',\n",
    "  'Romania',\n",
    "  'Russia',\n",
    "  'Rwanda',\n",
    "  'Saint Kitts and Nevis',\n",
    "  'Saint Lucia',\n",
    "  'Saint Vincent',\n",
    "  'Samoa',\n",
    "  'San Marino',\n",
    "  'Sao Tome and Principe',\n",
    "  'Saudi Arabia',\n",
    "  'Senegal',\n",
    "  'Serbia and Montenegro',\n",
    "  'Seychelles',\n",
    "  'Sierra Leone',\n",
    "  'Singapore',\n",
    "  'Slovakia',\n",
    "  'Slovenia',\n",
    "  'Solomon Islands',\n",
    "  'Somalia',\n",
    "  'South Africa',\n",
    "  'Spain',\n",
    "  'Sri Lanka',\n",
    "  'Sudan',\n",
    "  'Suriname',\n",
    "  'Swaziland',\n",
    "  'Sweden',\n",
    "  'Switzerland',\n",
    "  'Syria',\n",
    "  'Taiwan',\n",
    "  'Tajikistan',\n",
    "  'Tanzania',\n",
    "  'Thailand',\n",
    "  'Togo',\n",
    "  'Tonga',\n",
    "  'Trinidad and Tobago',\n",
    "  'Tunisia',\n",
    "  'Turkey',\n",
    "  'Turkmenistan',\n",
    "  'Tuvalu',\n",
    "  'Uganda',\n",
    "  'Ukraine',\n",
    "  'United Arab Emirates',\n",
    "  'United Kingdom',\n",
    "  'United States',\n",
    "  'Uruguay',\n",
    "  'Uzbekistan',\n",
    "  'Vanuatu',\n",
    "  'Vatican City',\n",
    "  'Venezuela',\n",
    "  'Vietnam',\n",
    "  'Yemen',\n",
    "  'Zambia',\n",
    "  'Zimbabwe',\n",
    "];"
   ]
  },
  {
   "cell_type": "code",
   "execution_count": 79,
   "id": "58d19c6e-307a-4c56-b9ed-8b59501e3769",
   "metadata": {},
   "outputs": [
    {
     "name": "stdout",
     "output_type": "stream",
     "text": [
      "Finland\n",
      "Iceland\n",
      "Ireland\n",
      "Marshall Islands\n",
      "Netherlands\n",
      "New Zealand\n",
      "Poland\n",
      "Solomon Islands\n",
      "Swaziland\n",
      "Switzerland\n",
      "Thailand\n"
     ]
    }
   ],
   "source": [
    "for c in countries:\n",
    "    if 'land' in c:\n",
    "        print(c)"
   ]
  }
 ],
 "metadata": {
  "kernelspec": {
   "display_name": "Python 3 (ipykernel)",
   "language": "python",
   "name": "python3"
  },
  "language_info": {
   "codemirror_mode": {
    "name": "ipython",
    "version": 3
   },
   "file_extension": ".py",
   "mimetype": "text/x-python",
   "name": "python",
   "nbconvert_exporter": "python",
   "pygments_lexer": "ipython3",
   "version": "3.9.12"
  }
 },
 "nbformat": 4,
 "nbformat_minor": 5
}
