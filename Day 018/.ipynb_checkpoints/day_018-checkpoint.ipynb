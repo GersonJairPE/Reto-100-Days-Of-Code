{
 "cells": [
  {
   "cell_type": "markdown",
   "id": "b2d68162-4e19-4d96-9855-37f7ce91af83",
   "metadata": {},
   "source": [
    "# Día 18 (#100DaysOfCode)"
   ]
  },
  {
   "cell_type": "markdown",
   "id": "f506af60-5e11-4d5e-998e-9dd500c9cb18",
   "metadata": {},
   "source": [
    "## Funciones"
   ]
  },
  {
   "cell_type": "markdown",
   "id": "cafbcc4a-60a8-470e-acb8-c1da553eaebd",
   "metadata": {},
   "source": [
    "- Conjunto de instrucción que pueden ser reutilizados\n",
    "- recomendado para estructurar mejor el codigo y se vea más legible"
   ]
  },
  {
   "cell_type": "code",
   "execution_count": 5,
   "id": "94e59558-853a-48ba-9c3d-f102de6be8a2",
   "metadata": {},
   "outputs": [],
   "source": [
    "def funcion1():\n",
    "    print('Bloque de codigo')"
   ]
  },
  {
   "cell_type": "code",
   "execution_count": 6,
   "id": "6fac92ac-daa8-4fb6-8a0c-846babdf6da7",
   "metadata": {},
   "outputs": [
    {
     "name": "stdout",
     "output_type": "stream",
     "text": [
      "Bloque de codigo\n"
     ]
    }
   ],
   "source": [
    "funcion1()"
   ]
  },
  {
   "cell_type": "markdown",
   "id": "4e32ee45-52f1-413f-93ff-417d8ae11d87",
   "metadata": {},
   "source": [
    "## 1. Función sin parámetros con return"
   ]
  },
  {
   "cell_type": "code",
   "execution_count": 9,
   "id": "77527aef-da76-4647-b1fd-b7301ec87475",
   "metadata": {},
   "outputs": [],
   "source": [
    "def num_3_20():\n",
    "    a = 3\n",
    "    b = 20\n",
    "    suma = a + b\n",
    "    return suma"
   ]
  },
  {
   "cell_type": "code",
   "execution_count": 12,
   "id": "797c141e-97c6-41d9-a4c8-b20458892621",
   "metadata": {},
   "outputs": [
    {
     "data": {
      "text/plain": [
       "23"
      ]
     },
     "execution_count": 12,
     "metadata": {},
     "output_type": "execute_result"
    }
   ],
   "source": [
    "num_3_20()"
   ]
  },
  {
   "cell_type": "code",
   "execution_count": 13,
   "id": "fdf3b8b7-e5b6-419d-8cea-786bad518928",
   "metadata": {},
   "outputs": [
    {
     "name": "stdout",
     "output_type": "stream",
     "text": [
      "23\n"
     ]
    }
   ],
   "source": [
    "valor = num_3_20()\n",
    "print(valor)"
   ]
  },
  {
   "cell_type": "markdown",
   "id": "d6c45ab2-c7a1-49d8-9937-5f4db8197fa9",
   "metadata": {},
   "source": [
    "## 2. Función con parámetros"
   ]
  },
  {
   "cell_type": "code",
   "execution_count": 25,
   "id": "ba4c283e-7922-4b65-8011-4022c9ee8d9d",
   "metadata": {},
   "outputs": [],
   "source": [
    "def return_first_word(value):\n",
    "    val = str(value)\n",
    "    val = val.split(' ')\n",
    "    return val[0]"
   ]
  },
  {
   "cell_type": "code",
   "execution_count": 26,
   "id": "42c98884-f945-4204-96b0-d3e139d52518",
   "metadata": {},
   "outputs": [
    {
     "data": {
      "text/plain": [
       "'Hola'"
      ]
     },
     "execution_count": 26,
     "metadata": {},
     "output_type": "execute_result"
    }
   ],
   "source": [
    "return_type('Hola como esta')"
   ]
  },
  {
   "cell_type": "markdown",
   "id": "e49d2517-6242-40b5-8232-e2cc81eb560e",
   "metadata": {},
   "source": [
    "## 3. Funcion con más parámetros"
   ]
  },
  {
   "cell_type": "code",
   "execution_count": 27,
   "id": "92c13bee-1356-4d14-8b47-a668d154e05a",
   "metadata": {},
   "outputs": [],
   "source": [
    "def suma(a,b):\n",
    "    return a + b"
   ]
  },
  {
   "cell_type": "code",
   "execution_count": 28,
   "id": "703e6896-8cea-4cb8-b57b-47c2115d64f3",
   "metadata": {},
   "outputs": [
    {
     "data": {
      "text/plain": [
       "7"
      ]
     },
     "execution_count": 28,
     "metadata": {},
     "output_type": "execute_result"
    }
   ],
   "source": [
    "suma(3,4)"
   ]
  },
  {
   "cell_type": "code",
   "execution_count": 29,
   "id": "c8722db8-815a-40cf-bee3-2a82c70756ba",
   "metadata": {},
   "outputs": [],
   "source": [
    "def calculador_imc(peso, tall):\n",
    "    imc = peso/(tall**2)\n",
    "    return imc"
   ]
  },
  {
   "cell_type": "code",
   "execution_count": 37,
   "id": "c1c9ee99-c2c3-4611-963a-4c79ed29e359",
   "metadata": {},
   "outputs": [
    {
     "data": {
      "text/plain": [
       "21.04981790236894"
      ]
     },
     "execution_count": 37,
     "metadata": {},
     "output_type": "execute_result"
    }
   ],
   "source": [
    "calculador_imc(63, 1.73)"
   ]
  },
  {
   "cell_type": "code",
   "execution_count": 38,
   "id": "bd27f49c-157d-44a0-a86e-b5b46fd95b41",
   "metadata": {},
   "outputs": [],
   "source": [
    "# argumento sin importar el orden\n",
    "\n",
    "def diferencia(a,b):\n",
    "    resta = a-b\n",
    "    return resta"
   ]
  },
  {
   "cell_type": "code",
   "execution_count": 40,
   "id": "b1e27c44-2965-481b-b9ad-0b5219a4e99f",
   "metadata": {},
   "outputs": [
    {
     "data": {
      "text/plain": [
       "1"
      ]
     },
     "execution_count": 40,
     "metadata": {},
     "output_type": "execute_result"
    }
   ],
   "source": [
    "diferencia(b = 3,a = 4)"
   ]
  },
  {
   "cell_type": "markdown",
   "id": "63dfd910-0ab3-4514-a04c-e70c890ae8be",
   "metadata": {},
   "source": [
    "## 4. Funciones que devuelven valores"
   ]
  },
  {
   "cell_type": "code",
   "execution_count": 55,
   "id": "740cc2da-1614-43a6-8901-31d54e11b98f",
   "metadata": {},
   "outputs": [],
   "source": [
    "def return_data(valor):\n",
    "    \n",
    "    if type(valor) == str:\n",
    "        return print('string')\n",
    "    elif  type(valor) == int:\n",
    "        return 0\n",
    "    elif  type(valor) == float:\n",
    "        return 1.1\n",
    "    elif type(valor) == list:\n",
    "        return [1,11,1,1,1,1]\n",
    "    elif type(valor) == bool:\n",
    "        return True\n",
    "    else:\n",
    "        return print('ninguno')"
   ]
  },
  {
   "cell_type": "code",
   "execution_count": 56,
   "id": "70ab0804-6978-489e-946c-ffab9ac9fe76",
   "metadata": {},
   "outputs": [
    {
     "data": {
      "text/plain": [
       "[1, 11, 1, 1, 1, 1]"
      ]
     },
     "execution_count": 56,
     "metadata": {},
     "output_type": "execute_result"
    }
   ],
   "source": [
    "return_data(['gasd'])"
   ]
  },
  {
   "cell_type": "markdown",
   "id": "8bf15f81-7095-4b33-91dc-f151fc5a73e7",
   "metadata": {},
   "source": [
    "## 5. funcion con parametros predeterminado"
   ]
  },
  {
   "cell_type": "code",
   "execution_count": 62,
   "id": "bbdbcfd2-a6ec-4d76-986a-2797266f8853",
   "metadata": {},
   "outputs": [],
   "source": [
    "def sumatoria_hasta(n = 20):\n",
    "    suma=0\n",
    "    for i in range(n+1):\n",
    "        suma+=i\n",
    "    return suma"
   ]
  },
  {
   "cell_type": "code",
   "execution_count": 67,
   "id": "fa91095b-b903-4a17-a08c-47d7dc78599e",
   "metadata": {},
   "outputs": [
    {
     "name": "stdout",
     "output_type": "stream",
     "text": [
      "200010000\n",
      "210\n"
     ]
    }
   ],
   "source": [
    "print(sumatoria_hasta(20000))\n",
    "print(sumatoria_hasta())"
   ]
  },
  {
   "cell_type": "code",
   "execution_count": 68,
   "id": "847ba24e-4844-4bd9-a446-6f7f2df55953",
   "metadata": {},
   "outputs": [],
   "source": [
    "def calcular_edad(anio_nac, anio_acutal = 2022):\n",
    "    edad = anio_acutal - anio_nac\n",
    "    return print('Tu tienes ',edad, ' años')"
   ]
  },
  {
   "cell_type": "code",
   "execution_count": 71,
   "id": "7e3790fd-5c1e-4eb9-a91e-6f1c6eedcaea",
   "metadata": {},
   "outputs": [
    {
     "name": "stdout",
     "output_type": "stream",
     "text": [
      "Tu tienes  28  años\n"
     ]
    }
   ],
   "source": [
    "calcular_edad(1994)"
   ]
  },
  {
   "cell_type": "markdown",
   "id": "4d1194cb-79a7-4a93-a9e9-75377a92bee7",
   "metadata": {},
   "source": [
    "## 6. Número arbitario de argumentos"
   ]
  },
  {
   "cell_type": "code",
   "execution_count": 92,
   "id": "b19d996d-d655-4a0e-854e-c463bfde0d12",
   "metadata": {},
   "outputs": [],
   "source": [
    "def major_5(*args):\n",
    "    list_major = []\n",
    "    for i in args:\n",
    "        if i > 15:\n",
    "            list_major.append(i)\n",
    "    return list_major"
   ]
  },
  {
   "cell_type": "code",
   "execution_count": 93,
   "id": "7bbfab88-8b80-44a5-a681-01735cf7b24e",
   "metadata": {},
   "outputs": [
    {
     "data": {
      "text/plain": [
       "[21, 32]"
      ]
     },
     "execution_count": 93,
     "metadata": {},
     "output_type": "execute_result"
    }
   ],
   "source": [
    "major_5(15,6,0,21,32,4,5,6,4,3,4,5,7,8,8,6,7,8,4,3,5,6,7,9)"
   ]
  },
  {
   "cell_type": "markdown",
   "id": "607a95d0-f6eb-4ffc-a836-80b98f68da71",
   "metadata": {},
   "source": [
    "## 7. funciones como parametros de otras funciones"
   ]
  },
  {
   "cell_type": "code",
   "execution_count": 94,
   "id": "2d1c6cc6-80bb-4a4c-b177-9a43f6f4d456",
   "metadata": {},
   "outputs": [],
   "source": [
    "def cuadrado(a):\n",
    "    cuadrado = a ** 2\n",
    "    return cuadrado\n",
    "def aplicar(fun,val):\n",
    "    return fun(val)"
   ]
  },
  {
   "cell_type": "code",
   "execution_count": 95,
   "id": "075d1e36-6d5d-4f0a-991f-666b2b1b58c5",
   "metadata": {},
   "outputs": [
    {
     "data": {
      "text/plain": [
       "25"
      ]
     },
     "execution_count": 95,
     "metadata": {},
     "output_type": "execute_result"
    }
   ],
   "source": [
    "aplicar(cuadrado, 5)"
   ]
  },
  {
   "cell_type": "code",
   "execution_count": 97,
   "id": "24843987-188b-456d-a95d-3d710b6928b8",
   "metadata": {},
   "outputs": [
    {
     "name": "stdout",
     "output_type": "stream",
     "text": [
      "error controlado\n"
     ]
    }
   ],
   "source": [
    "try:\n",
    "    r = a + b\n",
    "except:\n",
    "    print('error controlado')"
   ]
  },
  {
   "cell_type": "code",
   "execution_count": 101,
   "id": "7ae35534-fdb0-4876-90af-bc2d2e49aa23",
   "metadata": {},
   "outputs": [
    {
     "name": "stdout",
     "output_type": "stream",
     "text": [
      "Something went wrong when opening the file\n"
     ]
    }
   ],
   "source": [
    "try:\n",
    "  f = open(\"demofile.txt\")\n",
    "  try:\n",
    "    f.write(\"Lorum Ipsum\")\n",
    "  except:\n",
    "    print(\"Something went wrong when writing to the file\")\n",
    "  finally:\n",
    "    f.close()\n",
    "except:\n",
    "  print(\"Something went wrong when opening the file\")"
   ]
  },
  {
   "cell_type": "code",
   "execution_count": 103,
   "id": "821d3962-5994-4840-9ace-85ad25947131",
   "metadata": {},
   "outputs": [
    {
     "ename": "Exception",
     "evalue": "Sorry, no numbers below zero jajajaja",
     "output_type": "error",
     "traceback": [
      "\u001b[1;31m---------------------------------------------------------------------------\u001b[0m",
      "\u001b[1;31mException\u001b[0m                                 Traceback (most recent call last)",
      "Input \u001b[1;32mIn [103]\u001b[0m, in \u001b[0;36m<cell line: 3>\u001b[1;34m()\u001b[0m\n\u001b[0;32m      1\u001b[0m x \u001b[38;5;241m=\u001b[39m \u001b[38;5;241m-\u001b[39m\u001b[38;5;241m1\u001b[39m\n\u001b[0;32m      3\u001b[0m \u001b[38;5;28;01mif\u001b[39;00m x \u001b[38;5;241m<\u001b[39m \u001b[38;5;241m0\u001b[39m:\n\u001b[1;32m----> 4\u001b[0m   \u001b[38;5;28;01mraise\u001b[39;00m \u001b[38;5;167;01mException\u001b[39;00m(\u001b[38;5;124m\"\u001b[39m\u001b[38;5;124mSorry, no numbers below zero jajajaja\u001b[39m\u001b[38;5;124m\"\u001b[39m)\n",
      "\u001b[1;31mException\u001b[0m: Sorry, no numbers below zero jajajaja"
     ]
    }
   ],
   "source": [
    "x = -1\n",
    "\n",
    "if x < 0:\n",
    "  raise Exception(\"Sorry, no numbers below zero jajajaja\")"
   ]
  },
  {
   "cell_type": "code",
   "execution_count": 104,
   "id": "94c7300a-1199-4373-b1e9-5b238fd43d5f",
   "metadata": {},
   "outputs": [
    {
     "ename": "TypeError",
     "evalue": "Only integers are allowed",
     "output_type": "error",
     "traceback": [
      "\u001b[1;31m---------------------------------------------------------------------------\u001b[0m",
      "\u001b[1;31mTypeError\u001b[0m                                 Traceback (most recent call last)",
      "Input \u001b[1;32mIn [104]\u001b[0m, in \u001b[0;36m<cell line: 3>\u001b[1;34m()\u001b[0m\n\u001b[0;32m      1\u001b[0m x \u001b[38;5;241m=\u001b[39m \u001b[38;5;124m\"\u001b[39m\u001b[38;5;124mhello\u001b[39m\u001b[38;5;124m\"\u001b[39m\n\u001b[0;32m      3\u001b[0m \u001b[38;5;28;01mif\u001b[39;00m \u001b[38;5;129;01mnot\u001b[39;00m \u001b[38;5;28mtype\u001b[39m(x) \u001b[38;5;129;01mis\u001b[39;00m \u001b[38;5;28mint\u001b[39m:\n\u001b[1;32m----> 4\u001b[0m   \u001b[38;5;28;01mraise\u001b[39;00m \u001b[38;5;167;01mTypeError\u001b[39;00m(\u001b[38;5;124m\"\u001b[39m\u001b[38;5;124mOnly integers are allowed\u001b[39m\u001b[38;5;124m\"\u001b[39m)\n",
      "\u001b[1;31mTypeError\u001b[0m: Only integers are allowed"
     ]
    }
   ],
   "source": [
    "x = \"hello\"\n",
    "\n",
    "if not type(x) is int:\n",
    "  raise TypeError(\"Only integers are allowed\")"
   ]
  },
  {
   "cell_type": "code",
   "execution_count": null,
   "id": "ca8fb1c6-dcd0-4ca9-aeda-8ee0d5575262",
   "metadata": {},
   "outputs": [],
   "source": []
  }
 ],
 "metadata": {
  "kernelspec": {
   "display_name": "Python 3 (ipykernel)",
   "language": "python",
   "name": "python3"
  },
  "language_info": {
   "codemirror_mode": {
    "name": "ipython",
    "version": 3
   },
   "file_extension": ".py",
   "mimetype": "text/x-python",
   "name": "python",
   "nbconvert_exporter": "python",
   "pygments_lexer": "ipython3",
   "version": "3.9.12"
  }
 },
 "nbformat": 4,
 "nbformat_minor": 5
}
