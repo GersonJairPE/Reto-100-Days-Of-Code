{
 "cells": [
  {
   "cell_type": "markdown",
   "id": "e2e64aa5-2e17-4d3d-a5fa-909836fe12e4",
   "metadata": {},
   "source": [
    "# Día 12 (#100DaysOfCode)"
   ]
  },
  {
   "cell_type": "code",
   "execution_count": 1,
   "id": "cfd69ed1-79c5-4ef6-8777-bbe9e759d7de",
   "metadata": {},
   "outputs": [],
   "source": [
    "# continuando con los condicionales"
   ]
  },
  {
   "cell_type": "markdown",
   "id": "02ae3963-4a2f-41a8-9910-fe7cebdce93f",
   "metadata": {},
   "source": [
    "## 1. Ejercicios Condicionales"
   ]
  },
  {
   "cell_type": "code",
   "execution_count": 2,
   "id": "85156374-f5d2-4f8f-9885-e20fc680af7d",
   "metadata": {},
   "outputs": [],
   "source": [
    " person={\n",
    "'first_name': 'Asabeneh',\n",
    "'last_name': 'Yetayeh',\n",
    "'age': 250,\n",
    "'country': 'Finland',\n",
    "'is_marred': True,\n",
    "'skills': ['JavaScript', 'React', 'Node', 'MongoDB', 'Python'],\n",
    "'address': {\n",
    "    'street': 'Space street',\n",
    "    'zipcode': '02210'\n",
    "}\n",
    "    }"
   ]
  },
  {
   "cell_type": "code",
   "execution_count": 3,
   "id": "60e989e7-dc68-4eca-ac8b-050c151e2576",
   "metadata": {},
   "outputs": [
    {
     "data": {
      "text/plain": [
       "{'first_name': 'Asabeneh',\n",
       " 'last_name': 'Yetayeh',\n",
       " 'age': 250,\n",
       " 'country': 'Finland',\n",
       " 'is_marred': True,\n",
       " 'skills': ['JavaScript', 'React', 'Node', 'MongoDB', 'Python'],\n",
       " 'address': {'street': 'Space street', 'zipcode': '02210'}}"
      ]
     },
     "execution_count": 3,
     "metadata": {},
     "output_type": "execute_result"
    }
   ],
   "source": [
    "person"
   ]
  },
  {
   "cell_type": "code",
   "execution_count": 9,
   "id": "c2011493-39cd-40e9-8e82-064c6d381448",
   "metadata": {},
   "outputs": [
    {
     "name": "stdout",
     "output_type": "stream",
     "text": [
      "Asabeneh Yetayeh vive en Finland. El es casado\n"
     ]
    }
   ],
   "source": [
    "if ((person['is_marred'] == True) and (person['country'] == 'Finland')):\n",
    "    print(f\"{person['first_name']} {person['last_name']} vive en {person['country']}. El es casado\") "
   ]
  },
  {
   "cell_type": "markdown",
   "id": "ce6bce9a-ee47-4c36-9728-2945480c58d2",
   "metadata": {},
   "source": [
    "# BUCLES\n",
    "\n",
    "- Se usan para hacer tareas repetitivas\n",
    "- Tinen dos maneras de realizarse:\n",
    "    1. Bucle _while_\n",
    "    2. Bucler _for_"
   ]
  },
  {
   "cell_type": "markdown",
   "id": "67ff7e17-ce0f-418b-9a18-ad5a749589c8",
   "metadata": {},
   "source": [
    "## 1. Bucle _while_"
   ]
  },
  {
   "cell_type": "code",
   "execution_count": 11,
   "id": "6d85021f-eb88-4a55-84fa-ea5da19611fa",
   "metadata": {},
   "outputs": [
    {
     "name": "stdout",
     "output_type": "stream",
     "text": [
      "0\n",
      "1\n",
      "2\n",
      "3\n",
      "4\n"
     ]
    }
   ],
   "source": [
    "contador = 0\n",
    "\n",
    "while contador < 5:\n",
    "    print(contador)\n",
    "    contador +=1"
   ]
  },
  {
   "cell_type": "code",
   "execution_count": 13,
   "id": "6dec416e-170d-4d90-ab25-74f16245b869",
   "metadata": {},
   "outputs": [
    {
     "name": "stdout",
     "output_type": "stream",
     "text": [
      "0\n",
      "2\n",
      "4\n",
      "6\n",
      "8\n",
      "10\n",
      "12\n",
      "14\n",
      "16\n",
      "18\n",
      "20\n",
      "Aquí acabo el bucle\n"
     ]
    }
   ],
   "source": [
    "# cuando la condicion detiene el bucle podemos usar else para ejecutar un bloque final\n",
    "\n",
    "cont = 0\n",
    "\n",
    "while cont<20:\n",
    "    print(cont)\n",
    "    cont+=2\n",
    "else:\n",
    "    print(cont)\n",
    "    print(\"Aquí acabo el bucle\")"
   ]
  },
  {
   "cell_type": "markdown",
   "id": "0cd06920-9cb2-453f-af9a-859025fc44d5",
   "metadata": {},
   "source": [
    "## 2. _break_ y _continue_"
   ]
  },
  {
   "cell_type": "code",
   "execution_count": 1,
   "id": "c2f18de7-b812-4d60-9abc-9e058070f75c",
   "metadata": {},
   "outputs": [
    {
     "name": "stdout",
     "output_type": "stream",
     "text": [
      "0\n",
      "1\n",
      "2\n",
      "3\n"
     ]
    }
   ],
   "source": [
    "cont = 0\n",
    "\n",
    "while cont <5:\n",
    "    print(cont)\n",
    "    if cont == 3:\n",
    "        break\n",
    "    cont+=1\n",
    "    "
   ]
  },
  {
   "cell_type": "code",
   "execution_count": 2,
   "id": "7cdc429e-c6a9-4d55-8c5d-64b21b3df52e",
   "metadata": {},
   "outputs": [
    {
     "name": "stdout",
     "output_type": "stream",
     "text": [
      "0\n",
      "1\n",
      "2\n"
     ]
    },
    {
     "ename": "KeyboardInterrupt",
     "evalue": "",
     "output_type": "error",
     "traceback": [
      "\u001b[1;31m---------------------------------------------------------------------------\u001b[0m",
      "\u001b[1;31mKeyboardInterrupt\u001b[0m                         Traceback (most recent call last)",
      "Input \u001b[1;32mIn [2]\u001b[0m, in \u001b[0;36m<cell line: 3>\u001b[1;34m()\u001b[0m\n\u001b[0;32m      3\u001b[0m \u001b[38;5;28;01mwhile\u001b[39;00m cont \u001b[38;5;241m<\u001b[39m\u001b[38;5;241m5\u001b[39m:\n\u001b[0;32m      4\u001b[0m     \u001b[38;5;28;01mif\u001b[39;00m cont \u001b[38;5;241m==\u001b[39m \u001b[38;5;241m3\u001b[39m:\n\u001b[1;32m----> 5\u001b[0m         \u001b[38;5;28;01mcontinue\u001b[39;00m\n\u001b[0;32m      6\u001b[0m     \u001b[38;5;28mprint\u001b[39m(cont)\n\u001b[0;32m      7\u001b[0m     cont\u001b[38;5;241m+\u001b[39m\u001b[38;5;241m=\u001b[39m\u001b[38;5;241m1\u001b[39m\n",
      "\u001b[1;31mKeyboardInterrupt\u001b[0m: "
     ]
    }
   ],
   "source": [
    "cont = 0\n",
    "\n",
    "while cont <5:\n",
    "    if cont == 3:\n",
    "        continue\n",
    "    print(cont)\n",
    "    cont+=1"
   ]
  },
  {
   "cell_type": "markdown",
   "id": "8e3a0e4a-5350-4de2-9624-81c9311b4b0b",
   "metadata": {},
   "source": [
    "## 3. Bucle _for_"
   ]
  },
  {
   "cell_type": "markdown",
   "id": "e63d47eb-2c3d-4c14-8834-02e82265af21",
   "metadata": {},
   "source": [
    "Sigue una sintaxis del cual depende de una _lista, tupla, conjunto, diccionario o cadena_ para recorrerla"
   ]
  },
  {
   "cell_type": "code",
   "execution_count": 1,
   "id": "ced17a38-18a1-453f-a554-c07c25c49dd6",
   "metadata": {},
   "outputs": [
    {
     "name": "stdout",
     "output_type": "stream",
     "text": [
      "1\n",
      "2\n",
      "3\n",
      "4\n",
      "5\n",
      "6\n",
      "7\n",
      "8\n",
      "9\n"
     ]
    }
   ],
   "source": [
    "# bucle for con lista\n",
    "numeros = [1,2,3,4,5,6,7,8,9]\n",
    "for i in numeros:\n",
    "    print(i)"
   ]
  },
  {
   "cell_type": "code",
   "execution_count": 10,
   "id": "267bfcec-8191-4a0f-b650-7cf30462cafb",
   "metadata": {},
   "outputs": [
    {
     "name": "stdout",
     "output_type": "stream",
     "text": [
      "M\n",
      "a\n",
      "e\n",
      "s\n",
      "t\n",
      "r\n",
      "i\n",
      "a\n",
      "\n",
      "M\n",
      "a\n",
      "e\n",
      "s\n",
      "t\n",
      "r\n",
      "i\n",
      "a\n"
     ]
    }
   ],
   "source": [
    "# bucle for con cadena\n",
    "\n",
    "cadena = \"Maestria\"\n",
    "\n",
    "for i in cadena:\n",
    "    print(i)\n",
    "print()\n",
    "for i in range(len(cadena)):\n",
    "    print(cadena[i])"
   ]
  },
  {
   "cell_type": "code",
   "execution_count": 11,
   "id": "db0a3d8c-d18a-44a6-85c4-fb39cde4516b",
   "metadata": {},
   "outputs": [
    {
     "name": "stdout",
     "output_type": "stream",
     "text": [
      "1\n",
      "2\n",
      "3\n",
      "4\n",
      "5\n",
      "6\n",
      "7\n",
      "8\n"
     ]
    }
   ],
   "source": [
    "# bucle for con tuplas\n",
    "\n",
    "tupla = (1,2,3,4,5,6,7,8)\n",
    "\n",
    "for i in tupla:\n",
    "    print(i)"
   ]
  },
  {
   "cell_type": "code",
   "execution_count": 22,
   "id": "b8b32e3c-1e53-4dae-acd7-c929da4771ec",
   "metadata": {},
   "outputs": [
    {
     "name": "stdout",
     "output_type": "stream",
     "text": [
      "first_name\n",
      "last_name\n",
      "age\n",
      "country\n",
      "is_marred\n",
      "skills\n",
      "address\n",
      "\n",
      "first_name = Asabeneh\n",
      "last_name = Yetayeh\n",
      "age = 250\n",
      "country = Finland\n",
      "is_marred = True\n",
      "skills = ['JavaScript', 'React', 'Node', 'MongoDB', 'Python']\n",
      "address = {'street': 'Space street', 'zipcode': '02210'}\n"
     ]
    }
   ],
   "source": [
    "# bucle for con diccionarios\n",
    "# en este caso la llave es la que se muestra al iterar\n",
    "\n",
    "dicc = {\n",
    "    'first_name':'Asabeneh',\n",
    "    'last_name':'Yetayeh',\n",
    "    'age':250,\n",
    "    'country':'Finland',\n",
    "    'is_marred':True,\n",
    "    'skills':['JavaScript', 'React', 'Node', 'MongoDB', 'Python'],\n",
    "    'address':{\n",
    "        'street':'Space street',\n",
    "        'zipcode':'02210'\n",
    "    }\n",
    "}\n",
    "\n",
    "for i in dicc:\n",
    "    print(i)\n",
    "print()\n",
    "for a, b in dicc.items():\n",
    "    print(a+\" =\", b)"
   ]
  },
  {
   "cell_type": "code",
   "execution_count": 26,
   "id": "54a8e94d-8179-46c6-b16c-211eb9255ccd",
   "metadata": {},
   "outputs": [
    {
     "name": "stdout",
     "output_type": "stream",
     "text": [
      "1\n",
      "2\n",
      "3\n",
      "4\n",
      "5\n"
     ]
    }
   ],
   "source": [
    "# bucles for con conjuntos\n",
    "\n",
    "conjunto = {1,2,3,4,5,5,5,5}\n",
    "\n",
    "for i in conjunto:\n",
    "    print(i)"
   ]
  },
  {
   "cell_type": "markdown",
   "id": "a9529fee-f074-4f57-9f6c-ce06905e600d",
   "metadata": {},
   "source": [
    "## 3. _break_ y _continue_ con _for_"
   ]
  },
  {
   "cell_type": "code",
   "execution_count": 27,
   "id": "23fa2863-7d09-4d9a-a8e3-9a83e6651b3f",
   "metadata": {},
   "outputs": [
    {
     "name": "stdout",
     "output_type": "stream",
     "text": [
      "1\n",
      "2\n",
      "3\n",
      "4\n"
     ]
    }
   ],
   "source": [
    "# break\n",
    "num = (1,2,3,4,5,6,7)\n",
    "\n",
    "for n in num:\n",
    "    print(n)\n",
    "    if n ==4:\n",
    "        break"
   ]
  },
  {
   "cell_type": "code",
   "execution_count": 29,
   "id": "58dc8653-8b94-4f9c-83c5-82cbb4a86fcc",
   "metadata": {},
   "outputs": [
    {
     "name": "stdout",
     "output_type": "stream",
     "text": [
      "1\n",
      "2\n",
      "3\n",
      "5\n",
      "6\n",
      "7\n"
     ]
    }
   ],
   "source": [
    "# continue\n",
    "num = (1,2,3,4,5,6,7)\n",
    "\n",
    "for n in num:\n",
    "    if n == 4:\n",
    "        continue\n",
    "    print(n)"
   ]
  },
  {
   "cell_type": "code",
   "execution_count": 31,
   "id": "cde6dc06-362d-432d-a9a9-78c5526cca3c",
   "metadata": {},
   "outputs": [
    {
     "name": "stdout",
     "output_type": "stream",
     "text": [
      "1\n",
      "el siguiente numero deberia ser: 2\n",
      "2\n",
      "el siguiente numero deberia ser: 3\n",
      "3\n",
      "4\n",
      "el siguiente numero deberia ser: 5\n",
      "5\n",
      "aqui termina el bucle\n",
      "6\n",
      "el siguiente numero deberia ser: 7\n",
      "7\n",
      "el siguiente numero deberia ser: 8\n",
      "salida del bucle\n"
     ]
    }
   ],
   "source": [
    "num = (1,2,3,4,5,6,7)\n",
    "\n",
    "for n in num:\n",
    "    print(n)\n",
    "    if n == 3:\n",
    "        continue\n",
    "    print(\"el siguiente numero deberia ser:\", n+1) if n != 5 else print(\"aqui termina el bucle\")\n",
    "print(\"salida del bucle\")"
   ]
  },
  {
   "cell_type": "code",
   "execution_count": null,
   "id": "bbb67df4-ada1-4d1e-8002-c819a939664c",
   "metadata": {},
   "outputs": [],
   "source": []
  }
 ],
 "metadata": {
  "kernelspec": {
   "display_name": "Python 3 (ipykernel)",
   "language": "python",
   "name": "python3"
  },
  "language_info": {
   "codemirror_mode": {
    "name": "ipython",
    "version": 3
   },
   "file_extension": ".py",
   "mimetype": "text/x-python",
   "name": "python",
   "nbconvert_exporter": "python",
   "pygments_lexer": "ipython3",
   "version": "3.9.12"
  }
 },
 "nbformat": 4,
 "nbformat_minor": 5
}
