{
 "cells": [
  {
   "cell_type": "markdown",
   "id": "e2e64aa5-2e17-4d3d-a5fa-909836fe12e4",
   "metadata": {},
   "source": [
    "# Día 10 (#100DaysOfCode)"
   ]
  },
  {
   "cell_type": "markdown",
   "id": "a0a2eb22-7315-4b2b-b4d2-e0f98f740299",
   "metadata": {},
   "source": [
    "## 1. Adición de elemento ```.add(element)```"
   ]
  },
  {
   "cell_type": "code",
   "execution_count": 6,
   "id": "caa1a684-1532-4b7f-9b71-7add36ad5127",
   "metadata": {},
   "outputs": [
    {
     "data": {
      "text/plain": [
       "{1, 2, 3, 4, 5, 6}"
      ]
     },
     "execution_count": 6,
     "metadata": {},
     "output_type": "execute_result"
    }
   ],
   "source": [
    "conjunto = {1,2,3,4,5,6}\n",
    "conjunto.add(True)\n",
    "conjunto"
   ]
  },
  {
   "cell_type": "markdown",
   "id": "0987be6a-b002-4ac7-be2d-1dcd244a646d",
   "metadata": {},
   "source": [
    "## 2. Adicion de varios elementos ```.update(lista_elementos)```"
   ]
  },
  {
   "cell_type": "code",
   "execution_count": 8,
   "id": "4869735a-7edf-4388-ba7c-1067ec235ceb",
   "metadata": {},
   "outputs": [
    {
     "data": {
      "text/plain": [
       "{False, 1, 2, 3, 4, 5, 6, 20, 21, 22}"
      ]
     },
     "execution_count": 8,
     "metadata": {},
     "output_type": "execute_result"
    }
   ],
   "source": [
    "conjunto = {1,2,3,4,5,6}\n",
    "conjunto.update([True,False,True])\n",
    "conjunto.update([20,21,22])\n",
    "conjunto"
   ]
  },
  {
   "cell_type": "markdown",
   "id": "a5de23b8-e854-49ae-993e-2e003c884c30",
   "metadata": {},
   "source": [
    "## 3. Eliminación de elementos ```.remove(element)```/ ```.discard(element)```"
   ]
  },
  {
   "cell_type": "code",
   "execution_count": 46,
   "id": "f82413cd-b1e0-461d-a980-230a741d0c5a",
   "metadata": {},
   "outputs": [
    {
     "ename": "KeyError",
     "evalue": "0",
     "output_type": "error",
     "traceback": [
      "\u001b[1;31m---------------------------------------------------------------------------\u001b[0m",
      "\u001b[1;31mKeyError\u001b[0m                                  Traceback (most recent call last)",
      "Input \u001b[1;32mIn [46]\u001b[0m, in \u001b[0;36m<cell line: 2>\u001b[1;34m()\u001b[0m\n\u001b[0;32m      1\u001b[0m conjunto \u001b[38;5;241m=\u001b[39m {\u001b[38;5;241m1\u001b[39m,\u001b[38;5;241m2\u001b[39m,\u001b[38;5;241m3\u001b[39m,\u001b[38;5;241m4\u001b[39m,\u001b[38;5;241m5\u001b[39m,\u001b[38;5;241m6\u001b[39m}\n\u001b[1;32m----> 2\u001b[0m \u001b[43mconjunto\u001b[49m\u001b[38;5;241;43m.\u001b[39;49m\u001b[43mremove\u001b[49m\u001b[43m(\u001b[49m\u001b[38;5;241;43m0\u001b[39;49m\u001b[43m)\u001b[49m\n\u001b[0;32m      3\u001b[0m conjunto\n",
      "\u001b[1;31mKeyError\u001b[0m: 0"
     ]
    }
   ],
   "source": [
    "conjunto = {1,2,3,4,5,6}\n",
    "conjunto.remove(0)\n",
    "conjunto"
   ]
  },
  {
   "cell_type": "code",
   "execution_count": 45,
   "id": "59c4f0a8-391b-4580-b983-2d97f627c24c",
   "metadata": {},
   "outputs": [
    {
     "data": {
      "text/plain": [
       "{1, 2, 3, 4, 5, 6}"
      ]
     },
     "execution_count": 45,
     "metadata": {},
     "output_type": "execute_result"
    }
   ],
   "source": [
    "conjunto = {1,2,3,4,5,6}\n",
    "conjunto.discard(0)\n",
    "conjunto"
   ]
  },
  {
   "cell_type": "markdown",
   "id": "c243ae9f-5493-48ae-a468-8882fcdc4ad1",
   "metadata": {},
   "source": [
    "## 4. Eliminación de elemento aleatorio ```.pop()```"
   ]
  },
  {
   "cell_type": "code",
   "execution_count": 11,
   "id": "948eef70-743e-405f-9e10-cb3abfe9cc5c",
   "metadata": {},
   "outputs": [
    {
     "data": {
      "text/plain": [
       "1"
      ]
     },
     "execution_count": 11,
     "metadata": {},
     "output_type": "execute_result"
    }
   ],
   "source": [
    "conjunto = {1,2,3,4,5,6}\n",
    "conjunto.pop() # retorna el elemento eliminado aleatoriamente"
   ]
  },
  {
   "cell_type": "markdown",
   "id": "b5968123-9bdd-4d98-9991-1cc8499388e7",
   "metadata": {},
   "source": [
    "## 5. Limpieza del conjunto ```.clear()```"
   ]
  },
  {
   "cell_type": "code",
   "execution_count": 12,
   "id": "b2b182c3-bc3a-48b6-a7dd-616a56b2a982",
   "metadata": {},
   "outputs": [
    {
     "data": {
      "text/plain": [
       "set()"
      ]
     },
     "execution_count": 12,
     "metadata": {},
     "output_type": "execute_result"
    }
   ],
   "source": [
    "conjunto = {1,2,3,4,5,6}\n",
    "conjunto.clear()\n",
    "conjunto"
   ]
  },
  {
   "cell_type": "markdown",
   "id": "e3fd397e-1d4e-459d-aa14-b67ffb4da4b6",
   "metadata": {},
   "source": [
    "## 6. Eliminar conjunto ```del```"
   ]
  },
  {
   "cell_type": "code",
   "execution_count": 13,
   "id": "9c0191fb-a7c7-4333-a838-6011593b9a4c",
   "metadata": {},
   "outputs": [
    {
     "ename": "NameError",
     "evalue": "name 'conjunto' is not defined",
     "output_type": "error",
     "traceback": [
      "\u001b[1;31m---------------------------------------------------------------------------\u001b[0m",
      "\u001b[1;31mNameError\u001b[0m                                 Traceback (most recent call last)",
      "Input \u001b[1;32mIn [13]\u001b[0m, in \u001b[0;36m<cell line: 3>\u001b[1;34m()\u001b[0m\n\u001b[0;32m      1\u001b[0m conjunto \u001b[38;5;241m=\u001b[39m {\u001b[38;5;241m1\u001b[39m,\u001b[38;5;241m2\u001b[39m,\u001b[38;5;241m3\u001b[39m,\u001b[38;5;241m4\u001b[39m,\u001b[38;5;241m5\u001b[39m,\u001b[38;5;241m6\u001b[39m}\n\u001b[0;32m      2\u001b[0m \u001b[38;5;28;01mdel\u001b[39;00m conjunto\n\u001b[1;32m----> 3\u001b[0m \u001b[43mconjunto\u001b[49m\n",
      "\u001b[1;31mNameError\u001b[0m: name 'conjunto' is not defined"
     ]
    }
   ],
   "source": [
    "conjunto = {1,2,3,4,5,6}\n",
    "del conjunto\n",
    "conjunto"
   ]
  },
  {
   "cell_type": "markdown",
   "id": "6af31433-68a7-41e0-beb5-964fc8f40a7d",
   "metadata": {},
   "source": [
    "## 7. Lista -> Conjunto"
   ]
  },
  {
   "cell_type": "code",
   "execution_count": 14,
   "id": "65231803-dda4-45a0-9d14-81e1add216eb",
   "metadata": {},
   "outputs": [
    {
     "data": {
      "text/plain": [
       "{4.5, 'Olla', 'cocina', 'cuchillo', 'plato'}"
      ]
     },
     "execution_count": 14,
     "metadata": {},
     "output_type": "execute_result"
    }
   ],
   "source": [
    "lista = ['Olla', 'cuchillo', 'plato', 'cocina', 4.5]\n",
    "conjunto = set(lista)\n",
    "conjunto"
   ]
  },
  {
   "cell_type": "markdown",
   "id": "88fa1289-c037-453d-9f4d-72e4d8cfd5e1",
   "metadata": {},
   "source": [
    "## 8. Operaciones con conjuntos"
   ]
  },
  {
   "cell_type": "code",
   "execution_count": 20,
   "id": "7a81a8cd-89ae-4c21-b940-951aafdc43b7",
   "metadata": {},
   "outputs": [
    {
     "data": {
      "text/plain": [
       "({1, 2, 3, 4, 5, 6, 7, 8, 9}, {1, 2, 3, 4, 5, 6, 7, 8, 9})"
      ]
     },
     "execution_count": 20,
     "metadata": {},
     "output_type": "execute_result"
    }
   ],
   "source": [
    "# union\n",
    "\n",
    "conjunto_A = {3,4,5,6}\n",
    "conjunto_B = {1,2,7,8,9}\n",
    "\n",
    "union = conjunto_A.union(conjunto_B)\n",
    "conjunto_A.update(conjunto_B) # se añaden al conjunto A\n",
    "union, conjunto_A"
   ]
  },
  {
   "cell_type": "code",
   "execution_count": 22,
   "id": "43ce7a5a-390d-4587-9921-23a7722d797b",
   "metadata": {},
   "outputs": [
    {
     "data": {
      "text/plain": [
       "{3, 4}"
      ]
     },
     "execution_count": 22,
     "metadata": {},
     "output_type": "execute_result"
    }
   ],
   "source": [
    "# interseccion\n",
    "\n",
    "conjunto_A = {3,4,5,6}\n",
    "conjunto_B = {1,2,3,4,7,8,9}\n",
    "\n",
    "conjunto_A.intersection(conjunto_B)"
   ]
  },
  {
   "cell_type": "code",
   "execution_count": 25,
   "id": "4c4efb33-4c70-4975-baac-0c4ec3e4a157",
   "metadata": {},
   "outputs": [
    {
     "data": {
      "text/plain": [
       "(True, True)"
      ]
     },
     "execution_count": 25,
     "metadata": {},
     "output_type": "execute_result"
    }
   ],
   "source": [
    "# subconjuntos y superconjuntos\n",
    "\n",
    "conjunto_A = {3,4,5,6}\n",
    "conjunto_B = {1,2,3,4,5,6,7,8,9}\n",
    "\n",
    "#subconjunto superconjunto\n",
    "conjunto_A.issubset(conjunto_B), conjunto_B.issuperset(conjunto_A)"
   ]
  },
  {
   "cell_type": "code",
   "execution_count": 26,
   "id": "f7997b7b-9098-461b-b8f6-503fc1dda856",
   "metadata": {},
   "outputs": [
    {
     "data": {
      "text/plain": [
       "{3, 4, 5, 6}"
      ]
     },
     "execution_count": 26,
     "metadata": {},
     "output_type": "execute_result"
    }
   ],
   "source": [
    "# diferencia de conjuntos\n",
    "\n",
    "conjunto_A = {3,4,5,6}\n",
    "conjunto_B = {1,2,7,8,9}\n",
    "\n",
    "conjunto_A.difference(conjunto_B) # Lo que tiene A y no tiene B"
   ]
  },
  {
   "cell_type": "code",
   "execution_count": 28,
   "id": "7b2ab85b-9822-48fd-a33b-337f7b794bc1",
   "metadata": {},
   "outputs": [
    {
     "data": {
      "text/plain": [
       "{1, 2, 3, 4, 5, 6}"
      ]
     },
     "execution_count": 28,
     "metadata": {},
     "output_type": "execute_result"
    }
   ],
   "source": [
    "# diferencia simetrica\n",
    "conjunto_A = {3,4,5,6,8,9,7}\n",
    "conjunto_B = {1,2,7,8,9}\n",
    "\n",
    "# los elementos que tienen solamente cada conjunto pero no los que\n",
    "# tienen ambos conjuntos\n",
    "\n",
    "conjunto_A.symmetric_difference(conjunto_B) "
   ]
  },
  {
   "cell_type": "code",
   "execution_count": 30,
   "id": "c306ec6e-84bd-4fd8-9833-3685db123eab",
   "metadata": {},
   "outputs": [
    {
     "data": {
      "text/plain": [
       "True"
      ]
     },
     "execution_count": 30,
     "metadata": {},
     "output_type": "execute_result"
    }
   ],
   "source": [
    "# verificar si dos conjuntos son disjuntos\n",
    "\n",
    "conjunto_A = {3,4,5,6}\n",
    "conjunto_B = {1,2,7,8,9}\n",
    "\n",
    "conjunto_A.isdisjoint(conjunto_B)"
   ]
  },
  {
   "cell_type": "markdown",
   "id": "fc39529f-23b3-4080-9a9d-40794a87ec80",
   "metadata": {},
   "source": [
    "## 9. Ejercicios"
   ]
  },
  {
   "cell_type": "code",
   "execution_count": 58,
   "id": "faa2655f-67fe-43d8-8713-129e551d3111",
   "metadata": {},
   "outputs": [],
   "source": [
    "# sets\n",
    "it_companies = {'Facebook', 'Google', 'Microsoft', 'Apple', 'IBM', 'Oracle', 'Amazon'}\n",
    "A = {19, 22, 24, 20, 25, 26}\n",
    "B = {19, 22, 20, 25, 26, 24, 28, 27}\n",
    "age = [22, 19, 24, 25, 26, 24, 25, 24]"
   ]
  },
  {
   "cell_type": "code",
   "execution_count": 44,
   "id": "366cc7b5-fc41-44ee-84ec-e5b168e20ca3",
   "metadata": {},
   "outputs": [
    {
     "name": "stdout",
     "output_type": "stream",
     "text": [
      "13\n",
      "{'Twitter', 'Facebook', 'Apple', 'NTT Data', 'Globant', 'Amazon', 'Lenovo', 'IBM', 'Meta', 'Google', 'spark', 'Oracle', 'GitHub'}\n",
      "{'Twitter', 'Facebook', 'Apple', 'NTT Data', 'Globant', 'Amazon', 'Lenovo', 'IBM', 'Meta', 'Google', 'spark', 'Oracle', 'GitHub'}\n",
      "Twitter\n",
      "{'Facebook', 'Apple', 'NTT Data', 'Globant', 'Amazon', 'Lenovo', 'IBM', 'Meta', 'Google', 'spark', 'Oracle', 'GitHub'}\n"
     ]
    }
   ],
   "source": [
    "# lvl1 \n",
    "print(len(it_companies))\n",
    "\n",
    "it_companies.add('Twitter')\n",
    "print(it_companies)\n",
    "\n",
    "it_companies.update(['GitHub', 'spark', 'Lenovo', 'Meta', 'Globant', 'NTT Data'])\n",
    "print(it_companies)\n",
    "\n",
    "print(it_companies.pop())\n",
    "print(it_companies)\n",
    "\n",
    "# La diferencia entre remove() y discard() es que en remove si no se encuentra el elemento a eliminar sale error."
   ]
  },
  {
   "cell_type": "code",
   "execution_count": 55,
   "id": "d927a9c6-c59d-41fa-8cf4-5c7066d775d2",
   "metadata": {},
   "outputs": [
    {
     "name": "stdout",
     "output_type": "stream",
     "text": [
      "{19, 20, 22, 24, 25, 26, 27, 28}\n",
      "{19, 20, 22, 24, 25, 26}\n",
      "True\n",
      "False\n",
      "{19, 20, 22, 24, 25, 26, 27, 28}\n",
      "{27, 28}\n"
     ]
    }
   ],
   "source": [
    "# lvl2\n",
    "\n",
    "print(A.union(B))\n",
    "print(A.intersection(B))\n",
    "print(A.issubset(B))\n",
    "print(A.isdisjoint(B))\n",
    "print(B.union(A))\n",
    "print(A.symmetric_difference(B))\n",
    "\n",
    "del A, B"
   ]
  },
  {
   "cell_type": "code",
   "execution_count": 64,
   "id": "9e54a893-fae7-4ecf-bb8e-56cdd539d2fd",
   "metadata": {},
   "outputs": [
    {
     "name": "stdout",
     "output_type": "stream",
     "text": [
      "{19, 22, 24, 25, 26}\n"
     ]
    },
    {
     "data": {
      "text/plain": [
       "False"
      ]
     },
     "execution_count": 64,
     "metadata": {},
     "output_type": "execute_result"
    }
   ],
   "source": [
    "#lvl 3\n",
    "ages_conjunto = set(age)\n",
    "print(ages_conjunto)\n",
    "len(ages_conjunto) == len(age)"
   ]
  },
  {
   "cell_type": "code",
   "execution_count": 70,
   "id": "14f1f9fd-bace-416d-88ac-686073e72fcc",
   "metadata": {},
   "outputs": [
    {
     "data": {
      "text/plain": [
       "(10, 11)"
      ]
     },
     "execution_count": 70,
     "metadata": {},
     "output_type": "execute_result"
    }
   ],
   "source": [
    "frase = \"Soy profesora y me encanta inspirar y enseñar a la gente\"\n",
    "frase_separed = frase.split()\n",
    "frase_conjunto =set(frase_separed)\n",
    "len(frase_conjunto), len(frase_separed)"
   ]
  },
  {
   "cell_type": "markdown",
   "id": "8d402660-d035-411e-9b5e-77901cbc0a2b",
   "metadata": {},
   "source": [
    "# DICCIONARIOS\n",
    "- diferentes tipos de datos\n",
    "- No ordenados\n",
    "- modificables\n",
    "- formato (clave:valor)"
   ]
  },
  {
   "cell_type": "markdown",
   "id": "6a320470-0c7d-4e65-a4ac-95f4cb5e7c5d",
   "metadata": {},
   "source": [
    "## 1. Creaciones diccionarios"
   ]
  },
  {
   "cell_type": "code",
   "execution_count": 72,
   "id": "59d458a8-8366-4c6a-9e00-01fcc2dae5d3",
   "metadata": {},
   "outputs": [
    {
     "data": {
      "text/plain": [
       "({}, {})"
      ]
     },
     "execution_count": 72,
     "metadata": {},
     "output_type": "execute_result"
    }
   ],
   "source": [
    "# metodo 1\n",
    "\n",
    "diccionario = {}\n",
    "diccionario2 = dict()\n",
    "diccionario, diccionario2"
   ]
  },
  {
   "cell_type": "code",
   "execution_count": 74,
   "id": "27ef2259-2391-4e98-b1ae-307419124b1b",
   "metadata": {},
   "outputs": [
    {
     "data": {
      "text/plain": [
       "6"
      ]
     },
     "execution_count": 74,
     "metadata": {},
     "output_type": "execute_result"
    }
   ],
   "source": [
    "diccionario = {'clave1': 'valor1', 'clave2': 'valor2','clave3': 'valor3','clave4': 'valor4','clave5': 'valor5','clave6': 'valor6'}\n",
    "len(diccionario)"
   ]
  },
  {
   "cell_type": "markdown",
   "id": "fcf08dc9-0fb9-4183-9aea-a431af4e9a6a",
   "metadata": {},
   "source": [
    "## 2. Acceso a elementos de un diccionario"
   ]
  },
  {
   "cell_type": "code",
   "execution_count": 80,
   "id": "a7bcb1f9-a795-43b4-8504-6d14e305c861",
   "metadata": {},
   "outputs": [
    {
     "name": "stdout",
     "output_type": "stream",
     "text": [
      "valor3\n",
      "valor1\n"
     ]
    },
    {
     "ename": "KeyError",
     "evalue": "'clave7'",
     "output_type": "error",
     "traceback": [
      "\u001b[1;31m---------------------------------------------------------------------------\u001b[0m",
      "\u001b[1;31mKeyError\u001b[0m                                  Traceback (most recent call last)",
      "Input \u001b[1;32mIn [80]\u001b[0m, in \u001b[0;36m<cell line: 3>\u001b[1;34m()\u001b[0m\n\u001b[0;32m      1\u001b[0m \u001b[38;5;28mprint\u001b[39m(diccionario[\u001b[38;5;124m'\u001b[39m\u001b[38;5;124mclave3\u001b[39m\u001b[38;5;124m'\u001b[39m])\n\u001b[0;32m      2\u001b[0m \u001b[38;5;28mprint\u001b[39m(diccionario[\u001b[38;5;124m'\u001b[39m\u001b[38;5;124mclave1\u001b[39m\u001b[38;5;124m'\u001b[39m])\n\u001b[1;32m----> 3\u001b[0m \u001b[38;5;28mprint\u001b[39m(\u001b[43mdiccionario\u001b[49m\u001b[43m[\u001b[49m\u001b[38;5;124;43m'\u001b[39;49m\u001b[38;5;124;43mclave7\u001b[39;49m\u001b[38;5;124;43m'\u001b[39;49m\u001b[43m]\u001b[49m)\n",
      "\u001b[1;31mKeyError\u001b[0m: 'clave7'"
     ]
    }
   ],
   "source": [
    "print(diccionario['clave3'])\n",
    "print(diccionario['clave1'])\n",
    "print(diccionario['clave7'])"
   ]
  },
  {
   "cell_type": "markdown",
   "id": "ba3ff4bc-f624-4723-9d24-480a259a8740",
   "metadata": {},
   "source": [
    "## 3. Obtener claves ```.get(valor)```"
   ]
  },
  {
   "cell_type": "code",
   "execution_count": 79,
   "id": "987dc4d5-cc39-452e-971b-7c0a52321d41",
   "metadata": {},
   "outputs": [
    {
     "name": "stdout",
     "output_type": "stream",
     "text": [
      "None\n",
      "valor3\n"
     ]
    }
   ],
   "source": [
    "diccionario = {'clave1': 'valor1', 'clave2': 'valor2','clave3': 'valor3','clave4': 'valor4','clave5': 'valor5','clave6': 'valor6'}\n",
    "print(diccionario.get('valor3'))\n",
    "print(diccionario.get('clave3'))"
   ]
  },
  {
   "cell_type": "markdown",
   "id": "e1193bc9-f62b-42ff-9bcc-cb9c58be3685",
   "metadata": {},
   "source": [
    "## 4. Adición de elementos"
   ]
  },
  {
   "cell_type": "code",
   "execution_count": 82,
   "id": "ed832363-8899-4659-857d-3260b44eb989",
   "metadata": {},
   "outputs": [
    {
     "data": {
      "text/plain": [
       "{'clave1': 'valor1',\n",
       " 'clave2': 'valor2',\n",
       " 'clave3': 'valor3',\n",
       " 'clave4': 'valor4',\n",
       " 'clave5': 'valor5',\n",
       " 'clave6': 'valor6',\n",
       " 'valor7': 5.6}"
      ]
     },
     "execution_count": 82,
     "metadata": {},
     "output_type": "execute_result"
    }
   ],
   "source": [
    "diccionario = {'clave1': 'valor1', 'clave2': 'valor2','clave3': 'valor3','clave4': 'valor4','clave5': 'valor5','clave6': 'valor6'}\n",
    "diccionario['valor7']=5.6\n",
    "diccionario"
   ]
  },
  {
   "cell_type": "code",
   "execution_count": null,
   "id": "d7560363-7042-4ef5-8491-42af2bfe9c80",
   "metadata": {},
   "outputs": [],
   "source": []
  }
 ],
 "metadata": {
  "kernelspec": {
   "display_name": "Python 3 (ipykernel)",
   "language": "python",
   "name": "python3"
  },
  "language_info": {
   "codemirror_mode": {
    "name": "ipython",
    "version": 3
   },
   "file_extension": ".py",
   "mimetype": "text/x-python",
   "name": "python",
   "nbconvert_exporter": "python",
   "pygments_lexer": "ipython3",
   "version": "3.9.12"
  }
 },
 "nbformat": 4,
 "nbformat_minor": 5
}
