{
 "cells": [
  {
   "cell_type": "markdown",
   "id": "e2e64aa5-2e17-4d3d-a5fa-909836fe12e4",
   "metadata": {},
   "source": [
    "# Día 9 (#100DaysOfCode)"
   ]
  },
  {
   "cell_type": "markdown",
   "id": "e79bc90a-95bc-4fad-b1e1-74da5f975843",
   "metadata": {},
   "source": [
    "## TUPLAS\n",
    "- Diferentes tipos de datos\n",
    "- Ordenados\n",
    "- No modificables"
   ]
  },
  {
   "cell_type": "markdown",
   "id": "6c82e70e-3b2a-4669-b676-72c09e64e3dd",
   "metadata": {},
   "source": [
    "## 1. Creación de tuplas"
   ]
  },
  {
   "cell_type": "code",
   "execution_count": 1,
   "id": "819a1cb4-b40b-4c67-9975-182b6acf7d48",
   "metadata": {},
   "outputs": [],
   "source": [
    "# metodo 1\n",
    "\n",
    "tupla1 = ()\n",
    "\n",
    "# metodo 2\n",
    "\n",
    "tupla2 = tuple()"
   ]
  },
  {
   "cell_type": "code",
   "execution_count": 5,
   "id": "a5746f6d-8c0d-4096-a182-2afb42548314",
   "metadata": {},
   "outputs": [
    {
     "data": {
      "text/plain": [
       "('casaca', 'chaqueta', 'pantalón')"
      ]
     },
     "execution_count": 5,
     "metadata": {},
     "output_type": "execute_result"
    }
   ],
   "source": [
    "# tupla con valores iniciales\n",
    "\n",
    "tupla3 = ('casaca', 'chaqueta', 'pantalón')\n",
    "tupla3"
   ]
  },
  {
   "cell_type": "markdown",
   "id": "84e11b03-1f76-4338-b40b-2e4d0f8fa53f",
   "metadata": {},
   "source": [
    "## 2. Longitud de tupla"
   ]
  },
  {
   "cell_type": "code",
   "execution_count": 6,
   "id": "3862a00e-7e14-4a20-b5d2-d2adc4b659bd",
   "metadata": {},
   "outputs": [
    {
     "data": {
      "text/plain": [
       "3"
      ]
     },
     "execution_count": 6,
     "metadata": {},
     "output_type": "execute_result"
    }
   ],
   "source": [
    "len(tupla3)"
   ]
  },
  {
   "cell_type": "markdown",
   "id": "240a0f26-8b5d-48d7-a4f6-d2f0522d3ed2",
   "metadata": {},
   "source": [
    "## 3. Acceso a valores"
   ]
  },
  {
   "cell_type": "code",
   "execution_count": 7,
   "id": "359646ed-ad42-4858-8a42-58ff6b32f075",
   "metadata": {},
   "outputs": [
    {
     "data": {
      "text/plain": [
       "(1, 5)"
      ]
     },
     "execution_count": 7,
     "metadata": {},
     "output_type": "execute_result"
    }
   ],
   "source": [
    "tupla_example = (1,2,3,4,5,6)\n",
    "tupla_example[0], tupla_example[4]"
   ]
  },
  {
   "cell_type": "code",
   "execution_count": 10,
   "id": "c752dc3a-df31-4091-a2c0-c0ff63e0c01a",
   "metadata": {},
   "outputs": [
    {
     "data": {
      "text/plain": [
       "6"
      ]
     },
     "execution_count": 10,
     "metadata": {},
     "output_type": "execute_result"
    }
   ],
   "source": [
    "tupla_example[len(tupla_example)-1]"
   ]
  },
  {
   "cell_type": "code",
   "execution_count": 12,
   "id": "58484f87-b12a-4aba-bbe9-6e580d4c6351",
   "metadata": {},
   "outputs": [
    {
     "data": {
      "text/plain": [
       "(6, 5)"
      ]
     },
     "execution_count": 12,
     "metadata": {},
     "output_type": "execute_result"
    }
   ],
   "source": [
    "# acceso a los ultimos valores\n",
    "tupla_example[-1], tupla_example[-2]"
   ]
  },
  {
   "cell_type": "markdown",
   "id": "825c2be6-785f-4070-a657-3bd533a88e30",
   "metadata": {},
   "source": [
    "## 4. Subdivision tupla"
   ]
  },
  {
   "cell_type": "code",
   "execution_count": 13,
   "id": "4d5e4389-dbee-4373-b103-88ad0619768c",
   "metadata": {},
   "outputs": [
    {
     "data": {
      "text/plain": [
       "(('casaca', 'chaqueta', 'pantalón'), ('zapatos', 'polo', 'chalina'))"
      ]
     },
     "execution_count": 13,
     "metadata": {},
     "output_type": "execute_result"
    }
   ],
   "source": [
    "tupla_ropa = ('casaca', 'chaqueta', 'pantalón', 'zapatos', 'polo', 'chalina')\n",
    "\n",
    "tupla_ropa1 = tupla_ropa[0:3]\n",
    "tupla_ropa2 = tupla_ropa[3:len(tupla_ropa)]\n",
    "tupla_ropa1, tupla_ropa2"
   ]
  },
  {
   "cell_type": "code",
   "execution_count": 14,
   "id": "d014d31a-1195-4f5c-b34a-4905f2c851f8",
   "metadata": {},
   "outputs": [
    {
     "data": {
      "text/plain": [
       "('casaca', 'chaqueta', 'pantalón', 'zapatos')"
      ]
     },
     "execution_count": 14,
     "metadata": {},
     "output_type": "execute_result"
    }
   ],
   "source": [
    "tupla_ropa[:4]"
   ]
  },
  {
   "cell_type": "code",
   "execution_count": 15,
   "id": "b11946ad-173d-425e-9d19-71e5daa88fe7",
   "metadata": {},
   "outputs": [
    {
     "data": {
      "text/plain": [
       "('pantalón', 'zapatos', 'polo', 'chalina')"
      ]
     },
     "execution_count": 15,
     "metadata": {},
     "output_type": "execute_result"
    }
   ],
   "source": [
    "tupla_ropa[2:]"
   ]
  },
  {
   "cell_type": "code",
   "execution_count": 17,
   "id": "ce353758-f797-48ff-973d-fd3e4db1dd64",
   "metadata": {},
   "outputs": [
    {
     "data": {
      "text/plain": [
       "('casaca', 'zapatos')"
      ]
     },
     "execution_count": 17,
     "metadata": {},
     "output_type": "execute_result"
    }
   ],
   "source": [
    "tupla_ropa[::3]"
   ]
  },
  {
   "cell_type": "code",
   "execution_count": 18,
   "id": "294a8112-bfc6-4b4a-9086-e08bf706532b",
   "metadata": {},
   "outputs": [
    {
     "data": {
      "text/plain": [
       "('pantalón', 'zapatos', 'polo')"
      ]
     },
     "execution_count": 18,
     "metadata": {},
     "output_type": "execute_result"
    }
   ],
   "source": [
    "tupla_ropa[-4:-1]"
   ]
  },
  {
   "cell_type": "markdown",
   "id": "9056751f-4ffc-4c30-a111-b319707fda10",
   "metadata": {},
   "source": [
    "## 5. Tuplas -> Listas ```list(tupla)```"
   ]
  },
  {
   "cell_type": "code",
   "execution_count": 19,
   "id": "6d242eb9-f554-476a-8aa2-33f3cb6462e8",
   "metadata": {},
   "outputs": [
    {
     "data": {
      "text/plain": [
       "['pelota', True, 4.5, 7]"
      ]
     },
     "execution_count": 19,
     "metadata": {},
     "output_type": "execute_result"
    }
   ],
   "source": [
    "tupla = ('pelota', True, 4.5, 7)\n",
    "lista = list(tupla)\n",
    "lista"
   ]
  },
  {
   "cell_type": "code",
   "execution_count": 20,
   "id": "9f99cfd9-d6be-479c-8802-1ebcbdad3595",
   "metadata": {},
   "outputs": [
    {
     "data": {
      "text/plain": [
       "['pelota', True, 4.5, 7, False]"
      ]
     },
     "execution_count": 20,
     "metadata": {},
     "output_type": "execute_result"
    }
   ],
   "source": [
    "lista.append(False)\n",
    "lista"
   ]
  },
  {
   "cell_type": "code",
   "execution_count": 23,
   "id": "e03dcd1c-40f0-46c2-b37e-6ebe7e1c61f2",
   "metadata": {},
   "outputs": [
    {
     "data": {
      "text/plain": [
       "('pelota', True, 4.5, 7, False)"
      ]
     },
     "execution_count": 23,
     "metadata": {},
     "output_type": "execute_result"
    }
   ],
   "source": [
    "tupla = tuple(lista)\n",
    "tupla"
   ]
  },
  {
   "cell_type": "markdown",
   "id": "3a5af49f-ef36-4d9c-9dba-4765e1ff5460",
   "metadata": {},
   "source": [
    "## 6. Comprobacion de elementos ```in```"
   ]
  },
  {
   "cell_type": "code",
   "execution_count": 24,
   "id": "57c59f30-820d-4ede-9d9c-66e8117fe7a9",
   "metadata": {},
   "outputs": [
    {
     "data": {
      "text/plain": [
       "True"
      ]
     },
     "execution_count": 24,
     "metadata": {},
     "output_type": "execute_result"
    }
   ],
   "source": [
    "tupla = ('pelota', True, 4.5, 7)\n",
    "\n",
    "'pelota' in tupla"
   ]
  },
  {
   "cell_type": "code",
   "execution_count": 25,
   "id": "a318216a-fecb-4a17-93ae-69f7949f06bc",
   "metadata": {},
   "outputs": [
    {
     "data": {
      "text/plain": [
       "False"
      ]
     },
     "execution_count": 25,
     "metadata": {},
     "output_type": "execute_result"
    }
   ],
   "source": [
    "False in tupla"
   ]
  },
  {
   "cell_type": "markdown",
   "id": "596f96c1-0b04-432a-96be-6893bd31f601",
   "metadata": {},
   "source": [
    "## 7. Union ```+```"
   ]
  },
  {
   "cell_type": "code",
   "execution_count": 26,
   "id": "3e7f1126-3bb0-4b6e-ba0b-62f05cbbe293",
   "metadata": {},
   "outputs": [
    {
     "data": {
      "text/plain": [
       "('pelota', True, 4.5, 7, 'lapiz', False, 6.7, 3)"
      ]
     },
     "execution_count": 26,
     "metadata": {},
     "output_type": "execute_result"
    }
   ],
   "source": [
    "tupla = ('pelota', True, 4.5, 7)\n",
    "tupla_2 = ('lapiz', False, 6.7, 3)\n",
    "\n",
    "tupla_general = tupla + tupla_2\n",
    "tupla_general"
   ]
  },
  {
   "cell_type": "markdown",
   "id": "5263b83a-cbfc-4708-b4db-9e628fd3cc60",
   "metadata": {},
   "source": [
    "## 8. Eliminación ```del tupla```"
   ]
  },
  {
   "cell_type": "code",
   "execution_count": 27,
   "id": "a39d748d-459c-4904-8b87-d66f65eb1fee",
   "metadata": {},
   "outputs": [
    {
     "ename": "NameError",
     "evalue": "name 'tupla' is not defined",
     "output_type": "error",
     "traceback": [
      "\u001b[1;31m---------------------------------------------------------------------------\u001b[0m",
      "\u001b[1;31mNameError\u001b[0m                                 Traceback (most recent call last)",
      "Input \u001b[1;32mIn [27]\u001b[0m, in \u001b[0;36m<cell line: 5>\u001b[1;34m()\u001b[0m\n\u001b[0;32m      2\u001b[0m tupla_2 \u001b[38;5;241m=\u001b[39m (\u001b[38;5;124m'\u001b[39m\u001b[38;5;124mlapiz\u001b[39m\u001b[38;5;124m'\u001b[39m, \u001b[38;5;28;01mFalse\u001b[39;00m, \u001b[38;5;241m6.7\u001b[39m, \u001b[38;5;241m3\u001b[39m)\n\u001b[0;32m      4\u001b[0m \u001b[38;5;28;01mdel\u001b[39;00m tupla\n\u001b[1;32m----> 5\u001b[0m \u001b[43mtupla\u001b[49m\n",
      "\u001b[1;31mNameError\u001b[0m: name 'tupla' is not defined"
     ]
    }
   ],
   "source": [
    "tupla = ('pelota', True, 4.5, 7)\n",
    "tupla_2 = ('lapiz', False, 6.7, 3)\n",
    "\n",
    "del tupla\n",
    "tupla"
   ]
  },
  {
   "cell_type": "markdown",
   "id": "3de6aa88-2a91-4d2a-90b9-91295922c025",
   "metadata": {},
   "source": [
    "## 9. Ejercicios"
   ]
  },
  {
   "cell_type": "code",
   "execution_count": 32,
   "id": "68bb1d20-6d89-4f55-a4d1-f5305d451218",
   "metadata": {},
   "outputs": [
    {
     "name": "stdout",
     "output_type": "stream",
     "text": [
      "['Juan', 'lia']\n",
      "flavia\n"
     ]
    }
   ],
   "source": [
    "#lvl2\n",
    "\n",
    "familia = ('Juan', 'lia', 'flavia')\n",
    "\n",
    "*padres, hermanos = familia\n",
    "print(padres)\n",
    "print(hermanos)"
   ]
  },
  {
   "cell_type": "code",
   "execution_count": 52,
   "id": "fed906ce-f525-46c6-83c7-bfea125839e9",
   "metadata": {},
   "outputs": [
    {
     "data": {
      "text/plain": [
       "('naranja',\n",
       " 'manzana',\n",
       " 'platano',\n",
       " 'zapallo',\n",
       " 'zanahoria',\n",
       " 'espinaca',\n",
       " 'carne',\n",
       " 'pescado',\n",
       " 'pollo')"
      ]
     },
     "execution_count": 52,
     "metadata": {},
     "output_type": "execute_result"
    }
   ],
   "source": [
    "# 2\n",
    "\n",
    "frutas = ('naranja', 'manzana', 'platano')\n",
    "verduras = ('zapallo', 'zanahoria', 'espinaca')\n",
    "productos_animales  = ('carne', 'pescado', 'pollo')\n",
    "\n",
    "food_stuff_tp = frutas+verduras+productos_animales\n",
    "food_stuff_tp"
   ]
  },
  {
   "cell_type": "code",
   "execution_count": 37,
   "id": "c20e46bc-55ae-4bf0-be33-7a77c8502328",
   "metadata": {},
   "outputs": [
    {
     "data": {
      "text/plain": [
       "['naranja',\n",
       " 'manzana',\n",
       " 'platano',\n",
       " 'zapallo',\n",
       " 'zanahoria',\n",
       " 'espinaca',\n",
       " 'carne',\n",
       " 'pescado',\n",
       " 'pollo']"
      ]
     },
     "execution_count": 37,
     "metadata": {},
     "output_type": "execute_result"
    }
   ],
   "source": [
    "food_stuff_lt = list(food_stuff_tp)\n",
    "food_stuff_lt"
   ]
  },
  {
   "cell_type": "code",
   "execution_count": 43,
   "id": "7a06b921-65b6-4d0e-bff1-1f75c5b3b46b",
   "metadata": {},
   "outputs": [
    {
     "data": {
      "text/plain": [
       "(9, 4)"
      ]
     },
     "execution_count": 43,
     "metadata": {},
     "output_type": "execute_result"
    }
   ],
   "source": [
    "mitad = len(food_stuff_tp)//2\n",
    "\n",
    "len(food_stuff_tp), mitad"
   ]
  },
  {
   "cell_type": "code",
   "execution_count": 48,
   "id": "4590655a-692d-40d9-b716-ab5e5ac86913",
   "metadata": {},
   "outputs": [
    {
     "data": {
      "text/plain": [
       "('zanahoria', 'espinaca')"
      ]
     },
     "execution_count": 48,
     "metadata": {},
     "output_type": "execute_result"
    }
   ],
   "source": [
    "medios = food_stuff_tp[mitad:mitad+2]\n",
    "medios"
   ]
  },
  {
   "cell_type": "code",
   "execution_count": 50,
   "id": "8eb95364-0860-4562-b6fb-91b189c1e28b",
   "metadata": {},
   "outputs": [],
   "source": [
    "del food_stuff_tp"
   ]
  },
  {
   "cell_type": "code",
   "execution_count": 54,
   "id": "654d6788-692c-4df2-905a-aed65ee1abc7",
   "metadata": {},
   "outputs": [
    {
     "data": {
      "text/plain": [
       "True"
      ]
     },
     "execution_count": 54,
     "metadata": {},
     "output_type": "execute_result"
    }
   ],
   "source": [
    "'manzana' in food_stuff_tp"
   ]
  },
  {
   "cell_type": "markdown",
   "id": "1193c7d4-e3a9-4287-9098-23eb415bc61c",
   "metadata": {},
   "source": [
    "## CONJUNTOS\n",
    "- Diferentes tipos de datos\n",
    "- Desordenados\n",
    "- No indexados"
   ]
  },
  {
   "cell_type": "markdown",
   "id": "778e86c1-0b60-46dd-bfdf-0b4479e9c3b4",
   "metadata": {},
   "source": [
    "## 1. Creación de conjuntos"
   ]
  },
  {
   "cell_type": "code",
   "execution_count": 60,
   "id": "cabf612c-c54b-41d5-b10b-750fc5186b54",
   "metadata": {},
   "outputs": [
    {
     "data": {
      "text/plain": [
       "({}, set())"
      ]
     },
     "execution_count": 60,
     "metadata": {},
     "output_type": "execute_result"
    }
   ],
   "source": [
    "conjunto = {}\n",
    "# o\n",
    "conjunto2 = set()\n",
    "\n",
    "conjunto, conjunto2"
   ]
  },
  {
   "cell_type": "code",
   "execution_count": 61,
   "id": "dd08b533-cd84-4c9f-98c6-ad6e59125f0a",
   "metadata": {},
   "outputs": [
    {
     "data": {
      "text/plain": [
       "{'avion', 'barco', 'tren'}"
      ]
     },
     "execution_count": 61,
     "metadata": {},
     "output_type": "execute_result"
    }
   ],
   "source": [
    "# con elementos iniciales\n",
    "\n",
    "conjunto = {'tren', 'avion', 'barco'}\n",
    "conjunto"
   ]
  },
  {
   "cell_type": "markdown",
   "id": "04e19127-b7f5-44f5-b75f-2ad3eab306f0",
   "metadata": {},
   "source": [
    "## 2. Longitud"
   ]
  },
  {
   "cell_type": "code",
   "execution_count": 62,
   "id": "7ea12a14-a441-4be8-a909-727ecd1b64ba",
   "metadata": {},
   "outputs": [
    {
     "data": {
      "text/plain": [
       "3"
      ]
     },
     "execution_count": 62,
     "metadata": {},
     "output_type": "execute_result"
    }
   ],
   "source": [
    "len(conjunto)"
   ]
  },
  {
   "cell_type": "markdown",
   "id": "e296a251-45b1-4ea3-9f0a-7cce0f35a7ff",
   "metadata": {},
   "source": [
    "## 3. Comprobación de elementos"
   ]
  },
  {
   "cell_type": "code",
   "execution_count": 63,
   "id": "ae4f9e6b-7b32-457a-8633-f617e2e8ffa9",
   "metadata": {},
   "outputs": [
    {
     "data": {
      "text/plain": [
       "True"
      ]
     },
     "execution_count": 63,
     "metadata": {},
     "output_type": "execute_result"
    }
   ],
   "source": [
    "'tren' in conjunto"
   ]
  },
  {
   "cell_type": "code",
   "execution_count": null,
   "id": "f799c5b2-8f59-4064-9121-d28b9214e3ba",
   "metadata": {},
   "outputs": [],
   "source": []
  }
 ],
 "metadata": {
  "kernelspec": {
   "display_name": "Python 3 (ipykernel)",
   "language": "python",
   "name": "python3"
  },
  "language_info": {
   "codemirror_mode": {
    "name": "ipython",
    "version": 3
   },
   "file_extension": ".py",
   "mimetype": "text/x-python",
   "name": "python",
   "nbconvert_exporter": "python",
   "pygments_lexer": "ipython3",
   "version": "3.9.12"
  }
 },
 "nbformat": 4,
 "nbformat_minor": 5
}
