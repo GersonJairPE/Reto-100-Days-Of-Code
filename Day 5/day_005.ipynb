{
 "cells": [
  {
   "cell_type": "markdown",
   "id": "8e3b8c7e-c325-4d82-bfec-0b06af97a251",
   "metadata": {},
   "source": [
    "# Día 5 (#100DaysOfCode)"
   ]
  },
  {
   "cell_type": "markdown",
   "id": "d1bf3cb1-95bd-4fbc-8685-1d217b195712",
   "metadata": {},
   "source": [
    "Continuamos con los pendiente relacionado a strings del día 4"
   ]
  },
  {
   "cell_type": "markdown",
   "id": "796583bc-0fd4-4b93-8b28-48e217c96bab",
   "metadata": {},
   "source": [
    "## 1. Metodo de cadena ```variable.metodo()```"
   ]
  },
  {
   "cell_type": "code",
   "execution_count": 23,
   "id": "02ed663c-51ac-4cd2-87ec-01abeab073d7",
   "metadata": {},
   "outputs": [
    {
     "name": "stdout",
     "output_type": "stream",
     "text": [
      "Mi\tsueño\tes ser un data scientist\n",
      "3\n",
      "1\n",
      "True\n",
      "mi                  sueño               es ser un data scientist\n",
      "1\n",
      "3\n"
     ]
    }
   ],
   "source": [
    "palabra = \"mi\\tsueño\\tes ser un data scientist\"\n",
    "palabra2 = \"asda33dj\"\n",
    "palabra3 = \"45\"\n",
    "palabra4 = \"34\"\n",
    "\n",
    "print(palabra.capitalize())\n",
    "print(palabra.count('i')) # Hay tres veces 'i'\n",
    "print(palabra.count('i', 0, 5))\n",
    "print(palabra.endswith('st')) # Indica si termina en los caracteres ingresados\n",
    "print(palabra.expandtabs(20))\n",
    "print(palabra.find('i')) # Nos indica el indice en el primero que encuentre\n",
    "print(palabra.find('sueño')) #primera posicion de la frase"
   ]
  },
  {
   "cell_type": "code",
   "execution_count": 43,
   "id": "a5049eb3-005a-4bbe-8a94-c151227a4cb1",
   "metadata": {},
   "outputs": [
    {
     "name": "stdout",
     "output_type": "stream",
     "text": [
      "30\n",
      "4\n",
      "16\n",
      "False\n",
      "False\n",
      "True\n",
      "True\n",
      "False\n",
      "True\n",
      "False\n",
      "True\n"
     ]
    }
   ],
   "source": [
    "# conitnuacion dia 5\n",
    "palabra = \"mi\\tsueño\\tes ser un data scientist\"\n",
    "palabra2 = \"_Rsda33dj\"\n",
    "palabra3 = \"45\"\n",
    "palabra4 = \"34\"\n",
    "palabra5 = \"RRRR\"\n",
    "\n",
    "print(palabra.rfind('i')) # imprime la ultamia coincidencia del caracater o frase\n",
    "print(palabra.index('u')) # La coincidencia con el indice más bajo\n",
    "print(palabra.rindex('u')) # La coincidencia con el indice más alto\n",
    "print(palabra2.isalnum()) # Verifica si la variable contiene todos los caracteres alfanumericos (Los espacios no son alfanumericos)\n",
    "print(palabra2.isalpha()) # Verifica si los caracteres son alfabeticos A-Za-z\n",
    "print(palabra3.isdecimal()) # Valida si los caracteres son decimales (0-9)\n",
    "print(palabra4.isdigit()) # Si contiene digitos 0-9 y caracateres unicode '\\u'\n",
    "print(palabra5.isnumeric()) # al igual que el isdigit pero acepta mas simbolos que son unicode\"\n",
    "\n",
    "print(palabra2.isidentifier()) # Verifica si la cadena corresponde a un nombre de variable valido\n",
    "print(palabra2.islower()) # Si todos los caracteres son minusculas\n",
    "print(palabra5.isupper()) # Si hay caracteres son mayusculas"
   ]
  },
  {
   "cell_type": "code",
   "execution_count": 62,
   "id": "81e463c7-cfec-46c1-9447-4c27d3fee8d8",
   "metadata": {},
   "outputs": [
    {
     "name": "stdout",
     "output_type": "stream",
     "text": [
      "F r a s e o l a r g a\n"
     ]
    }
   ],
   "source": [
    "cadena = 'Fraseolarga'\n",
    "res = ' '.join(cadena)\n",
    "print(res)"
   ]
  },
  {
   "cell_type": "code",
   "execution_count": 58,
   "id": "0ac4c2d2-0bf6-470a-9281-b49c638dca8a",
   "metadata": {},
   "outputs": [
    {
     "name": "stdout",
     "output_type": "stream",
     "text": [
      "Frase\n"
     ]
    }
   ],
   "source": [
    "# Quita la frase que se pasa como parametro\n",
    "print(cadena.strip('larga'))"
   ]
  },
  {
   "cell_type": "code",
   "execution_count": 59,
   "id": "b8dd76ad-58ee-40b7-8cff-bc6bf199442e",
   "metadata": {},
   "outputs": [
    {
     "name": "stdout",
     "output_type": "stream",
     "text": [
      "Frase - bonita\n"
     ]
    }
   ],
   "source": [
    "#remplaza la cadena con una cadena dada\n",
    "\n",
    "print(cadena.replace('larga',' - bonita'))"
   ]
  },
  {
   "cell_type": "code",
   "execution_count": 64,
   "id": "9d796fcc-684a-4047-b6cb-863f57d04ce9",
   "metadata": {},
   "outputs": [
    {
     "name": "stdout",
     "output_type": "stream",
     "text": [
      "<class 'list'>\n"
     ]
    }
   ],
   "source": [
    "#separa la cadena dada ya sea por el espacio o por un caracter ingresado como parametro de entrada y lo guarda en una lista\n",
    "\n",
    "print(type(cadena.split('o')))"
   ]
  },
  {
   "cell_type": "code",
   "execution_count": 69,
   "id": "6d2b0577-1ad5-478b-91f3-720f38f479b7",
   "metadata": {},
   "outputs": [
    {
     "name": "stdout",
     "output_type": "stream",
     "text": [
      "Esta Es Una Frase Para El Futuro\n"
     ]
    }
   ],
   "source": [
    "word = \"Esta es una frase para el futuro\"\n",
    "print(word.title())"
   ]
  },
  {
   "cell_type": "code",
   "execution_count": 70,
   "id": "d5a3ed79-a192-4f3b-95f4-a14f046aeeac",
   "metadata": {},
   "outputs": [
    {
     "data": {
      "text/plain": [
       "'eSTA ES UNA FRASE PARA EL FUTURO'"
      ]
     },
     "execution_count": 70,
     "metadata": {},
     "output_type": "execute_result"
    }
   ],
   "source": [
    "word.swapcase()"
   ]
  },
  {
   "cell_type": "code",
   "execution_count": 74,
   "id": "521c81b4-269c-44eb-afe4-a93ff6e9670d",
   "metadata": {},
   "outputs": [
    {
     "data": {
      "text/plain": [
       "True"
      ]
     },
     "execution_count": 74,
     "metadata": {},
     "output_type": "execute_result"
    }
   ],
   "source": [
    "#se verifica si la cadena empieza con la frase indicada como parametro\n",
    "word.startswith('Esta')"
   ]
  },
  {
   "cell_type": "markdown",
   "id": "513eaa71-3692-4794-9eda-c84a497c91dc",
   "metadata": {},
   "source": [
    "## 2. Ejercicios"
   ]
  },
  {
   "cell_type": "code",
   "execution_count": 80,
   "id": "78a708a1-8c19-487f-aa70-f13b82fab1d5",
   "metadata": {},
   "outputs": [
    {
     "name": "stdout",
     "output_type": "stream",
     "text": [
      "Treinta Dias De Python\n"
     ]
    }
   ],
   "source": [
    "# 1\n",
    "\n",
    "a, b, c, d = 'Treinta', 'Dias', 'De', 'Python'\n",
    "print(f'{a} {b} {c} {d}')"
   ]
  },
  {
   "cell_type": "code",
   "execution_count": 82,
   "id": "9611e584-ae74-4bdf-9fd4-77cee43688fc",
   "metadata": {},
   "outputs": [
    {
     "name": "stdout",
     "output_type": "stream",
     "text": [
      "23\n"
     ]
    }
   ],
   "source": [
    "# 3 4 5\n",
    "\n",
    "empresa = \"Codificación para todos\"\n",
    "print(len(empresa))"
   ]
  },
  {
   "cell_type": "code",
   "execution_count": 83,
   "id": "bc557e28-e9f3-4ea0-a51b-7e676be84f48",
   "metadata": {},
   "outputs": [
    {
     "data": {
      "text/plain": [
       "'CODIFICACIÓN PARA TODOS'"
      ]
     },
     "execution_count": 83,
     "metadata": {},
     "output_type": "execute_result"
    }
   ],
   "source": [
    "# 6\n",
    "\n",
    "empresa.upper()"
   ]
  },
  {
   "cell_type": "code",
   "execution_count": 84,
   "id": "ca0bdefc-b250-4241-a11a-cb3f66a7be6e",
   "metadata": {},
   "outputs": [
    {
     "data": {
      "text/plain": [
       "'codificación para todos'"
      ]
     },
     "execution_count": 84,
     "metadata": {},
     "output_type": "execute_result"
    }
   ],
   "source": [
    "# 7 \n",
    "empresa.lower()"
   ]
  },
  {
   "cell_type": "code",
   "execution_count": 85,
   "id": "6cfa821a-9cf5-45a6-abec-d97b05f5e72c",
   "metadata": {},
   "outputs": [
    {
     "name": "stdout",
     "output_type": "stream",
     "text": [
      "Codificación para todos\n",
      "Codificación Para Todos\n",
      "cODIFICACIÓN PARA TODOS\n"
     ]
    }
   ],
   "source": [
    "# 8\n",
    "print(empresa.capitalize())\n",
    "print(empresa.title())\n",
    "print(empresa.swapcase())"
   ]
  },
  {
   "cell_type": "code",
   "execution_count": 88,
   "id": "a32d9995-571c-47de-bbae-da30a2806099",
   "metadata": {},
   "outputs": [
    {
     "name": "stdout",
     "output_type": "stream",
     "text": [
      "El area de un circulo con radio 10 es 314 metros cuadrados\n"
     ]
    }
   ],
   "source": [
    "#35\n",
    "\n",
    "radio = 10\n",
    "area = 3.14*radio**2\n",
    "print(f'El area de un circulo con radio {radio} es {area:.0f} metros cuadrados')"
   ]
  },
  {
   "cell_type": "markdown",
   "id": "47f76474-532f-43b5-bffc-a7b384839634",
   "metadata": {},
   "source": [
    "## 3. LISTAS\n",
    "\n",
    "* Diferentes tipos de datos\n",
    "* Ordenados\n",
    "* Modificables"
   ]
  },
  {
   "cell_type": "code",
   "execution_count": 101,
   "id": "0e824bf1-5455-45fe-9392-5f5e45b08946",
   "metadata": {},
   "outputs": [
    {
     "name": "stdout",
     "output_type": "stream",
     "text": [
      "[]\n"
     ]
    },
    {
     "data": {
      "text/plain": [
       "[]"
      ]
     },
     "execution_count": 101,
     "metadata": {},
     "output_type": "execute_result"
    }
   ],
   "source": [
    "# Formas de crear listas vacias\n",
    "\n",
    "lista = list()\n",
    "print(lista)\n",
    "\n",
    "lista2 = []\n",
    "lista2"
   ]
  },
  {
   "cell_type": "code",
   "execution_count": 106,
   "id": "04b1ebb8-0b42-4ded-88ce-47072350fc64",
   "metadata": {},
   "outputs": [
    {
     "name": "stdout",
     "output_type": "stream",
     "text": [
      "los planetas son  3 ['tierra', 'marte', 'jupiter']\n"
     ]
    }
   ],
   "source": [
    "#listas con valores iniciales\n",
    "\n",
    "planetas=['tierra','marte','jupiter']\n",
    "print(\"los planetas son \", len(planetas), planetas)"
   ]
  },
  {
   "cell_type": "code",
   "execution_count": 107,
   "id": "08062471-eef6-40e7-93fe-4f15f5c7a574",
   "metadata": {},
   "outputs": [
    {
     "data": {
      "text/plain": [
       "['cadena', 3, 4.5, True, [1, 2, 3]]"
      ]
     },
     "execution_count": 107,
     "metadata": {},
     "output_type": "execute_result"
    }
   ],
   "source": [
    "# continen elementos de diferentes tipos\n",
    "\n",
    "lista0 = ['cadena',3,4.5,True,[1,2,3]]\n",
    "lista0"
   ]
  },
  {
   "cell_type": "code",
   "execution_count": 108,
   "id": "782a3654-dc10-4ba2-9be1-99cab87bf367",
   "metadata": {},
   "outputs": [
    {
     "data": {
      "text/plain": [
       "'cadena'"
      ]
     },
     "execution_count": 108,
     "metadata": {},
     "output_type": "execute_result"
    }
   ],
   "source": [
    "# El indice de una lista comienza en 0\n",
    "\n",
    "lista0[0]"
   ]
  },
  {
   "cell_type": "code",
   "execution_count": null,
   "id": "62e90e1b-b004-4089-9a37-dcdf345fbc8e",
   "metadata": {},
   "outputs": [],
   "source": []
  }
 ],
 "metadata": {
  "kernelspec": {
   "display_name": "Python 3 (ipykernel)",
   "language": "python",
   "name": "python3"
  },
  "language_info": {
   "codemirror_mode": {
    "name": "ipython",
    "version": 3
   },
   "file_extension": ".py",
   "mimetype": "text/x-python",
   "name": "python",
   "nbconvert_exporter": "python",
   "pygments_lexer": "ipython3",
   "version": "3.9.12"
  }
 },
 "nbformat": 4,
 "nbformat_minor": 5
}
