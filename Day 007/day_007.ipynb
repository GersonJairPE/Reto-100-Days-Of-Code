{
 "cells": [
  {
   "cell_type": "markdown",
   "id": "95ea4ed3-fe89-42f6-ab1d-7c81a9684f87",
   "metadata": {},
   "source": [
    "# Día 7 (#100DaysOfCode)"
   ]
  },
  {
   "cell_type": "code",
   "execution_count": 5,
   "id": "93a67383-0b2e-4476-bec3-317984635c81",
   "metadata": {},
   "outputs": [],
   "source": [
    "# Continuacion de tuplas\n",
    "# Continen elementos de diferentes tipos\n",
    "\n",
    "lista0 = ['cadena',3,4.5,True,[1,2,3]]"
   ]
  },
  {
   "cell_type": "markdown",
   "id": "6b70bab3-fd22-426a-89c5-2999da838216",
   "metadata": {},
   "source": [
    "## 1. Obtener valores con índices"
   ]
  },
  {
   "cell_type": "code",
   "execution_count": 11,
   "id": "1f439fc8-0cab-4b37-8bf0-f3c0ed85e347",
   "metadata": {},
   "outputs": [
    {
     "data": {
      "text/plain": [
       "('cadena', 3, 4.5, [1, 2, 3])"
      ]
     },
     "execution_count": 11,
     "metadata": {},
     "output_type": "execute_result"
    }
   ],
   "source": [
    "lista0[0], lista0[1], lista0[2]"
   ]
  },
  {
   "cell_type": "code",
   "execution_count": 12,
   "id": "71ddfe7d-ac25-450f-93f3-6e515518f21f",
   "metadata": {},
   "outputs": [
    {
     "data": {
      "text/plain": [
       "([1, 2, 3], True, 4.5)"
      ]
     },
     "execution_count": 12,
     "metadata": {},
     "output_type": "execute_result"
    }
   ],
   "source": [
    "lista0[-1], lista0[-2],lista0[-3]"
   ]
  },
  {
   "cell_type": "markdown",
   "id": "9c6e096b-eacf-49d2-a446-cd8129fc72c9",
   "metadata": {},
   "source": [
    "## 2. Almacenamiento de valores de una lista"
   ]
  },
  {
   "cell_type": "code",
   "execution_count": 20,
   "id": "aa165a5a-9771-4d33-9432-de6770e298af",
   "metadata": {},
   "outputs": [],
   "source": [
    "# desempaquetado de valores de una lista\n",
    "# con *variable guardamos el resto de la lista\n",
    "one, two, three, *est = lista0"
   ]
  },
  {
   "cell_type": "code",
   "execution_count": 19,
   "id": "83161105-2479-4039-98e6-10a125e233ce",
   "metadata": {},
   "outputs": [
    {
     "data": {
      "text/plain": [
       "('cadena', 3, 4.5, [True, [1, 2, 3]])"
      ]
     },
     "execution_count": 19,
     "metadata": {},
     "output_type": "execute_result"
    }
   ],
   "source": [
    "one, two, three, est"
   ]
  },
  {
   "cell_type": "code",
   "execution_count": 23,
   "id": "c2869849-df7c-44fa-9038-94a3ba464ab2",
   "metadata": {},
   "outputs": [
    {
     "name": "stdout",
     "output_type": "stream",
     "text": [
      "Germany\n",
      "France\n",
      "Belgium\n",
      "Sweden\n",
      "['Denmark', 'Finland', 'Norway']\n",
      "Iceland\n",
      "Estonia\n"
     ]
    }
   ],
   "source": [
    "countries = ['Germany', 'France','Belgium','Sweden','Denmark','Finland','Norway','Iceland','Estonia']\n",
    "gr, fr, bg, sw, *scandic, ic, es = countries\n",
    "print(gr)\n",
    "print(fr)\n",
    "print(bg)\n",
    "print(sw)\n",
    "print(scandic)\n",
    "print(ic)\n",
    "print(es)"
   ]
  },
  {
   "cell_type": "markdown",
   "id": "b9d16e43-bc44-45e9-ae4c-8979bbc32ec3",
   "metadata": {},
   "source": [
    "## 3. Obtención de sublistas"
   ]
  },
  {
   "cell_type": "code",
   "execution_count": 35,
   "id": "33d93a9f-6150-4bce-8fb4-890954f346e0",
   "metadata": {},
   "outputs": [
    {
     "name": "stdout",
     "output_type": "stream",
     "text": [
      "['Juan', 'Carlos', 'Rodrigo']\n",
      "['Juan', 'Carlos', 'Rodrigo', 'Pedro', 'Gerson']\n",
      "['Carlos', 'Rodrigo']\n",
      "['Juan', 'Rodrigo', 'Gerson']\n"
     ]
    }
   ],
   "source": [
    "lista = ['Juan', 'Carlos', 'Rodrigo', 'Pedro', 'Gerson']\n",
    "\n",
    "print(lista[0:3]) #tres primeros elementos\n",
    "print(lista[0:]) #todos los elementos\n",
    "print(lista[1:3])\n",
    "print(lista[::2]) # el paso del recorrido es de 2 en 2"
   ]
  },
  {
   "cell_type": "code",
   "execution_count": 40,
   "id": "23a1ff2b-7d6c-4ccb-b6f2-f66e858284ac",
   "metadata": {},
   "outputs": [
    {
     "name": "stdout",
     "output_type": "stream",
     "text": [
      "['Rodrigo', 'Pedro']\n",
      "['Carlos', 'Rodrigo', 'Pedro', 'Gerson']\n",
      "['Carlos', 'Rodrigo']\n",
      "['Gerson', 'Rodrigo', 'Juan']\n"
     ]
    }
   ],
   "source": [
    "# con indices negativos\n",
    "\n",
    "print(lista[-3:-1]) #tres primeros elementos\n",
    "print(lista[-4:]) #todos los elementos\n",
    "print(lista[1:3])\n",
    "print(lista[::-2])"
   ]
  },
  {
   "cell_type": "markdown",
   "id": "1c5e1cae-05a8-4f5f-aac8-367980be5876",
   "metadata": {},
   "source": [
    "## 4. Modificación de listas"
   ]
  },
  {
   "cell_type": "code",
   "execution_count": 42,
   "id": "3fb75b49-65cb-4430-8092-ca5a3491afd3",
   "metadata": {},
   "outputs": [
    {
     "name": "stdout",
     "output_type": "stream",
     "text": [
      "['Pacheco', 'saitama', 'vegeta', 'Pedro', 'Pereyra']\n"
     ]
    }
   ],
   "source": [
    "lista = ['Juan', 'Carlos', 'Rodrigo', 'Pedro', 'Gerson']\n",
    "\n",
    "lista[0] = 'Pacheco'\n",
    "lista[1] = 'saitama'\n",
    "lista[2] = 'vegeta'\n",
    "lista[-1] = 'Pereyra'\n",
    "\n",
    "print(lista)"
   ]
  },
  {
   "cell_type": "markdown",
   "id": "eac4b5e5-c341-44a0-a592-3702f99e31c5",
   "metadata": {},
   "source": [
    "## 5. Verificación de valores en una lista con ```in```"
   ]
  },
  {
   "cell_type": "code",
   "execution_count": 45,
   "id": "73fa597b-e2be-41c0-8239-34e988ca2c23",
   "metadata": {},
   "outputs": [
    {
     "name": "stdout",
     "output_type": "stream",
     "text": [
      "True\n",
      "False\n"
     ]
    }
   ],
   "source": [
    "cantantes = ['Adele', 'Ed Sheeran', 'Farruko', 'Don Omar', 'Laura Pausini']\n",
    "\n",
    "print('Adele' in cantantes)\n",
    "print('ed sheeran' in cantantes)"
   ]
  },
  {
   "cell_type": "markdown",
   "id": "11f12e4d-8055-46b1-ae12-137484c03d45",
   "metadata": {},
   "source": [
    "## 6. Agregar elementos ```.append()```"
   ]
  },
  {
   "cell_type": "code",
   "execution_count": 1,
   "id": "7e1f4abf-4a6c-435f-8707-d76ea7e847bd",
   "metadata": {},
   "outputs": [
    {
     "data": {
      "text/plain": [
       "['escoba', 'tijera', 'papel']"
      ]
     },
     "execution_count": 1,
     "metadata": {},
     "output_type": "execute_result"
    }
   ],
   "source": [
    "cosas = []\n",
    "cosas.append('escoba')\n",
    "cosas.append('tijera')\n",
    "cosas.append('papel')\n",
    "cosas\n"
   ]
  },
  {
   "cell_type": "markdown",
   "id": "202afa64-ffdf-4fd0-830f-eaec4d8d26c0",
   "metadata": {},
   "source": [
    "## 7. Insertar ```.insert()```"
   ]
  },
  {
   "cell_type": "code",
   "execution_count": 51,
   "id": "9b42cd6e-df1d-4535-b19e-cd27e23562a5",
   "metadata": {},
   "outputs": [
    {
     "data": {
      "text/plain": [
       "['camisa', 'casaca', 'pantalón', 'polo', 'medias']"
      ]
     },
     "execution_count": 51,
     "metadata": {},
     "output_type": "execute_result"
    }
   ],
   "source": [
    "ropa = ['casaca', 'pantalón', 'polo', 'medias']\n",
    "ropa.insert(0, 'camisa') #admite dos valores, el primero es el lugar donde se va insertar y el segundo es el valor a agregar\n",
    "ropa\n"
   ]
  },
  {
   "cell_type": "markdown",
   "id": "8c6c2c46-b26f-41a9-9804-b2f69a1f7f43",
   "metadata": {},
   "source": [
    "## 8. Eliminar ```.remove(valor)```"
   ]
  },
  {
   "cell_type": "code",
   "execution_count": 52,
   "id": "b4ba2ea8-6a65-46b3-8032-d65662c61a09",
   "metadata": {},
   "outputs": [
    {
     "data": {
      "text/plain": [
       "['pantalón', 'polo', 'medias']"
      ]
     },
     "execution_count": 52,
     "metadata": {},
     "output_type": "execute_result"
    }
   ],
   "source": [
    "ropa = ['casaca', 'pantalón', 'polo', 'medias']\n",
    "ropa.remove('casaca') \n",
    "ropa"
   ]
  },
  {
   "cell_type": "markdown",
   "id": "566ebed3-30b3-41ee-917b-854e01d824ab",
   "metadata": {},
   "source": [
    "## 9. Eliminar ```.pop()```"
   ]
  },
  {
   "cell_type": "code",
   "execution_count": 56,
   "id": "aa6a9241-8ea8-4def-8166-3272c1d59857",
   "metadata": {},
   "outputs": [
    {
     "data": {
      "text/plain": [
       "['casaca', 'polo']"
      ]
     },
     "execution_count": 56,
     "metadata": {},
     "output_type": "execute_result"
    }
   ],
   "source": [
    "ropa = ['casaca', 'pantalón', 'polo', 'medias']\n",
    "ropa.pop() #elimina el ultimo item\n",
    "ropa.pop(1) #elimina en a posición dada\n",
    "ropa"
   ]
  },
  {
   "cell_type": "markdown",
   "id": "67bbcdee-c6b8-4831-b236-04c2d810ce9e",
   "metadata": {},
   "source": [
    "## 10. Eliminar ```del```"
   ]
  },
  {
   "cell_type": "code",
   "execution_count": 63,
   "id": "3f46d7f5-059e-480e-9506-9e784aedfdba",
   "metadata": {},
   "outputs": [],
   "source": [
    "ropa = ['casaca', 'pantalón', 'polo', 'medias']\n",
    "del ropa[0] #elimina solo un elemento en la posicion dada\n",
    "del ropa #elimina la lista en su totalidad con la variable creada"
   ]
  },
  {
   "cell_type": "markdown",
   "id": "fe12cecd-763e-4299-a6a1-53d11a30db55",
   "metadata": {},
   "source": [
    "## 11. Limpiar ```.clear()```"
   ]
  },
  {
   "cell_type": "code",
   "execution_count": 64,
   "id": "82f18f2f-0b2d-4d84-ba24-51aa270c314e",
   "metadata": {},
   "outputs": [
    {
     "data": {
      "text/plain": [
       "[]"
      ]
     },
     "execution_count": 64,
     "metadata": {},
     "output_type": "execute_result"
    }
   ],
   "source": [
    "ropa = ['casaca', 'pantalón', 'polo', 'medias']\n",
    "ropa.clear()\n",
    "ropa"
   ]
  },
  {
   "cell_type": "code",
   "execution_count": null,
   "id": "822d8e2c-97a9-48a8-9ee1-1ccaa44a6430",
   "metadata": {},
   "outputs": [],
   "source": []
  }
 ],
 "metadata": {
  "kernelspec": {
   "display_name": "Python 3 (ipykernel)",
   "language": "python",
   "name": "python3"
  },
  "language_info": {
   "codemirror_mode": {
    "name": "ipython",
    "version": 3
   },
   "file_extension": ".py",
   "mimetype": "text/x-python",
   "name": "python",
   "nbconvert_exporter": "python",
   "pygments_lexer": "ipython3",
   "version": "3.9.12"
  }
 },
 "nbformat": 4,
 "nbformat_minor": 5
}
