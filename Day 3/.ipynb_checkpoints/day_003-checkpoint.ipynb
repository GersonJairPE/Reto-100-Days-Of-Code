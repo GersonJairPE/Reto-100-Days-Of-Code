{
 "cells": [
  {
   "cell_type": "markdown",
   "id": "35e14c17-5aff-4afb-91a2-9f58329bc025",
   "metadata": {},
   "source": [
    "# Día 3 (#100DaysOfCode)"
   ]
  },
  {
   "cell_type": "markdown",
   "id": "065642c2-08dc-4a34-95ec-0a9c69bf09b7",
   "metadata": {},
   "source": [
    "## 1. Booleanos"
   ]
  },
  {
   "cell_type": "code",
   "execution_count": 3,
   "id": "62de9f04-ab85-4f38-9cca-0c246c013ca4",
   "metadata": {},
   "outputs": [
    {
     "name": "stdout",
     "output_type": "stream",
     "text": [
      "True\n",
      "False\n"
     ]
    }
   ],
   "source": [
    "booleano = True\n",
    "booleano2 = False\n",
    "\n",
    "print(booleano)\n",
    "print(booleano2)"
   ]
  },
  {
   "cell_type": "markdown",
   "id": "4ee179c9-1ab9-4ed2-9792-49468e95b711",
   "metadata": {},
   "source": [
    "## 2. Operadores de Asignacion"
   ]
  },
  {
   "cell_type": "code",
   "execution_count": 13,
   "id": "a55b18ee-810f-417a-bec6-95dc21ed4f99",
   "metadata": {},
   "outputs": [
    {
     "data": {
      "text/plain": [
       "7"
      ]
     },
     "execution_count": 13,
     "metadata": {},
     "output_type": "execute_result"
    }
   ],
   "source": [
    "var = 5\n",
    "\n",
    "# var = var + 5\n",
    "# var += 5\n",
    "\n",
    "# var = var - 4\n",
    "# var -=4\n",
    "\n",
    "# var *= 10\n",
    "# var = var * 10\n",
    "\n",
    "# var = var & 3\n",
    "var |= 3\n",
    "var"
   ]
  },
  {
   "cell_type": "markdown",
   "id": "bb63e048-e2ff-492b-b0ae-3092eead8902",
   "metadata": {},
   "source": [
    "## 3. Operadores aritméticos"
   ]
  },
  {
   "cell_type": "code",
   "execution_count": 24,
   "id": "909df601-0c1d-49ad-9a72-56091777f03b",
   "metadata": {},
   "outputs": [
    {
     "name": "stdout",
     "output_type": "stream",
     "text": [
      "30\n",
      "-10\n",
      "200\n",
      "0.5\n",
      "10\n",
      "0\n",
      "100000000000000000000\n",
      "(6+12j)\n",
      "(-28+36j)\n"
     ]
    }
   ],
   "source": [
    "a = 10\n",
    "b = 20\n",
    "\n",
    "print(a+b)\n",
    "print(a-b)\n",
    "print(a*b)\n",
    "print(a/b)\n",
    "print(a%b)\n",
    "print(a//b)\n",
    "print(a**b)\n",
    "\n",
    "x = 4 + 6j\n",
    "y = 2 + 6j\n",
    "\n",
    "print(x + y)\n",
    "print(x * y)"
   ]
  },
  {
   "cell_type": "code",
   "execution_count": 37,
   "id": "e4d58ee4-f5f2-4e2f-bf65-e9683f44744e",
   "metadata": {},
   "outputs": [
    {
     "data": {
      "text/plain": [
       "133.33333333333334"
      ]
     },
     "execution_count": 37,
     "metadata": {},
     "output_type": "execute_result"
    }
   ],
   "source": [
    "# Area de un circulo\n",
    "pi = 3.1416\n",
    "radio = 3\n",
    "\n",
    "area_circulo = pi * radio**2\n",
    "area_circulo\n",
    "\n",
    "# area de cuadrado\n",
    "\n",
    "lado = 4\n",
    "\n",
    "area_cuadrado = lado ** 2\n",
    "area_cuadrado\n",
    "\n",
    "\n",
    "# Peso de un objeto\n",
    "masa = 40\n",
    "gravedad = 9.81\n",
    "peso = masa * gravedad\n",
    "peso\n",
    "\n",
    "# Densidad de un liquido\n",
    "\n",
    "masa = 10\n",
    "volumen = 0.075\n",
    "\n",
    "densidad = masa / volumen\n",
    "densidad"
   ]
  },
  {
   "cell_type": "markdown",
   "id": "cae4ad22-674c-47e0-9d01-e181c484c7e8",
   "metadata": {},
   "source": [
    "## 4. Operadores de Comparación"
   ]
  },
  {
   "cell_type": "code",
   "execution_count": 48,
   "id": "5df0e89d-e8ac-4c91-a39a-ccd568543153",
   "metadata": {},
   "outputs": [
    {
     "name": "stdout",
     "output_type": "stream",
     "text": [
      "False\n",
      "False\n",
      "False\n",
      "True\n",
      "True\n",
      "True\n"
     ]
    }
   ],
   "source": [
    "dato1 = 10\n",
    "dato2 = 10\n",
    "\n",
    "\"\"\"\n",
    "print(dato1 == dato2) # Igualdad\n",
    "print(dato1 <= dato2)\n",
    "print(dato1 < dato2)\n",
    "print(dato1 >= dato2)\n",
    "print(dato1 > dato2)\n",
    "print(dato1 != dato2)\n",
    "\"\"\"\n",
    "\n",
    "texto1 = \"hola\"\n",
    "texto2 = \"como\"\n",
    "\n",
    "print(texto1 == texto2) # Igualdad\n",
    "print(texto1 <= texto2)\n",
    "print(texto1 < texto2)\n",
    "print(texto1 >= texto2)\n",
    "print(texto1 > texto2)\n",
    "print(texto1 != texto2)\n",
    "\n"
   ]
  },
  {
   "cell_type": "code",
   "execution_count": 57,
   "id": "a6b58852-04c9-4d66-8126-85a3de261671",
   "metadata": {},
   "outputs": [
    {
     "name": "stdout",
     "output_type": "stream",
     "text": [
      "True\n",
      "True\n",
      "False\n",
      "True\n"
     ]
    },
    {
     "name": "stderr",
     "output_type": "stream",
     "text": [
      "<>:3: SyntaxWarning: \"is\" with a literal. Did you mean \"==\"?\n",
      "<>:4: SyntaxWarning: \"is not\" with a literal. Did you mean \"!=\"?\n",
      "<>:3: SyntaxWarning: \"is\" with a literal. Did you mean \"==\"?\n",
      "<>:4: SyntaxWarning: \"is not\" with a literal. Did you mean \"!=\"?\n",
      "C:\\Users\\GERSON\\AppData\\Local\\Temp\\ipykernel_7588\\3512915935.py:3: SyntaxWarning: \"is\" with a literal. Did you mean \"==\"?\n",
      "  print(3 is 3)\n",
      "C:\\Users\\GERSON\\AppData\\Local\\Temp\\ipykernel_7588\\3512915935.py:4: SyntaxWarning: \"is not\" with a literal. Did you mean \"!=\"?\n",
      "  print(4 is not 5)\n"
     ]
    }
   ],
   "source": [
    "# comparacion con palabras reservadas\n",
    "\n",
    "print(3 is 3)\n",
    "print(4 is not 5)\n",
    "print('s' in 'radio')\n",
    "print('s' not in 'radio')"
   ]
  },
  {
   "cell_type": "markdown",
   "id": "85bf81ae-7608-4db0-a6a4-42db4677af46",
   "metadata": {},
   "source": [
    "## 5. Operadores Lógicos"
   ]
  },
  {
   "cell_type": "code",
   "execution_count": 67,
   "id": "b18adcc8-221f-4314-bc63-b1e0f78d1800",
   "metadata": {},
   "outputs": [
    {
     "name": "stdout",
     "output_type": "stream",
     "text": [
      "True\n",
      "False\n",
      "False\n",
      "True\n",
      "True\n"
     ]
    }
   ],
   "source": [
    "r = 4\n",
    "t = 5\n",
    "\n",
    "\"\"\"\n",
    "v and v = v\n",
    "v and f = f\n",
    "f and v = f\n",
    "f and f = f\n",
    "\"\"\"\n",
    "print(r > 1 and t > 2)\n",
    "print(True and False)\n",
    "\n",
    "\"\"\"\n",
    "v or v = v\n",
    "v or f = v\n",
    "f or v = v\n",
    "f or f =f\n",
    "\"\"\"\n",
    "\n",
    "print(r > 5 or t > 7)\n",
    "\n",
    "print(not(r > 5 or t > 7))\n",
    "\n",
    "print(True or (True and False))"
   ]
  },
  {
   "cell_type": "markdown",
   "id": "159f7183-5dcc-41a0-9323-4fd5a414dcd6",
   "metadata": {},
   "source": [
    "## 6. Ejercicios"
   ]
  },
  {
   "cell_type": "code",
   "execution_count": 74,
   "id": "92a21327-0809-4299-a5b1-8baa8f973738",
   "metadata": {},
   "outputs": [
    {
     "name": "stdin",
     "output_type": "stream",
     "text": [
      "ingrese la base del triangulo 20\n",
      "ingrese la altura del triangulo 10\n"
     ]
    },
    {
     "name": "stdout",
     "output_type": "stream",
     "text": [
      "El areal del triangulo es :  100.0\n"
     ]
    }
   ],
   "source": [
    "# 4\n",
    "# Area de un triangulo\n",
    "base = input(\"ingrese la base del triangulo\")\n",
    "altura = input(\"ingrese la altura del triangulo\")\n",
    "\n",
    "area_triangulo = 0.5 * float(base) * float(altura)\n",
    "\n",
    "print(\"El areal del triangulo es : \", area_triangulo)"
   ]
  },
  {
   "cell_type": "code",
   "execution_count": 78,
   "id": "b6ef1f37-7b69-44b2-9c92-aac1530036a4",
   "metadata": {},
   "outputs": [
    {
     "name": "stdout",
     "output_type": "stream",
     "text": [
      "False\n",
      "True\n"
     ]
    }
   ],
   "source": [
    "# 12 \n",
    "palabra1 = \"dragon\"\n",
    "palabra2 = \"python\"\n",
    "\n",
    "l1 = len(palabra1)\n",
    "l2 = len(palabra2)\n",
    "\n",
    "print(l1 != l2)"
   ]
  },
  {
   "cell_type": "code",
   "execution_count": 91,
   "id": "116d8bcb-e170-4d14-b994-77ea5777f453",
   "metadata": {},
   "outputs": [
    {
     "name": "stdout",
     "output_type": "stream",
     "text": [
      "True\n"
     ]
    }
   ],
   "source": [
    "# 13\n",
    "print(('on' in palabra1) or ('on' in palabra2))"
   ]
  },
  {
   "cell_type": "code",
   "execution_count": 80,
   "id": "739790f8-6c0a-4ada-b28d-fdbf9ea23c0e",
   "metadata": {},
   "outputs": [
    {
     "name": "stdout",
     "output_type": "stream",
     "text": [
      "False\n"
     ]
    }
   ],
   "source": [
    "# 14\n",
    "\n",
    "frase = \"Espero que este curso no esté lleno de jerga\"\n",
    "print('jergas' in frase)"
   ]
  },
  {
   "cell_type": "code",
   "execution_count": 83,
   "id": "3c6315b9-2475-4748-a86b-2c8068633f85",
   "metadata": {},
   "outputs": [
    {
     "data": {
      "text/plain": [
       "'6.0'"
      ]
     },
     "execution_count": 83,
     "metadata": {},
     "output_type": "execute_result"
    }
   ],
   "source": [
    "# 16\n",
    "\n",
    "palabra = \"python\"\n",
    "long = len(palabra)\n",
    "long = float(long)\n",
    "long = str(long)\n",
    "long"
   ]
  },
  {
   "cell_type": "code",
   "execution_count": 86,
   "id": "f916df04-d7ff-4b82-963d-2aa736dc3b53",
   "metadata": {},
   "outputs": [
    {
     "name": "stdout",
     "output_type": "stream",
     "text": [
      "2\n",
      "2\n",
      "True\n"
     ]
    }
   ],
   "source": [
    "# 18\n",
    "\n",
    "dato1 = int(2.7)\n",
    "print(dato1)\n",
    "dato2 = 7 // 3\n",
    "print(dato2)\n",
    "\n",
    "print(dato1 == dato2)"
   ]
  },
  {
   "cell_type": "code",
   "execution_count": 89,
   "id": "6a8522c1-c4ad-4bfb-a28d-6545a611b688",
   "metadata": {},
   "outputs": [
    {
     "name": "stdin",
     "output_type": "stream",
     "text": [
      "ingrese edad :  100\n"
     ]
    },
    {
     "name": "stdout",
     "output_type": "stream",
     "text": [
      "Usted esta viviendo:  3153600000  seg\n"
     ]
    }
   ],
   "source": [
    "# 22\n",
    "\n",
    "anios = input(\"ingrese edad : \")\n",
    "tiempo_vivido = int(anios)*365*24*60*60\n",
    "print(\"Usted esta viviendo: \",tiempo_vivido,\" seg\")"
   ]
  },
  {
   "cell_type": "code",
   "execution_count": 90,
   "id": "7594faa0-9c7f-4a73-9ec9-c5c6adcd1b23",
   "metadata": {},
   "outputs": [
    {
     "name": "stdout",
     "output_type": "stream",
     "text": [
      "1 1 1 1 1\n",
      "2 1 2 4 8\n",
      "3 1 3 9 27\n",
      "4 1 4 16 64\n",
      "5 1 5 25 125\n"
     ]
    }
   ],
   "source": [
    "# 23\n",
    "\n",
    "print(\"1\", 1**0, 1**1, 1**2, 1**3)\n",
    "print(\"2\", 2**0, 2**1, 2**2, 2**3)\n",
    "print(\"3\", 3**0, 3**1, 3**2, 3**3)\n",
    "print(\"4\", 4**0, 4**1, 4**2, 4**3)\n",
    "print(\"5\", 5**0, 5**1, 5**2, 5**3)"
   ]
  }
 ],
 "metadata": {
  "kernelspec": {
   "display_name": "Python 3 (ipykernel)",
   "language": "python",
   "name": "python3"
  },
  "language_info": {
   "codemirror_mode": {
    "name": "ipython",
    "version": 3
   },
   "file_extension": ".py",
   "mimetype": "text/x-python",
   "name": "python",
   "nbconvert_exporter": "python",
   "pygments_lexer": "ipython3",
   "version": "3.9.12"
  }
 },
 "nbformat": 4,
 "nbformat_minor": 5
}
