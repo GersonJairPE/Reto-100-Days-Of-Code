{
 "cells": [
  {
   "cell_type": "markdown",
   "id": "35e14c17-5aff-4afb-91a2-9f58329bc025",
   "metadata": {},
   "source": [
    "# Día 3 (#100DaysOfCode)"
   ]
  },
  {
   "cell_type": "markdown",
   "id": "065642c2-08dc-4a34-95ec-0a9c69bf09b7",
   "metadata": {},
   "source": [
    "## 1. Booleanos"
   ]
  },
  {
   "cell_type": "code",
   "execution_count": 3,
   "id": "62de9f04-ab85-4f38-9cca-0c246c013ca4",
   "metadata": {},
   "outputs": [
    {
     "name": "stdout",
     "output_type": "stream",
     "text": [
      "True\n",
      "False\n"
     ]
    }
   ],
   "source": [
    "booleano = True\n",
    "booleano2 = False\n",
    "\n",
    "print(booleano)\n",
    "print(booleano2)"
   ]
  },
  {
   "cell_type": "code",
   "execution_count": null,
   "id": "4f9426f1-9507-402e-97cd-42edf54574ec",
   "metadata": {},
   "outputs": [],
   "source": []
  }
 ],
 "metadata": {
  "kernelspec": {
   "display_name": "Python 3 (ipykernel)",
   "language": "python",
   "name": "python3"
  },
  "language_info": {
   "codemirror_mode": {
    "name": "ipython",
    "version": 3
   },
   "file_extension": ".py",
   "mimetype": "text/x-python",
   "name": "python",
   "nbconvert_exporter": "python",
   "pygments_lexer": "ipython3",
   "version": "3.9.12"
  }
 },
 "nbformat": 4,
 "nbformat_minor": 5
}
