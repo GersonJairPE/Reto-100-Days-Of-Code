{
 "cells": [
  {
   "cell_type": "markdown",
   "id": "b2d68162-4e19-4d96-9855-37f7ce91af83",
   "metadata": {},
   "source": [
    "# Día 18 (#100DaysOfCode)"
   ]
  },
  {
   "cell_type": "markdown",
   "id": "f506af60-5e11-4d5e-998e-9dd500c9cb18",
   "metadata": {},
   "source": [
    "## Funciones"
   ]
  },
  {
   "cell_type": "markdown",
   "id": "cafbcc4a-60a8-470e-acb8-c1da553eaebd",
   "metadata": {},
   "source": [
    "- Conjunto de instrucción que pueden ser reutilizados\n",
    "- recomendado para estructurar mejor el codigo y se vea más legible"
   ]
  },
  {
   "cell_type": "markdown",
   "id": "1334f4af-4955-4419-9b6b-2aac8fa9f1d1",
   "metadata": {},
   "source": [
    "## Ejercicios"
   ]
  },
  {
   "cell_type": "code",
   "execution_count": 16,
   "id": "de8ea857-6d6a-49be-bdfa-d15567bcb68e",
   "metadata": {},
   "outputs": [],
   "source": [
    "def evens_and_odds(number):\n",
    "    pares = []\n",
    "    impares = []\n",
    "    for i in range(1,number+1):\n",
    "        pares.append(i) if i%2 == 0 else impares.append(i) \n",
    "        \n",
    "    return print('pares: ',len(pares), 'imapres: ', len(impares))"
   ]
  },
  {
   "cell_type": "code",
   "execution_count": 18,
   "id": "1b5d8cd5-2278-4023-94a3-ef62123ba479",
   "metadata": {},
   "outputs": [
    {
     "name": "stdout",
     "output_type": "stream",
     "text": [
      "pares:  50 imapres:  50\n"
     ]
    }
   ],
   "source": [
    "evens_and_odds(100)"
   ]
  },
  {
   "cell_type": "code",
   "execution_count": 21,
   "id": "fe0a4061-a33a-49e6-b1e2-136438987864",
   "metadata": {},
   "outputs": [],
   "source": [
    "def factorial(n):\n",
    "    i=1\n",
    "    p=1\n",
    "    while i <= n:\n",
    "        p*=i\n",
    "        i+=1\n",
    "    return p"
   ]
  },
  {
   "cell_type": "code",
   "execution_count": 27,
   "id": "029194b6-7f4d-4547-872d-e25b5d6c60cb",
   "metadata": {},
   "outputs": [
    {
     "data": {
      "text/plain": [
       "40320"
      ]
     },
     "execution_count": 27,
     "metadata": {},
     "output_type": "execute_result"
    }
   ],
   "source": [
    "factorial(8)"
   ]
  }
 ],
 "metadata": {
  "kernelspec": {
   "display_name": "Python 3 (ipykernel)",
   "language": "python",
   "name": "python3"
  },
  "language_info": {
   "codemirror_mode": {
    "name": "ipython",
    "version": 3
   },
   "file_extension": ".py",
   "mimetype": "text/x-python",
   "name": "python",
   "nbconvert_exporter": "python",
   "pygments_lexer": "ipython3",
   "version": "3.9.12"
  }
 },
 "nbformat": 4,
 "nbformat_minor": 5
}
