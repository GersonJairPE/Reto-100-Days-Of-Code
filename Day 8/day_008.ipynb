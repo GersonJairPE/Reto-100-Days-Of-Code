{
 "cells": [
  {
   "cell_type": "markdown",
   "id": "e2e64aa5-2e17-4d3d-a5fa-909836fe12e4",
   "metadata": {},
   "source": [
    "# Día 8 (#100DaysOfCode)"
   ]
  },
  {
   "cell_type": "markdown",
   "id": "f1c1fa62-5e3c-4029-9e36-4bed9cc24500",
   "metadata": {},
   "source": [
    "## 1. Compiando listas ```.copy()```"
   ]
  },
  {
   "cell_type": "code",
   "execution_count": 3,
   "id": "ce21c82d-dfbe-4e03-855d-6418fa462946",
   "metadata": {},
   "outputs": [],
   "source": [
    "lista1 = [1,2,3,4]\n",
    "lista2 = lista1\n",
    "\n",
    "# si nostros modificamos la lista2 este cambio afecta a lista1 (original)"
   ]
  },
  {
   "cell_type": "code",
   "execution_count": 8,
   "id": "45b73f33-847b-402b-b6c2-6d2289caacf9",
   "metadata": {},
   "outputs": [
    {
     "data": {
      "text/plain": [
       "[1, 2, 3, 4, 'Camión']"
      ]
     },
     "execution_count": 8,
     "metadata": {},
     "output_type": "execute_result"
    }
   ],
   "source": [
    "lista1"
   ]
  },
  {
   "cell_type": "code",
   "execution_count": 7,
   "id": "4157f1a6-d261-4e6c-a790-3bcaeaf32f82",
   "metadata": {},
   "outputs": [
    {
     "data": {
      "text/plain": [
       "[1, 2, 3, 4, 'Camión']"
      ]
     },
     "execution_count": 7,
     "metadata": {},
     "output_type": "execute_result"
    }
   ],
   "source": [
    "lista2"
   ]
  },
  {
   "cell_type": "code",
   "execution_count": 6,
   "id": "044ddf63-0ebd-4740-bc1c-d09ad813a450",
   "metadata": {},
   "outputs": [],
   "source": [
    "lista2.append('Camión')"
   ]
  },
  {
   "cell_type": "code",
   "execution_count": 9,
   "id": "3526c1d1-bb9c-4b64-b7d7-b9d7c77e9241",
   "metadata": {},
   "outputs": [],
   "source": [
    "# Para no modificar la lista original utilizamos el metodo copy()\n",
    "\n",
    "lista1 = [1,2,3,4]\n",
    "lista2 = lista1.copy()"
   ]
  },
  {
   "cell_type": "code",
   "execution_count": 15,
   "id": "f4205982-c961-4365-a90b-b73a54c22456",
   "metadata": {},
   "outputs": [
    {
     "data": {
      "text/plain": [
       "[1, 2, 3, 4]"
      ]
     },
     "execution_count": 15,
     "metadata": {},
     "output_type": "execute_result"
    }
   ],
   "source": [
    "lista1"
   ]
  },
  {
   "cell_type": "code",
   "execution_count": 14,
   "id": "0b386bf7-61cb-4b62-804e-25b9484fa0f9",
   "metadata": {},
   "outputs": [
    {
     "data": {
      "text/plain": [
       "[1, 2, 3]"
      ]
     },
     "execution_count": 14,
     "metadata": {},
     "output_type": "execute_result"
    }
   ],
   "source": [
    "lista2"
   ]
  },
  {
   "cell_type": "code",
   "execution_count": 12,
   "id": "2572b8db-b80b-49a1-b0cf-9b27e5748ea1",
   "metadata": {},
   "outputs": [
    {
     "data": {
      "text/plain": [
       "4"
      ]
     },
     "execution_count": 12,
     "metadata": {},
     "output_type": "execute_result"
    }
   ],
   "source": [
    "lista2.pop()"
   ]
  },
  {
   "cell_type": "markdown",
   "id": "e389a9ea-3532-4816-8dd6-c69532b85e45",
   "metadata": {},
   "source": [
    "## 2. Unión de listas ```+``` / ```.extend(lista)```"
   ]
  },
  {
   "cell_type": "code",
   "execution_count": 16,
   "id": "91eb9adb-c91b-4bc9-b526-569c409d3eb5",
   "metadata": {},
   "outputs": [
    {
     "data": {
      "text/plain": [
       "[1, 2, 3, 4, 5, 6, 7, 8]"
      ]
     },
     "execution_count": 16,
     "metadata": {},
     "output_type": "execute_result"
    }
   ],
   "source": [
    "#hay varios metodos para unir listas\n",
    "#+\n",
    "lista1 = [1,2,3,4]\n",
    "lista2 = [5,6,7,8]\n",
    "lista_total = lista1+lista2\n",
    "lista_total"
   ]
  },
  {
   "cell_type": "code",
   "execution_count": 20,
   "id": "2722bfde-2392-49f4-9727-26c25b7c1522",
   "metadata": {},
   "outputs": [
    {
     "data": {
      "text/plain": [
       "[1, 2, 3, 4, 5, 6, 7, 8]"
      ]
     },
     "execution_count": 20,
     "metadata": {},
     "output_type": "execute_result"
    }
   ],
   "source": [
    "# con .extend()\n",
    "# lo que hace es agregar la informacion de la lista2 a la lista1 lo que se debe mostrar es la lista1\n",
    "lista1 = [1,2,3,4]\n",
    "lista2 = [5,6,7,8]\n",
    "lista1.extend(lista2)\n",
    "lista1"
   ]
  },
  {
   "cell_type": "markdown",
   "id": "646333f8-313c-40d2-9320-eefdeeaa429d",
   "metadata": {},
   "source": [
    "## 3. Conteo de elementos ```.count(elemento)```"
   ]
  },
  {
   "cell_type": "code",
   "execution_count": 34,
   "id": "08d5e8de-cd05-4b25-9f89-a8aa125a7afa",
   "metadata": {},
   "outputs": [
    {
     "data": {
      "text/plain": [
       "4"
      ]
     },
     "execution_count": 34,
     "metadata": {},
     "output_type": "execute_result"
    }
   ],
   "source": [
    "lista1 = [1,2,3,4,4,3,2,4,5,7,8,5,6,7,3,4,5,6,7]\n",
    "lista1.count(4) # numero de veces que se repite un valor"
   ]
  },
  {
   "cell_type": "markdown",
   "id": "e2244ca2-0430-41a9-b81b-d65cda3b77f6",
   "metadata": {},
   "source": [
    "## 4. Encontrar indice de un elemento ```.index(elemento)```"
   ]
  },
  {
   "cell_type": "code",
   "execution_count": 29,
   "id": "499dfb95-ac4e-4f70-b54d-6e43928052f7",
   "metadata": {},
   "outputs": [
    {
     "data": {
      "text/plain": [
       "5"
      ]
     },
     "execution_count": 29,
     "metadata": {},
     "output_type": "execute_result"
    }
   ],
   "source": [
    "lista1 = [1,2,2,4,4,3,2,4,5,7,8,5,6,7,3,4,5,6,7]\n",
    "lista1.index(3) #muestra el primer indice que coincide"
   ]
  },
  {
   "cell_type": "markdown",
   "id": "44ed58a0-3296-4da9-b39c-779ed4201033",
   "metadata": {},
   "source": [
    "## 5. Invertir lista ```.reverse()```"
   ]
  },
  {
   "cell_type": "code",
   "execution_count": 33,
   "id": "4f09e23c-63e4-46a2-9035-36e924d5a85b",
   "metadata": {},
   "outputs": [
    {
     "data": {
      "text/plain": [
       "[9, 8, 7, 6, 5, 4, 3, 2, 1]"
      ]
     },
     "execution_count": 33,
     "metadata": {},
     "output_type": "execute_result"
    }
   ],
   "source": [
    "lista = [1,2,3,4,5,6,7,8,9]\n",
    "lista.reverse()\n",
    "lista"
   ]
  },
  {
   "cell_type": "markdown",
   "id": "f7624f66-0322-4c81-b93f-3cf7e284e0cd",
   "metadata": {},
   "source": [
    "## 6. Ordenamiento de listas ```.sort(reverse = True)``` / ```sorted(lista, reverse = True)```"
   ]
  },
  {
   "cell_type": "code",
   "execution_count": 37,
   "id": "af67d2f1-342b-4934-b672-ba684545c671",
   "metadata": {},
   "outputs": [
    {
     "data": {
      "text/plain": [
       "[8, 7, 7, 7, 6, 6, 5, 5, 5, 4, 4, 4, 4, 3, 3, 2, 2, 2, 1]"
      ]
     },
     "execution_count": 37,
     "metadata": {},
     "output_type": "execute_result"
    }
   ],
   "source": [
    "lista1 = [1,2,2,4,4,3,2,4,5,7,8,5,6,7,3,4,5,6,7]\n",
    "lista1.sort()\n",
    "lista1.sort(reverse=True)\n",
    "lista1"
   ]
  },
  {
   "cell_type": "code",
   "execution_count": 41,
   "id": "52b052de-7298-4af4-9c9f-a4fd499cdeee",
   "metadata": {},
   "outputs": [
    {
     "data": {
      "text/plain": [
       "([0, 2, 3, 4, 1, 2, 7, 3, 5, 6],\n",
       " [0, 1, 2, 2, 3, 3, 4, 5, 6, 7],\n",
       " [7, 6, 5, 4, 3, 3, 2, 2, 1, 0])"
      ]
     },
     "execution_count": 41,
     "metadata": {},
     "output_type": "execute_result"
    }
   ],
   "source": [
    "lista = [0,2,3,4,1,2,7,3,5,6]\n",
    "lista2 = sorted(lista)\n",
    "lista3 = sorted(lista, reverse = True)\n",
    "lista, lista2, lista3"
   ]
  },
  {
   "cell_type": "markdown",
   "id": "c62d39f6-ae31-4493-bbb8-dd985210a589",
   "metadata": {},
   "source": [
    "## Ejercicios lvl2"
   ]
  },
  {
   "cell_type": "code",
   "execution_count": 45,
   "id": "d0b40e7f-fd98-43b0-8701-90f6743beca5",
   "metadata": {},
   "outputs": [
    {
     "name": "stdout",
     "output_type": "stream",
     "text": [
      "edad minima 19\n",
      "edad maxima 26\n"
     ]
    }
   ],
   "source": [
    "# 1\n",
    "ages = [19, 22, 19, 24, 20, 25, 26, 24, 25, 24]\n",
    "\n",
    "ages_copy = sorted(ages)\n",
    "\n",
    "print('edad minima', ages_copy[0])\n",
    "print('edad maxima', ages_copy[len(ages_copy)-1])"
   ]
  },
  {
   "cell_type": "code",
   "execution_count": 55,
   "id": "0208ccb3-e96f-49e8-b93d-8a76a780373d",
   "metadata": {},
   "outputs": [
    {
     "data": {
      "text/plain": [
       "[19, 19, 20, 22, 24, 24, 24, 25, 25, 26]"
      ]
     },
     "execution_count": 55,
     "metadata": {},
     "output_type": "execute_result"
    }
   ],
   "source": [
    "ages_copy"
   ]
  },
  {
   "cell_type": "code",
   "execution_count": 62,
   "id": "b6ba2bfb-757d-4094-b409-77473101f28b",
   "metadata": {},
   "outputs": [
    {
     "data": {
      "text/plain": [
       "26"
      ]
     },
     "execution_count": 62,
     "metadata": {},
     "output_type": "execute_result"
    }
   ],
   "source": [
    "edad_mediana = (ages[int(len(ages)/2)] + ages[int((len(ages)/2)+1)]) /2\n",
    "round(edad_mediana)"
   ]
  },
  {
   "cell_type": "code",
   "execution_count": 61,
   "id": "90cc98af-0bb5-4527-80b7-209c31b89c1d",
   "metadata": {},
   "outputs": [
    {
     "data": {
      "text/plain": [
       "23"
      ]
     },
     "execution_count": 61,
     "metadata": {},
     "output_type": "execute_result"
    }
   ],
   "source": [
    "edad_promedio = sum(ages)/len(ages)\n",
    "round(edad_promedio)"
   ]
  },
  {
   "cell_type": "code",
   "execution_count": 64,
   "id": "9ccbbe15-4ffd-4259-8581-4f69b4b8a1c6",
   "metadata": {},
   "outputs": [
    {
     "data": {
      "text/plain": [
       "7"
      ]
     },
     "execution_count": 64,
     "metadata": {},
     "output_type": "execute_result"
    }
   ],
   "source": [
    "#rango de edades\n",
    "ages_copy[len(ages_copy)-1] - ages_copy[0]"
   ]
  },
  {
   "cell_type": "code",
   "execution_count": 67,
   "id": "4a470139-e937-4a4a-b612-2b6cc9fe09b4",
   "metadata": {},
   "outputs": [
    {
     "data": {
      "text/plain": [
       "(3.8000000000000007, 3.1999999999999993)"
      ]
     },
     "execution_count": 67,
     "metadata": {},
     "output_type": "execute_result"
    }
   ],
   "source": [
    "# min - promedio , max - promedio\n",
    "abs(ages_copy[0] - edad_promedio), abs(ages_copy[len(ages_copy)-1] - edad_promedio)"
   ]
  },
  {
   "cell_type": "code",
   "execution_count": 68,
   "id": "8b9c94ca-d17f-451b-891e-cb0050ea6bd8",
   "metadata": {},
   "outputs": [],
   "source": [
    "# ejercicio 2\n",
    "\n",
    "countries = [\n",
    "  'Afghanistan',\n",
    "  'Albania',\n",
    "  'Algeria',\n",
    "  'Andorra',\n",
    "  'Angola',\n",
    "  'Antigua and Barbuda',\n",
    "  'Argentina',\n",
    "  'Armenia',\n",
    "  'Australia',\n",
    "  'Austria',\n",
    "  'Azerbaijan',\n",
    "  'Bahamas',\n",
    "  'Bahrain',\n",
    "  'Bangladesh',\n",
    "  'Barbados',\n",
    "  'Belarus',\n",
    "  'Belgium',\n",
    "  'Belize',\n",
    "  'Benin',\n",
    "  'Bhutan',\n",
    "  'Bolivia',\n",
    "  'Bosnia and Herzegovina',\n",
    "  'Botswana',\n",
    "  'Brazil',\n",
    "  'Brunei',\n",
    "  'Bulgaria',\n",
    "  'Burkina Faso',\n",
    "  'Burundi',\n",
    "  'Cambodia',\n",
    "  'Cameroon',\n",
    "  'Canada',\n",
    "  'Cape Verde',\n",
    "  'Central African Republic',\n",
    "  'Chad',\n",
    "  'Chile',\n",
    "  'China',\n",
    "  'Colombi',\n",
    "  'Comoros',\n",
    "  'Congo (Brazzaville)',\n",
    "  'Congo',\n",
    "  'Costa Rica',\n",
    "  \"Cote d'Ivoire\",\n",
    "  'Croatia',\n",
    "  'Cuba',\n",
    "  'Cyprus',\n",
    "  'Czech Republic',\n",
    "  'Denmark',\n",
    "  'Djibouti',\n",
    "  'Dominica',\n",
    "  'Dominican Republic',\n",
    "  'East Timor (Timor Timur)',\n",
    "  'Ecuador',\n",
    "  'Egypt',\n",
    "  'El Salvador',\n",
    "  'Equatorial Guinea',\n",
    "  'Eritrea',\n",
    "  'Estonia',\n",
    "  'Ethiopia',\n",
    "  'Fiji',\n",
    "  'Finland',\n",
    "  'France',\n",
    "  'Gabon',\n",
    "  'Gambia, The',\n",
    "  'Georgia',\n",
    "  'Germany',\n",
    "  'Ghana',\n",
    "  'Greece',\n",
    "  'Grenada',\n",
    "  'Guatemala',\n",
    "  'Guinea',\n",
    "  'Guinea-Bissau',\n",
    "  'Guyana',\n",
    "  'Haiti',\n",
    "  'Honduras',\n",
    "  'Hungary',\n",
    "  'Iceland',\n",
    "  'India',\n",
    "  'Indonesia',\n",
    "  'Iran',\n",
    "  'Iraq',\n",
    "  'Ireland',\n",
    "  'Israel',\n",
    "  'Italy',\n",
    "  'Jamaica',\n",
    "  'Japan',\n",
    "  'Jordan',\n",
    "  'Kazakhstan',\n",
    "  'Kenya',\n",
    "  'Kiribati',\n",
    "  'Korea, North',\n",
    "  'Korea, South',\n",
    "  'Kuwait',\n",
    "  'Kyrgyzstan',\n",
    "  'Laos',\n",
    "  'Latvia',\n",
    "  'Lebanon',\n",
    "  'Lesotho',\n",
    "  'Liberia',\n",
    "  'Libya',\n",
    "  'Liechtenstein',\n",
    "  'Lithuania',\n",
    "  'Luxembourg',\n",
    "  'Macedonia',\n",
    "  'Madagascar',\n",
    "  'Malawi',\n",
    "  'Malaysia',\n",
    "  'Maldives',\n",
    "  'Mali',\n",
    "  'Malta',\n",
    "  'Marshall Islands',\n",
    "  'Mauritania',\n",
    "  'Mauritius',\n",
    "  'Mexico',\n",
    "  'Micronesia',\n",
    "  'Moldova',\n",
    "  'Monaco',\n",
    "  'Mongolia',\n",
    "  'Morocco',\n",
    "  'Mozambique',\n",
    "  'Myanmar',\n",
    "  'Namibia',\n",
    "  'Nauru',\n",
    "  'Nepal',\n",
    "  'Netherlands',\n",
    "  'New Zealand',\n",
    "  'Nicaragua',\n",
    "  'Niger',\n",
    "  'Nigeria',\n",
    "  'Norway',\n",
    "  'Oman',\n",
    "  'Pakistan',\n",
    "  'Palau',\n",
    "  'Panama',\n",
    "  'Papua New Guinea',\n",
    "  'Paraguay',\n",
    "  'Peru',\n",
    "  'Philippines',\n",
    "  'Poland',\n",
    "  'Portugal',\n",
    "  'Qatar',\n",
    "  'Romania',\n",
    "  'Russia',\n",
    "  'Rwanda',\n",
    "  'Saint Kitts and Nevis',\n",
    "  'Saint Lucia',\n",
    "  'Saint Vincent',\n",
    "  'Samoa',\n",
    "  'San Marino',\n",
    "  'Sao Tome and Principe',\n",
    "  'Saudi Arabia',\n",
    "  'Senegal',\n",
    "  'Serbia and Montenegro',\n",
    "  'Seychelles',\n",
    "  'Sierra Leone',\n",
    "  'Singapore',\n",
    "  'Slovakia',\n",
    "  'Slovenia',\n",
    "  'Solomon Islands',\n",
    "  'Somalia',\n",
    "  'South Africa',\n",
    "  'Spain',\n",
    "  'Sri Lanka',\n",
    "  'Sudan',\n",
    "  'Suriname',\n",
    "  'Swaziland',\n",
    "  'Sweden',\n",
    "  'Switzerland',\n",
    "  'Syria',\n",
    "  'Taiwan',\n",
    "  'Tajikistan',\n",
    "  'Tanzania',\n",
    "  'Thailand',\n",
    "  'Togo',\n",
    "  'Tonga',\n",
    "  'Trinidad and Tobago',\n",
    "  'Tunisia',\n",
    "  'Turkey',\n",
    "  'Turkmenistan',\n",
    "  'Tuvalu',\n",
    "  'Uganda',\n",
    "  'Ukraine',\n",
    "  'United Arab Emirates',\n",
    "  'United Kingdom',\n",
    "  'United States',\n",
    "  'Uruguay',\n",
    "  'Uzbekistan',\n",
    "  'Vanuatu',\n",
    "  'Vatican City',\n",
    "  'Venezuela',\n",
    "  'Vietnam',\n",
    "  'Yemen',\n",
    "  'Zambia',\n",
    "  'Zimbabwe',\n",
    "]"
   ]
  },
  {
   "cell_type": "code",
   "execution_count": 75,
   "id": "3039341e-76cc-4a79-87d3-4ac34305a9ac",
   "metadata": {},
   "outputs": [
    {
     "data": {
      "text/plain": [
       "193"
      ]
     },
     "execution_count": 75,
     "metadata": {},
     "output_type": "execute_result"
    }
   ],
   "source": [
    "len(countries)"
   ]
  },
  {
   "cell_type": "code",
   "execution_count": 77,
   "id": "02f1a630-2184-408e-a375-ac48e922d3f7",
   "metadata": {},
   "outputs": [
    {
     "data": {
      "text/plain": [
       "(96, 97)"
      ]
     },
     "execution_count": 77,
     "metadata": {},
     "output_type": "execute_result"
    }
   ],
   "source": [
    "paises_part1 = countries[0:(len(countries)//2)]\n",
    "paises_part2 = countries[(len(countries)//2):len(countries)]\n",
    "len(paises_part1), len(paises_part2)"
   ]
  },
  {
   "cell_type": "code",
   "execution_count": null,
   "id": "b019379c-71a2-46e2-bcd7-329ae352b91d",
   "metadata": {},
   "outputs": [],
   "source": []
  }
 ],
 "metadata": {
  "kernelspec": {
   "display_name": "Python 3 (ipykernel)",
   "language": "python",
   "name": "python3"
  },
  "language_info": {
   "codemirror_mode": {
    "name": "ipython",
    "version": 3
   },
   "file_extension": ".py",
   "mimetype": "text/x-python",
   "name": "python",
   "nbconvert_exporter": "python",
   "pygments_lexer": "ipython3",
   "version": "3.9.12"
  }
 },
 "nbformat": 4,
 "nbformat_minor": 5
}
