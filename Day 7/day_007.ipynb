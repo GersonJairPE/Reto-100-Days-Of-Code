{
 "cells": [
  {
   "cell_type": "markdown",
   "id": "95ea4ed3-fe89-42f6-ab1d-7c81a9684f87",
   "metadata": {},
   "source": [
    "# Día 7 (#100DaysOfCode)"
   ]
  },
  {
   "cell_type": "code",
   "execution_count": 3,
   "id": "93a67383-0b2e-4476-bec3-317984635c81",
   "metadata": {},
   "outputs": [],
   "source": [
    "#Continuacion de tuplas"
   ]
  },
  {
   "cell_type": "code",
   "execution_count": null,
   "id": "1f439fc8-0cab-4b37-8bf0-f3c0ed85e347",
   "metadata": {},
   "outputs": [],
   "source": []
  }
 ],
 "metadata": {
  "kernelspec": {
   "display_name": "Python 3 (ipykernel)",
   "language": "python",
   "name": "python3"
  },
  "language_info": {
   "codemirror_mode": {
    "name": "ipython",
    "version": 3
   },
   "file_extension": ".py",
   "mimetype": "text/x-python",
   "name": "python",
   "nbconvert_exporter": "python",
   "pygments_lexer": "ipython3",
   "version": "3.9.12"
  }
 },
 "nbformat": 4,
 "nbformat_minor": 5
}
